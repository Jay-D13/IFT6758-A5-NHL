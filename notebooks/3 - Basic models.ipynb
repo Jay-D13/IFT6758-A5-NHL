{
 "cells": [
  {
   "cell_type": "code",
   "execution_count": 1,
   "metadata": {},
   "outputs": [],
   "source": [
    "%load_ext autoreload\n",
    "%autoreload 2"
   ]
  },
  {
   "cell_type": "code",
   "execution_count": 23,
   "metadata": {},
   "outputs": [],
   "source": [
    "from ift6758.training import BasicModel\n",
    "import numpy as np\n",
    "from sklearn.model_selection import train_test_split\n",
    "from sklearn.linear_model import LogisticRegression"
   ]
  },
  {
   "cell_type": "code",
   "execution_count": 8,
   "metadata": {},
   "outputs": [],
   "source": [
    "import pandas as pd\n",
    "data_path_clean = '../ift6758/data/json_clean/'\n",
    "# print out a pandas head of the data\n",
    "data_2016 = pd.read_pickle(data_path_clean + '2016/2016.pkl')\n",
    "data_2017 = pd.read_pickle(data_path_clean + '2017/2017.pkl')\n",
    "data_2018 = pd.read_pickle(data_path_clean + '2018/2018.pkl')\n",
    "data_2019 = pd.read_pickle(data_path_clean + '2019/2019.pkl')\n",
    "data_2020 = pd.read_pickle(data_path_clean + '2020/2020.pkl')"
   ]
  },
  {
   "cell_type": "code",
   "execution_count": 45,
   "metadata": {},
   "outputs": [],
   "source": [
    "train_val = pd.concat([data_2016, data_2017, data_2018, data_2019])\n",
    "\n",
    "train_val.loc[train_val['opposite_team_side'] == 'left', 'x'] = -train_val.loc[train_val['opposite_team_side'] == 'left', 'x']\n",
    "train_val.loc[train_val['opposite_team_side'] == 'left', 'y'] = -train_val.loc[train_val['opposite_team_side'] == 'left', 'y']"
   ]
  },
  {
   "cell_type": "code",
   "execution_count": 46,
   "metadata": {},
   "outputs": [],
   "source": [
    "train_val['distance'] = np.sqrt((90.0 - train_val['x'])**2 + (train_val['y'])**2)\n",
    "train_val['isAGoal'] = train_val['event_type'] == 'GOAL'\n",
    "train_val = train_val[(train_val['distance'].notna()) & (train_val['isAGoal'].notna())]\n",
    "X_all = train_val['distance']\n",
    "y_all = train_val['isAGoal'].astype(int)\n",
    "\n",
    "X_train, X_val, y_train, y_val = train_test_split(X_all, y_all, test_size=0.2, random_state=42)"
   ]
  },
  {
   "cell_type": "code",
   "execution_count": 50,
   "metadata": {},
   "outputs": [
    {
     "name": "stderr",
     "output_type": "stream",
     "text": [
      "\u001b[1;38;5;214mCOMET WARNING:\u001b[0m As you are running in a Jupyter environment, you will need to call `experiment.end()` when finished to ensure all metrics and code are logged before exiting.\n",
      "\u001b[1;38;5;214mCOMET WARNING:\u001b[0m Unknown error exporting current conda environment\n",
      "\u001b[1;38;5;214mCOMET WARNING:\u001b[0m Unknown error retrieving Conda package as an explicit file\n",
      "\u001b[1;38;5;214mCOMET WARNING:\u001b[0m Unknown error retrieving Conda information\n",
      "\u001b[1;38;5;39mCOMET INFO:\u001b[0m Experiment is live on comet.com https://www.comet.com/ift6758-a5-nhl/milestone2/b26c357cfc234c339de5cf3cca62d131\n",
      "\n",
      "\u001b[1;38;5;39mCOMET INFO:\u001b[0m ---------------------------------------------------------------------------------------\n",
      "\u001b[1;38;5;39mCOMET INFO:\u001b[0m Comet.ml Experiment Summary\n",
      "\u001b[1;38;5;39mCOMET INFO:\u001b[0m ---------------------------------------------------------------------------------------\n",
      "\u001b[1;38;5;39mCOMET INFO:\u001b[0m   Data:\n",
      "\u001b[1;38;5;39mCOMET INFO:\u001b[0m     display_summary_level : 1\n",
      "\u001b[1;38;5;39mCOMET INFO:\u001b[0m     url                   : https://www.comet.com/ift6758-a5-nhl/milestone2/b26c357cfc234c339de5cf3cca62d131\n",
      "\u001b[1;38;5;39mCOMET INFO:\u001b[0m   Metrics:\n",
      "\u001b[1;38;5;39mCOMET INFO:\u001b[0m     accuracy : 0.9060236041047884\n",
      "\u001b[1;38;5;39mCOMET INFO:\u001b[0m   Others:\n",
      "\u001b[1;38;5;39mCOMET INFO:\u001b[0m     Name : test-pipeline\n",
      "\u001b[1;38;5;39mCOMET INFO:\u001b[0m   Parameters:\n",
      "\u001b[1;38;5;39mCOMET INFO:\u001b[0m     C                 : 1.0\n",
      "\u001b[1;38;5;39mCOMET INFO:\u001b[0m     class_weight      : 1\n",
      "\u001b[1;38;5;39mCOMET INFO:\u001b[0m     classifier        : <class 'sklearn.linear_model._logistic.LogisticRegression'>\n",
      "\u001b[1;38;5;39mCOMET INFO:\u001b[0m     dual              : False\n",
      "\u001b[1;38;5;39mCOMET INFO:\u001b[0m     fit_intercept     : True\n",
      "\u001b[1;38;5;39mCOMET INFO:\u001b[0m     intercept_scaling : 1\n",
      "\u001b[1;38;5;39mCOMET INFO:\u001b[0m     l1_ratio          : 1\n",
      "\u001b[1;38;5;39mCOMET INFO:\u001b[0m     max_iter          : 100\n",
      "\u001b[1;38;5;39mCOMET INFO:\u001b[0m     multi_class       : auto\n",
      "\u001b[1;38;5;39mCOMET INFO:\u001b[0m     n_jobs            : 1\n",
      "\u001b[1;38;5;39mCOMET INFO:\u001b[0m     penalty           : l2\n",
      "\u001b[1;38;5;39mCOMET INFO:\u001b[0m     random_state      : 1\n",
      "\u001b[1;38;5;39mCOMET INFO:\u001b[0m     solver            : lbfgs\n",
      "\u001b[1;38;5;39mCOMET INFO:\u001b[0m     tol               : 0.0001\n",
      "\u001b[1;38;5;39mCOMET INFO:\u001b[0m     verbose           : 0\n",
      "\u001b[1;38;5;39mCOMET INFO:\u001b[0m     warm_start        : False\n",
      "\u001b[1;38;5;39mCOMET INFO:\u001b[0m   Uploads:\n",
      "\u001b[1;38;5;39mCOMET INFO:\u001b[0m     environment details      : 1\n",
      "\u001b[1;38;5;39mCOMET INFO:\u001b[0m     filename                 : 1\n",
      "\u001b[1;38;5;39mCOMET INFO:\u001b[0m     git metadata             : 1\n",
      "\u001b[1;38;5;39mCOMET INFO:\u001b[0m     git-patch (uncompressed) : 1 (4.62 KB)\n",
      "\u001b[1;38;5;39mCOMET INFO:\u001b[0m     installed packages       : 1\n",
      "\u001b[1;38;5;39mCOMET INFO:\u001b[0m     model-element            : 1 (674 bytes)\n",
      "\u001b[1;38;5;39mCOMET INFO:\u001b[0m     notebook                 : 1\n",
      "\u001b[1;38;5;39mCOMET INFO:\u001b[0m     source_code              : 1\n",
      "\u001b[1;38;5;39mCOMET INFO:\u001b[0m \n"
     ]
    },
    {
     "data": {
      "text/plain": [
       "(LogisticRegression(), array([0, 0, 0, ..., 0, 0, 0]))"
      ]
     },
     "execution_count": 50,
     "metadata": {},
     "output_type": "execute_result"
    }
   ],
   "source": [
    "baseModel = BasicModel(clf=LogisticRegression(), exp_name='test-pipeline')\n",
    "baseModel.run(X_train.values.reshape(-1, 1), y_train.values, X_val.values.reshape(-1, 1), y_val.values, save_to='../train/exp/test-pipeline/')"
   ]
  }
 ],
 "metadata": {
  "kernelspec": {
   "display_name": "ift6758-conda-env",
   "language": "python",
   "name": "python3"
  },
  "language_info": {
   "codemirror_mode": {
    "name": "ipython",
    "version": 3
   },
   "file_extension": ".py",
   "mimetype": "text/x-python",
   "name": "python",
   "nbconvert_exporter": "python",
   "pygments_lexer": "ipython3",
   "version": "3.11.5"
  }
 },
 "nbformat": 4,
 "nbformat_minor": 2
}
