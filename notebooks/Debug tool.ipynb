{
 "cells": [
  {
   "cell_type": "code",
   "execution_count": 2,
   "id": "c45b2cd1-ffad-4a03-90ee-b33be167c407",
   "metadata": {},
   "outputs": [
    {
     "name": "stdout",
     "output_type": "stream",
     "text": [
      "Loading cached data in cache\\pickleFiles\\2016.pkl\n",
      "1332 cached games found for year 2016\n"
     ]
    }
   ],
   "source": [
    "from ift6758.data.acquisition import Season\n",
    "\n",
    "season_list = {}\n",
    "for year in range(2016, 2021):\n",
    "    new_season = Season(year=year, data_path=f'./cache/pickleFiles/{year}.pkl')\n",
    "    season_list[year] = new_season"
   ]
  },
  {
   "cell_type": "code",
   "execution_count": 5,
   "id": "a179e701",
   "metadata": {},
   "outputs": [
    {
     "data": {
      "application/vnd.jupyter.widget-view+json": {
       "model_id": "47a7e3749d4f43d69aa2d91a8b7f1151",
       "version_major": 2,
       "version_minor": 0
      },
      "text/plain": [
       "Dropdown(description='Season Type :', options=('Regular', 'Playoff'), value='Regular')"
      ]
     },
     "metadata": {},
     "output_type": "display_data"
    },
    {
     "data": {
      "application/vnd.jupyter.widget-view+json": {
       "model_id": "0ee5431417054a5ba59468f391bdfc90",
       "version_major": 2,
       "version_minor": 0
      },
      "text/plain": [
       "IntSlider(value=2016, description='Season :', max=2020, min=2016)"
      ]
     },
     "metadata": {},
     "output_type": "display_data"
    },
    {
     "data": {
      "application/vnd.jupyter.widget-view+json": {
       "model_id": "5bd628dd363f459198d23609ec778b3c",
       "version_major": 2,
       "version_minor": 0
      },
      "text/plain": [
       "IntSlider(value=0, description='Game Index :', max=1229)"
      ]
     },
     "metadata": {},
     "output_type": "display_data"
    },
    {
     "data": {
      "application/vnd.jupyter.widget-view+json": {
       "model_id": "d04039518da84b60894fe51baf7c8f41",
       "version_major": 2,
       "version_minor": 0
      },
      "text/plain": [
       "HTML(value='2016-10-12T23:00:00Z<br>Game ID : 2016020001 &nbsp OTT (home) vs TOR (away) <br>Summary :<table>  …"
      ]
     },
     "metadata": {},
     "output_type": "display_data"
    },
    {
     "data": {
      "application/vnd.jupyter.widget-view+json": {
       "model_id": "7ad68380350948328c92bc5af3a8b8a8",
       "version_major": 2,
       "version_minor": 0
      },
      "text/plain": [
       "IntSlider(value=0, description='Event ID :', max=357)"
      ]
     },
     "metadata": {},
     "output_type": "display_data"
    },
    {
     "data": {
      "application/vnd.jupyter.widget-view+json": {
       "model_id": "cc4424d355ea4b709f9718c2497bcec5",
       "version_major": 2,
       "version_minor": 0
      },
      "text/plain": [
       "Output()"
      ]
     },
     "metadata": {},
     "output_type": "display_data"
    },
    {
     "data": {
      "application/vnd.jupyter.widget-view+json": {
       "model_id": "b098318d418b49c59acd81d3b6d73ae8",
       "version_major": 2,
       "version_minor": 0
      },
      "text/plain": [
       "HTML(value='<pre id=\"json\"> {{\\n  \"about\": {\\n    \"dateTime\": \"2016-10-12T21:55:06Z\",\\n    \"eventId\": 1,\\n    …"
      ]
     },
     "metadata": {},
     "output_type": "display_data"
    }
   ],
   "source": [
    "from ift6758.data.acquisition import SeasonType\n",
    "import ipywidgets as widgets\n",
    "import json\n",
    "import matplotlib.pyplot as plt\n",
    "from datetime import datetime\n",
    "\n",
    "def get_games_for_season_and_seasonType(season_type: SeasonType, season:int):\n",
    "    return [item for item in season_list[season].data if season_type.value in str(item['gamePk'])[4:6]]\n",
    "\n",
    "year_slider = widgets.IntSlider(\n",
    "    min=2016, \n",
    "    max=2020, \n",
    "    description='Season :')\n",
    "\n",
    "seasonType_selector = widgets.Dropdown(\n",
    "    options=[item.name.capitalize() for item in SeasonType],\n",
    "    value=SeasonType.REGULAR.name.capitalize(),\n",
    "    description='Season Type :',\n",
    "    disabled=False,\n",
    ")\n",
    "\n",
    "game_id_slider = widgets.IntSlider(\n",
    "    min=0, \n",
    "    max=1350, \n",
    "    description='Game Index :')\n",
    "\n",
    "game_summary_desc = widgets.HTML(\n",
    "    value=\"Game date\",\n",
    ")\n",
    "\n",
    "event_id_slider = widgets.IntSlider(\n",
    "    min=0, \n",
    "    max=1350, \n",
    "    description='Event ID :')\n",
    "\n",
    "event_desc = widgets.HTML(\n",
    "    value = \"Event data\"\n",
    ")\n",
    "\n",
    "out = widgets.Output()\n",
    "\n",
    "all_games = []\n",
    "selectedGame = None\n",
    "\n",
    "def update_plot(event_id = 0):\n",
    "    global selectedGame\n",
    "    with out:\n",
    "        plt.close('all')\n",
    "        plt.ioff()\n",
    "        out.clear_output(wait=True)\n",
    "        nhl_rink_img = plt.imread('../figures/nhl_rink.png')\n",
    "        fig, ax = plt.subplots()\n",
    "\n",
    "        ax.imshow(nhl_rink_img, extent=[-100.0,100.0,-42.5,42.5])\n",
    "\n",
    "        if selectedGame is not None and len(selectedGame['liveData']['plays']['allPlays']) > 0:\n",
    "            event = selectedGame['liveData']['plays']['allPlays'][event_id]\n",
    "\n",
    "            dateFormat = \"%Y-%m-%dT%H:%M:%SZ\"\n",
    "            event_date = datetime.strptime(event['about']['dateTime'], dateFormat)\n",
    "            home_name = selectedGame['gameData']['teams']['home']['abbreviation']\n",
    "            away_name = selectedGame['gameData']['teams']['away']['abbreviation']\n",
    "\n",
    "            right_tag = ''\n",
    "            left_tag = ''\n",
    "\n",
    "            periodsInfo = selectedGame['liveData']['linescore']['periods']\n",
    "            for period in periodsInfo:\n",
    "                period_start_time = datetime.strptime(period['startTime'], dateFormat)\n",
    "                period_end_time = datetime.strptime(period['endTime'], dateFormat)\n",
    "\n",
    "                if event_date >= period_start_time and event_date <= period_end_time:\n",
    "                    homeSide = period['home']['rinkSide']\n",
    "                    if homeSide == 'left':\n",
    "                        left_tag = home_name\n",
    "                        right_tag = away_name\n",
    "                    else:\n",
    "                        right_tag = home_name\n",
    "                        left_tag = away_name\n",
    "            \n",
    "            if right_tag == '':\n",
    "                homeSide = periodsInfo[0]['home']['rinkSide']\n",
    "                if homeSide == 'left':\n",
    "                    left_tag = home_name\n",
    "                    right_tag = away_name\n",
    "                else:\n",
    "                    right_tag = home_name\n",
    "                    left_tag = away_name\n",
    "\n",
    "            ax.set_title(f\"{event['result']['description']}\"\n",
    "                        f\"\\n{event['about']['periodTime']}  -  P{event['about']['period']}\"\n",
    "                        f\"\\n{left_tag}                                              {right_tag}\"\n",
    "                        )\n",
    "            \n",
    "            coordinates = event['coordinates']\n",
    "            if 'x' in coordinates:\n",
    "                ax.plot(coordinates['x'], coordinates['y'], 'bo')\n",
    "            display(fig)\n",
    "        else:\n",
    "            out.clear_output()\n",
    "\n",
    "def on_value_change(year, season_type):\n",
    "    global all_games \n",
    "    global selectedGame\n",
    "    all_games.clear()\n",
    "    all_games = get_games_for_season_and_seasonType(SeasonType[season_type.upper()], year)\n",
    "    game_id_slider.value = 0\n",
    "    game_id_slider.max = (len(all_games) - 1) if len(all_games) > 0 else 0\n",
    "    update_game_summary(0)\n",
    "\n",
    "def on_year_change(change):\n",
    "    on_value_change(year=change['new'], season_type=seasonType_selector.value)\n",
    "\n",
    "def on_seasonType_change(change):\n",
    "    on_value_change(year=year_slider.value, season_type=change['new'])\n",
    "\n",
    "def update_game_summary(game_id):\n",
    "    global all_games\n",
    "    global selectedGame\n",
    "    \n",
    "    selectedGame = all_games[game_id]\n",
    "    dateTime = selectedGame['gameData']['datetime']\n",
    "    events = selectedGame['liveData']['plays']['allPlays']\n",
    "    event_id_slider.value = 0\n",
    "    event_id_slider.max = (len(events) - 1) if len(events) > 0 else 0\n",
    "    update_event_info(0)\n",
    "    game_summary_desc.value = (f'{dateTime[\"dateTime\"]}<br>' \n",
    "        f'Game ID : {selectedGame[\"gamePk\"]} &nbsp {selectedGame[\"gameData\"][\"teams\"][\"home\"][\"abbreviation\"]} (home) vs {selectedGame[\"gameData\"][\"teams\"][\"away\"][\"abbreviation\"]} (away) <br>'\n",
    "        'Summary :'\n",
    "        '<table>'\n",
    "        '   <tr>'\n",
    "        '       <th></th>'\n",
    "        '       <th>Home</th>'\n",
    "        '       <th>Away</th>'\n",
    "        '   </tr>'\n",
    "        '   <tr>'\n",
    "        '       <td>Teams</td>'\n",
    "        f'       <td>{selectedGame[\"gameData\"][\"teams\"][\"home\"][\"abbreviation\"]}</td>'\n",
    "        f'       <td>{selectedGame[\"gameData\"][\"teams\"][\"away\"][\"abbreviation\"]}</td>'\n",
    "        '   </tr>'\n",
    "        '   <tr>'\n",
    "        '       <td>Goals</th>'\n",
    "        f'       <td>{selectedGame[\"liveData\"][\"linescore\"][\"teams\"][\"home\"][\"goals\"]}</td>'\n",
    "        f'       <td>{selectedGame[\"liveData\"][\"linescore\"][\"teams\"][\"away\"][\"goals\"]}</td>'\n",
    "        '   </tr>'\n",
    "        '   <tr>'\n",
    "        '       <td>SoG</td>'\n",
    "        f'       <td>{selectedGame[\"liveData\"][\"linescore\"][\"teams\"][\"home\"][\"shotsOnGoal\"]}</td>'\n",
    "        f'       <td>{selectedGame[\"liveData\"][\"linescore\"][\"teams\"][\"away\"][\"shotsOnGoal\"]}</td>'\n",
    "        '   </tr>'\n",
    "        '   <tr>'\n",
    "        '       <td>SO Goals</td>'\n",
    "        f'       <td>{selectedGame[\"liveData\"][\"linescore\"][\"shootoutInfo\"][\"home\"][\"scores\"]}</td>'\n",
    "        f'       <td>{selectedGame[\"liveData\"][\"linescore\"][\"shootoutInfo\"][\"away\"][\"scores\"]}</td>'\n",
    "        '   </tr>'\n",
    "        '   <tr>'\n",
    "        '       <td>SO Attempts</td>'\n",
    "        f'       <td>{selectedGame[\"liveData\"][\"linescore\"][\"shootoutInfo\"][\"home\"][\"attempts\"]}</td>'\n",
    "        f'       <td>{selectedGame[\"liveData\"][\"linescore\"][\"shootoutInfo\"][\"away\"][\"attempts\"]}</td>'\n",
    "        '   </tr>'\n",
    "        \n",
    "        )\n",
    "\n",
    "def update_event_info(event_id):\n",
    "    global selectedGame\n",
    "    if len(selectedGame['liveData']['plays']['allPlays']) > 0:\n",
    "        event = selectedGame['liveData']['plays']['allPlays'][event_id]\n",
    "        event_desc.value = '<pre id=\"json\"> {' + json.dumps(event, indent=2, sort_keys=True) + '}</pre>'\n",
    "    else:\n",
    "        event_desc.value = 'No event to show'\n",
    "    update_plot(event_id)\n",
    "\n",
    "def on_event_id_change(change):\n",
    "    update_event_info(change['new'])\n",
    "\n",
    "def on_game_id_change(change):\n",
    "    update_game_summary(change['new'])\n",
    "\n",
    "year_slider.observe(on_year_change, names='value')\n",
    "seasonType_selector.observe(on_seasonType_change, names='value')\n",
    "game_id_slider.observe(on_game_id_change, names='value')\n",
    "\n",
    "on_value_change(year_slider.value, seasonType_selector.value)\n",
    "event_id_slider.observe(on_event_id_change, names='value')\n",
    "\n",
    "display(\n",
    "    seasonType_selector, \n",
    "    year_slider, \n",
    "    game_id_slider,\n",
    "    game_summary_desc,\n",
    "    event_id_slider,\n",
    "    out,\n",
    "    event_desc)"
   ]
  }
 ],
 "metadata": {
  "kernelspec": {
   "display_name": "ift6758-conda-env",
   "language": "python",
   "name": "python3"
  },
  "language_info": {
   "codemirror_mode": {
    "name": "ipython",
    "version": 3
   },
   "file_extension": ".py",
   "mimetype": "text/x-python",
   "name": "python",
   "nbconvert_exporter": "python",
   "pygments_lexer": "ipython3",
   "version": "3.11.5"
  }
 },
 "nbformat": 4,
 "nbformat_minor": 5
}
