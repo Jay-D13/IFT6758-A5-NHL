{
 "cells": [
  {
   "cell_type": "code",
   "execution_count": 1,
   "id": "473c1e4c-7120-4b94-89d0-474e867ba850",
   "metadata": {},
   "outputs": [],
   "source": [
    "from ift6758.data.acquisition import NHLGameData"
   ]
  },
  {
   "cell_type": "code",
   "execution_count": 2,
   "id": "9b13fb61-9be9-4ff6-9eb9-6ef79e988c93",
   "metadata": {},
   "outputs": [],
   "source": [
    "data_path_raw = './../ift6758/data/json_raw/'\n",
    "nhl_games_data = NHLGameData(data_path_raw)"
   ]
  },
  {
   "cell_type": "code",
   "execution_count": 3,
   "id": "43b754a3-6083-4df8-9988-b6a3ad1b367e",
   "metadata": {},
   "outputs": [
    {
     "name": "stdout",
     "output_type": "stream",
     "text": [
      "Loading from cache file ./../ift6758/data/json_raw/2016/2016-regular.pkl\n",
      "Found 1230 regular games for season 2016-2017\n",
      "Loading from cache file ./../ift6758/data/json_raw/2016/2016-playoff.pkl\n",
      "Found 102 playoff games for season 2016-2017\n",
      "Loading from cache file ./../ift6758/data/json_raw/2017/2017-regular.pkl\n",
      "Found 1271 regular games for season 2017-2018\n",
      "Loading from cache file ./../ift6758/data/json_raw/2017/2017-playoff.pkl\n",
      "Found 105 playoff games for season 2017-2018\n",
      "Loading from cache file ./../ift6758/data/json_raw/2018/2018-regular.pkl\n",
      "Found 1271 regular games for season 2018-2019\n",
      "Loading from cache file ./../ift6758/data/json_raw/2018/2018-playoff.pkl\n",
      "Found 105 playoff games for season 2018-2019\n",
      "Loading from cache file ./../ift6758/data/json_raw/2019/2019-regular.pkl\n",
      "Found 1271 regular games for season 2019-2020\n",
      "Loading from cache file ./../ift6758/data/json_raw/2019/2019-playoff.pkl\n",
      "Found 105 playoff games for season 2019-2020\n",
      "Loading from cache file ./../ift6758/data/json_raw/2020/2020-regular.pkl\n",
      "Found 868 regular games for season 2020-2021\n",
      "Loading from cache file ./../ift6758/data/json_raw/2020/2020-playoff.pkl\n",
      "Found 105 playoff games for season 2020-2021\n"
     ]
    }
   ],
   "source": [
    "for year in range(2016,2021):\n",
    "    nhl_games_data.fetch_season(year)"
   ]
  },
  {
   "cell_type": "code",
   "execution_count": 4,
   "id": "e8c1e1b1-67b7-4140-be3e-e085b529dadf",
   "metadata": {},
   "outputs": [],
   "source": [
    "from ift6758.data.cleaning import DataCleaner\n"
   ]
  },
  {
   "cell_type": "code",
   "execution_count": 5,
   "id": "c8604bea-76c6-48ca-a0a2-015e9678634f",
   "metadata": {},
   "outputs": [],
   "source": [
    "data_path_clean = './../ift6758/data/json_clean/'\n",
    "data_cleaner = DataCleaner(data_raw=nhl_games_data, data_path_clean=data_path_clean)"
   ]
  },
  {
   "cell_type": "code",
   "execution_count": 6,
   "id": "9f6bc2b4-a8fe-4fb4-ad0e-78890e0f52b0",
   "metadata": {},
   "outputs": [],
   "source": [
    "for year in range(2016,2021):\n",
    "    data_cleaner.clean_season(year)"
   ]
  },
  {
   "cell_type": "code",
   "execution_count": 7,
   "id": "50b43fc8-99e0-4d77-b067-5a3e8f7c70b8",
   "metadata": {},
   "outputs": [],
   "source": [
    "from ift6758.visualizations import Visualizer"
   ]
  },
  {
   "cell_type": "code",
   "execution_count": 8,
   "id": "d1e60ef5-05b1-4f38-8bac-c7ddc2497e5f",
   "metadata": {},
   "outputs": [],
   "source": [
    "vis_2016 = Visualizer(data_path_clean, 2016)\n",
    "vis_2017 = Visualizer(data_path_clean, 2017)\n",
    "vis_2018 = Visualizer(data_path_clean, 2018)\n",
    "vis_2019 = Visualizer(data_path_clean, 2019)\n",
    "vis_2020 = Visualizer(data_path_clean, 2020)\n"
   ]
  },
  {
   "cell_type": "code",
   "execution_count": 9,
   "id": "644025d1-5f63-44b8-8545-0d408165fc5b",
   "metadata": {},
   "outputs": [
    {
     "data": {
      "text/html": [
       "<div>\n",
       "<style scoped>\n",
       "    .dataframe tbody tr th:only-of-type {\n",
       "        vertical-align: middle;\n",
       "    }\n",
       "\n",
       "    .dataframe tbody tr th {\n",
       "        vertical-align: top;\n",
       "    }\n",
       "\n",
       "    .dataframe thead th {\n",
       "        text-align: right;\n",
       "    }\n",
       "</style>\n",
       "<table border=\"1\" class=\"dataframe\">\n",
       "  <thead>\n",
       "    <tr style=\"text-align: right;\">\n",
       "      <th></th>\n",
       "      <th>shot_counts</th>\n",
       "      <th>goal_counts</th>\n",
       "      <th>probability_goal</th>\n",
       "    </tr>\n",
       "    <tr>\n",
       "      <th>shot_type</th>\n",
       "      <th></th>\n",
       "      <th></th>\n",
       "      <th></th>\n",
       "    </tr>\n",
       "  </thead>\n",
       "  <tbody>\n",
       "    <tr>\n",
       "      <th>Backhand</th>\n",
       "      <td>6738</td>\n",
       "      <td>795</td>\n",
       "      <td>0.117988</td>\n",
       "    </tr>\n",
       "    <tr>\n",
       "      <th>Deflected</th>\n",
       "      <td>1541</td>\n",
       "      <td>249</td>\n",
       "      <td>0.161583</td>\n",
       "    </tr>\n",
       "    <tr>\n",
       "      <th>Slap Shot</th>\n",
       "      <td>11935</td>\n",
       "      <td>767</td>\n",
       "      <td>0.064265</td>\n",
       "    </tr>\n",
       "    <tr>\n",
       "      <th>Snap Shot</th>\n",
       "      <td>11693</td>\n",
       "      <td>1181</td>\n",
       "      <td>0.101001</td>\n",
       "    </tr>\n",
       "    <tr>\n",
       "      <th>Tip-In</th>\n",
       "      <td>4425</td>\n",
       "      <td>750</td>\n",
       "      <td>0.169492</td>\n",
       "    </tr>\n",
       "    <tr>\n",
       "      <th>Wrap-around</th>\n",
       "      <td>837</td>\n",
       "      <td>58</td>\n",
       "      <td>0.069295</td>\n",
       "    </tr>\n",
       "    <tr>\n",
       "      <th>Wrist Shot</th>\n",
       "      <td>45887</td>\n",
       "      <td>4191</td>\n",
       "      <td>0.091333</td>\n",
       "    </tr>\n",
       "  </tbody>\n",
       "</table>\n",
       "</div>"
      ],
      "text/plain": [
       "             shot_counts  goal_counts  probability_goal\n",
       "shot_type                                              \n",
       "Backhand            6738          795          0.117988\n",
       "Deflected           1541          249          0.161583\n",
       "Slap Shot          11935          767          0.064265\n",
       "Snap Shot          11693         1181          0.101001\n",
       "Tip-In              4425          750          0.169492\n",
       "Wrap-around          837           58          0.069295\n",
       "Wrist Shot         45887         4191          0.091333"
      ]
     },
     "execution_count": 9,
     "metadata": {},
     "output_type": "execute_result"
    }
   ],
   "source": [
    "vis_2018.getShotProbabilities()\n"
   ]
  },
  {
   "cell_type": "code",
   "execution_count": 10,
   "id": "dd5fd49b-e6d6-47aa-a79e-b00d1b1ca018",
   "metadata": {},
   "outputs": [
    {
     "data": {
      "image/png": "[encoded data removed]",
      "text/plain": [
       "<Figure size 640x480 with 1 Axes>"
      ]
     },
     "metadata": {},
     "output_type": "display_data"
    }
   ],
   "source": [
    "probs_2018 = vis_2018.getShotProbabilities()\n",
    "probs_2018 = probs_2018.reset_index()\n",
    "probs_2018\n",
    "plot_probs_2018 = probs_2018.plot(kind = 'bar', title = 'P(goal|shot type) for the 2018-2019 season',x = 'shot_type', xlabel = 'Shot Type', y = 'probability_goal', ylabel = 'Probability of a Goal',ylim = (0.0, 0.3))\n"
   ]
  },
  {
   "cell_type": "code",
   "execution_count": 11,
   "id": "bbed30fd-a3df-4e43-b551-6cc6a9394948",
   "metadata": {},
   "outputs": [],
   "source": [
    "goals_2018 = vis_2018.getShotDistances('GOAL')\n",
    "goals_2019 = vis_2019.getShotDistances('GOAL')\n",
    "goals_2020 = vis_2020.getShotDistances('GOAL')\n"
   ]
  },
  {
   "cell_type": "code",
   "execution_count": 12,
   "id": "b01d1a8b-d38e-4b61-bf55-3f28bca05730",
   "metadata": {},
   "outputs": [],
   "source": [
    "shots_2018 = vis_2018.getShotDistances('SHOT')\n",
    "shots_2019 = vis_2019.getShotDistances('SHOT')\n",
    "shots_2020 = vis_2020.getShotDistances('SHOT')\n",
    "\n"
   ]
  },
  {
   "cell_type": "code",
   "execution_count": 13,
   "id": "3ee479f3-efa8-4fd9-982f-e35b34dd63c0",
   "metadata": {},
   "outputs": [],
   "source": [
    "all_2018 = vis_2018.getShotDistances()\n",
    "all_2019 = vis_2019.getShotDistances()\n",
    "all_2020 = vis_2020.getShotDistances()\n"
   ]
  },
  {
   "cell_type": "code",
   "execution_count": 14,
   "id": "68110444-c2ba-455c-a9bc-dd921fe8f033",
   "metadata": {},
   "outputs": [
    {
     "data": {
      "text/plain": [
       "Text(0.5, 1.0, 'NHL 2018-2019 Season')"
      ]
     },
     "execution_count": 14,
     "metadata": {},
     "output_type": "execute_result"
    },
    {
     "data": {
      "image/png": "[encoded data removed]",
      "text/plain": [
       "<Figure size 640x480 with 1 Axes>"
      ]
     },
     "metadata": {},
     "output_type": "display_data"
    },
    {
     "data": {
      "image/png": "[encoded data removed]",
      "text/plain": [
       "<Figure size 640x480 with 1 Axes>"
      ]
     },
     "metadata": {},
     "output_type": "display_data"
    },
    {
     "data": {
      "image/png": "[encoded data removed]",
      "text/plain": [
       "<Figure size 640x480 with 1 Axes>"
      ]
     },
     "metadata": {},
     "output_type": "display_data"
    }
   ],
   "source": [
    "import scipy.stats as sp\n",
    "import numpy as np\n",
    "import matplotlib.pyplot as plt\n",
    "goals_2018 = goals_2018.loc[goals_2018['distance_from_net']<=120.0]\n",
    "shots_2018 = shots_2018.loc[shots_2018['distance_from_net']<=120.0]\n",
    "all_2018 = all_2018.loc[all_2018['distance_from_net']<=120.0]\n",
    "\n",
    "fig = plt.figure()\n",
    "plt.hist(goals_2018['distance_from_net'], bins = 20, color = 'green')\n",
    "plt.xlabel('distance')\n",
    "plt.ylabel('# Goals')\n",
    "plt.title('NHL 2018-2019 Season')\n",
    "\n",
    "fig2 = plt.figure()\n",
    "plt.hist(shots_2018['distance_from_net'], bins = 20, color = 'orange')\n",
    "plt.xlabel('distance')\n",
    "plt.ylabel('# Misses')\n",
    "plt.title('NHL 2018-2019 Season')\n",
    "\n",
    "fig3 = plt.figure()\n",
    "plt.hist(all_2018['distance_from_net'], bins = 20, color = 'turquoise')\n",
    "plt.xlabel('distance')\n",
    "plt.ylabel('total shots and goals')\n",
    "plt.title('NHL 2018-2019 Season')\n"
   ]
  },
  {
   "cell_type": "code",
   "execution_count": 15,
   "id": "f1939ac7-3508-4550-92d5-64cb38dec44c",
   "metadata": {},
   "outputs": [
    {
     "data": {
      "text/plain": [
       "Text(0.5, 1.0, 'NHL 2019-2020 Season')"
      ]
     },
     "execution_count": 15,
     "metadata": {},
     "output_type": "execute_result"
    },
    {
     "data": {
      "image/png": "[encoded data removed]",
      "text/plain": [
       "<Figure size 640x480 with 1 Axes>"
      ]
     },
     "metadata": {},
     "output_type": "display_data"
    },
    {
     "data": {
      "image/png": "[encoded data removed]",
      "text/plain": [
       "<Figure size 640x480 with 1 Axes>"
      ]
     },
     "metadata": {},
     "output_type": "display_data"
    },
    {
     "data": {
      "image/png": "[encoded data removed]",
      "text/plain": [
       "<Figure size 640x480 with 1 Axes>"
      ]
     },
     "metadata": {},
     "output_type": "display_data"
    }
   ],
   "source": [
    "goals_2019 = goals_2019.loc[goals_2019['distance_from_net']<=120.0]\n",
    "shots_2019 = shots_2019.loc[shots_2019['distance_from_net']<=120.0]\n",
    "all_2019 = all_2019.loc[all_2019['distance_from_net']<=120.0]\n",
    "\n",
    "fig = plt.figure()\n",
    "plt.hist(goals_2019['distance_from_net'], bins = 20, color = 'green')\n",
    "plt.xlabel('distance')\n",
    "plt.ylabel('# Goals')\n",
    "plt.title('NHL 2019-2020 Season')\n",
    "\n",
    "fig2 = plt.figure()\n",
    "plt.hist(shots_2019['distance_from_net'], bins = 20, color = 'orange')\n",
    "plt.xlabel('distance')\n",
    "plt.ylabel('# Misses')\n",
    "plt.title('NHL 2019-2020 Season')\n",
    "\n",
    "fig3 = plt.figure()\n",
    "plt.hist(all_2019['distance_from_net'], bins = 20, color = 'turquoise')\n",
    "plt.xlabel('distance')\n",
    "plt.ylabel('total shots and goals')\n",
    "plt.title('NHL 2019-2020 Season')\n"
   ]
  },
  {
   "cell_type": "code",
   "execution_count": 16,
   "id": "1b862b3d-7232-4e1d-aa37-297fa036cf0e",
   "metadata": {},
   "outputs": [
    {
     "data": {
      "text/plain": [
       "Text(0.5, 1.0, 'NHL 2020-2021 Season')"
      ]
     },
     "execution_count": 16,
     "metadata": {},
     "output_type": "execute_result"
    },
    {
     "data": {
      "image/png": "[encoded data removed]",
      "text/plain": [
       "<Figure size 640x480 with 1 Axes>"
      ]
     },
     "metadata": {},
     "output_type": "display_data"
    },
    {
     "data": {
      "image/png": "[encoded data removed]",
      "text/plain": [
       "<Figure size 640x480 with 1 Axes>"
      ]
     },
     "metadata": {},
     "output_type": "display_data"
    },
    {
     "data": {
      "image/png": "[encoded data removed]",
      "text/plain": [
       "<Figure size 640x480 with 1 Axes>"
      ]
     },
     "metadata": {},
     "output_type": "display_data"
    }
   ],
   "source": [
    "goals_2020 = goals_2020.loc[goals_2020['distance_from_net']<=120.0]\n",
    "shots_2020 = shots_2020.loc[shots_2020['distance_from_net']<=120.0]\n",
    "all_2020 = all_2020.loc[all_2020['distance_from_net']<=120.0]\n",
    "\n",
    "fig = plt.figure()\n",
    "plt.hist(goals_2020['distance_from_net'], bins = 20, color = 'green')\n",
    "plt.xlabel('distance')\n",
    "plt.ylabel('# Goals')\n",
    "plt.title('NHL 2020-2021 Season')\n",
    "\n",
    "fig2 = plt.figure()\n",
    "plt.hist(shots_2020['distance_from_net'], bins = 20, color = 'orange')\n",
    "plt.xlabel('distance')\n",
    "plt.ylabel('# Misses')\n",
    "plt.title('NHL 2020-2021 Season')\n",
    "\n",
    "fig3 = plt.figure()\n",
    "plt.hist(all_2020['distance_from_net'], bins = 20, color = 'turquoise')\n",
    "plt.xlabel('distance')\n",
    "plt.ylabel('total shots and goals')\n",
    "plt.title('NHL 2020-2021 Season')\n"
   ]
  },
  {
   "cell_type": "code",
   "execution_count": 17,
   "id": "32e3c8a3-5a6c-4301-974e-2c0b82da79e9",
   "metadata": {},
   "outputs": [
    {
     "name": "stderr",
     "output_type": "stream",
     "text": [
      "/var/folders/kh/9byhbtv143g1nvv18g1cs9240000gn/T/ipykernel_8688/2162421365.py:8: UserWarning: You have mixed positional and keyword arguments, some input may be discarded.\n",
      "  fig.legend([L1,L2,L3],title = 'NHL Season', labels =  ['2018-2019', '2019-2020', '2020-2021'])\n",
      "/var/folders/kh/9byhbtv143g1nvv18g1cs9240000gn/T/ipykernel_8688/2162421365.py:9: UserWarning: FigureCanvasAgg is non-interactive, and thus cannot be shown\n",
      "  fig.show()\n"
     ]
    },
    {
     "data": {
      "image/png": "[encoded data removed]",
      "text/plain": [
       "<Figure size 640x480 with 3 Axes>"
      ]
     },
     "metadata": {},
     "output_type": "display_data"
    }
   ],
   "source": [
    "fig, (ax1,ax2,ax3) = plt.subplots(1, 3, sharey = True)\n",
    "L1 = ax1.hist(all_2018['distance_from_net'], bins = 20, color = 'green')\n",
    "ax1.set_ylabel('Total # of Shots')\n",
    "L2 = ax2.hist(all_2019['distance_from_net'], bins = 20, color = 'blue')\n",
    "ax2.set_xlabel('Distance')\n",
    "L3 = ax3.hist(all_2020['distance_from_net'], bins = 20, color = 'red')\n",
    "plt.suptitle('Total # of Shots vs Distance')\n",
    "fig.legend([L1,L2,L3],title = 'NHL Season', labels =  ['2018-2019', '2019-2020', '2020-2021'])\n",
    "fig.show()"
   ]
  },
  {
   "cell_type": "code",
   "execution_count": 18,
   "id": "fdc8af9d-7a3f-43af-95ee-bf086ef6a988",
   "metadata": {},
   "outputs": [
    {
     "name": "stderr",
     "output_type": "stream",
     "text": [
      "/var/folders/kh/9byhbtv143g1nvv18g1cs9240000gn/T/ipykernel_8688/1160806317.py:8: UserWarning: You have mixed positional and keyword arguments, some input may be discarded.\n",
      "  fig.legend([L1,L2,L3],title = 'NHL Season', labels =  ['2018-2019', '2019-2020', '2020-2021'])\n",
      "/var/folders/kh/9byhbtv143g1nvv18g1cs9240000gn/T/ipykernel_8688/1160806317.py:9: UserWarning: FigureCanvasAgg is non-interactive, and thus cannot be shown\n",
      "  fig.show()\n"
     ]
    },
    {
     "data": {
      "image/png": "[encoded data removed]",
      "text/plain": [
       "<Figure size 640x480 with 3 Axes>"
      ]
     },
     "metadata": {},
     "output_type": "display_data"
    }
   ],
   "source": [
    "fig, (ax1,ax2,ax3) = plt.subplots(1, 3, sharey = True)\n",
    "L1 = ax1.hist(goals_2018['distance_from_net'], bins = 20, color = 'green')\n",
    "ax1.set_ylabel('# of Goals')\n",
    "L2 = ax2.hist(goals_2019['distance_from_net'], bins = 20, color = 'blue')\n",
    "ax2.set_xlabel('Distance')\n",
    "L3 = ax3.hist(goals_2020['distance_from_net'], bins = 20, color = 'red')\n",
    "plt.suptitle('# of Goals vs Distance')\n",
    "fig.legend([L1,L2,L3],title = 'NHL Season', labels =  ['2018-2019', '2019-2020', '2020-2021'])\n",
    "fig.show()"
   ]
  },
  {
   "cell_type": "code",
   "execution_count": 19,
   "id": "1fcc30df-79c1-4939-bf59-6d596cd8441e",
   "metadata": {},
   "outputs": [],
   "source": [
    "import scipy.stats as sp\n"
   ]
  },
  {
   "cell_type": "code",
   "execution_count": 20,
   "id": "1c5a5387-7100-4d7f-80d1-0479749115ba",
   "metadata": {},
   "outputs": [
    {
     "name": "stdout",
     "output_type": "stream",
     "text": [
      "Mann Whitney U Rank Test for goal distances 2018-19 and 2019-20: \n",
      "MannwhitneyuResult(statistic=26348760.0, pvalue=0.00023375511838550072)\n",
      "Mann Whitney U Rank Test for goal distances 2019-20 and 2020-21: \n",
      "MannwhitneyuResult(statistic=17178240.0, pvalue=0.6909321033572942)\n",
      "Mann Whitney U Rank Test for goal distances 2018-19 and 2020-21: \n",
      "MannwhitneyuResult(statistic=21579168.5, pvalue=0.0022628490062853255)\n"
     ]
    }
   ],
   "source": [
    "print(\"Mann Whitney U Rank Test for goal distances 2018-19 and 2019-20: \")\n",
    "print(sp.mannwhitneyu(goals_2018['distance_from_net'], goals_2019['distance_from_net']))\n",
    "print(\"Mann Whitney U Rank Test for goal distances 2019-20 and 2020-21: \")\n",
    "print(sp.mannwhitneyu(goals_2019['distance_from_net'], goals_2020['distance_from_net']))\n",
    "print(\"Mann Whitney U Rank Test for goal distances 2018-19 and 2020-21: \")\n",
    "print(sp.mannwhitneyu(goals_2018['distance_from_net'], goals_2020['distance_from_net']))\n"
   ]
  },
  {
   "cell_type": "code",
   "execution_count": 47,
   "id": "d56ed9b8-5428-42eb-897b-c80337bae742",
   "metadata": {},
   "outputs": [
    {
     "name": "stderr",
     "output_type": "stream",
     "text": [
      "/Users/JJKaufman/DESS/IFT6758/IFT6758-A5-NHL/ift6758/visualizations/visualizations.py:79: FutureWarning:\n",
      "\n",
      "The default of observed=False is deprecated and will be changed to True in a future version of pandas. Pass observed=False to retain current behavior or observed=True to adopt the future default and silence this warning.\n",
      "\n",
      "/Users/JJKaufman/DESS/IFT6758/IFT6758-A5-NHL/ift6758/visualizations/visualizations.py:84: FutureWarning:\n",
      "\n",
      "The default of observed=False is deprecated and will be changed to True in a future version of pandas. Pass observed=False to retain current behavior or observed=True to adopt the future default and silence this warning.\n",
      "\n",
      "/Users/JJKaufman/DESS/IFT6758/IFT6758-A5-NHL/ift6758/visualizations/visualizations.py:88: FutureWarning:\n",
      "\n",
      "The default of observed=False is deprecated and will be changed to True in a future version of pandas. Pass observed=False to retain current behavior or observed=True to adopt the future default and silence this warning.\n",
      "\n"
     ]
    },
    {
     "data": {
      "text/html": [
       "<div>\n",
       "<style scoped>\n",
       "    .dataframe tbody tr th:only-of-type {\n",
       "        vertical-align: middle;\n",
       "    }\n",
       "\n",
       "    .dataframe tbody tr th {\n",
       "        vertical-align: top;\n",
       "    }\n",
       "\n",
       "    .dataframe thead th {\n",
       "        text-align: right;\n",
       "    }\n",
       "</style>\n",
       "<table border=\"1\" class=\"dataframe\">\n",
       "  <thead>\n",
       "    <tr style=\"text-align: right;\">\n",
       "      <th></th>\n",
       "      <th>dist_intervals</th>\n",
       "      <th>shot_type</th>\n",
       "      <th>Goals</th>\n",
       "      <th>Total Shots</th>\n",
       "      <th>Goals_over_Shots</th>\n",
       "    </tr>\n",
       "  </thead>\n",
       "  <tbody>\n",
       "    <tr>\n",
       "      <th>6</th>\n",
       "      <td>(-0.1, 9.996]</td>\n",
       "      <td>Wrist Shot</td>\n",
       "      <td>575</td>\n",
       "      <td>5894</td>\n",
       "      <td>0.097557</td>\n",
       "    </tr>\n",
       "    <tr>\n",
       "      <th>13</th>\n",
       "      <td>(9.996, 19.992]</td>\n",
       "      <td>Wrist Shot</td>\n",
       "      <td>1523</td>\n",
       "      <td>17788</td>\n",
       "      <td>0.085620</td>\n",
       "    </tr>\n",
       "    <tr>\n",
       "      <th>20</th>\n",
       "      <td>(19.992, 29.988]</td>\n",
       "      <td>Wrist Shot</td>\n",
       "      <td>849</td>\n",
       "      <td>12818</td>\n",
       "      <td>0.066235</td>\n",
       "    </tr>\n",
       "    <tr>\n",
       "      <th>27</th>\n",
       "      <td>(29.988, 39.984]</td>\n",
       "      <td>Wrist Shot</td>\n",
       "      <td>511</td>\n",
       "      <td>13310</td>\n",
       "      <td>0.038392</td>\n",
       "    </tr>\n",
       "    <tr>\n",
       "      <th>34</th>\n",
       "      <td>(39.984, 49.98]</td>\n",
       "      <td>Wrist Shot</td>\n",
       "      <td>288</td>\n",
       "      <td>11844</td>\n",
       "      <td>0.024316</td>\n",
       "    </tr>\n",
       "    <tr>\n",
       "      <th>41</th>\n",
       "      <td>(49.98, 59.976]</td>\n",
       "      <td>Wrist Shot</td>\n",
       "      <td>220</td>\n",
       "      <td>11643</td>\n",
       "      <td>0.018895</td>\n",
       "    </tr>\n",
       "    <tr>\n",
       "      <th>48</th>\n",
       "      <td>(59.976, 69.972]</td>\n",
       "      <td>Wrist Shot</td>\n",
       "      <td>66</td>\n",
       "      <td>4988</td>\n",
       "      <td>0.013232</td>\n",
       "    </tr>\n",
       "    <tr>\n",
       "      <th>55</th>\n",
       "      <td>(69.972, 79.968]</td>\n",
       "      <td>Wrist Shot</td>\n",
       "      <td>17</td>\n",
       "      <td>1029</td>\n",
       "      <td>0.016521</td>\n",
       "    </tr>\n",
       "    <tr>\n",
       "      <th>62</th>\n",
       "      <td>(79.968, 89.964]</td>\n",
       "      <td>Wrist Shot</td>\n",
       "      <td>18</td>\n",
       "      <td>875</td>\n",
       "      <td>0.020571</td>\n",
       "    </tr>\n",
       "    <tr>\n",
       "      <th>69</th>\n",
       "      <td>(89.964, 99.96]</td>\n",
       "      <td>Wrist Shot</td>\n",
       "      <td>14</td>\n",
       "      <td>533</td>\n",
       "      <td>0.026266</td>\n",
       "    </tr>\n",
       "  </tbody>\n",
       "</table>\n",
       "</div>"
      ],
      "text/plain": [
       "      dist_intervals   shot_type  Goals  Total Shots  Goals_over_Shots\n",
       "6      (-0.1, 9.996]  Wrist Shot    575         5894          0.097557\n",
       "13   (9.996, 19.992]  Wrist Shot   1523        17788          0.085620\n",
       "20  (19.992, 29.988]  Wrist Shot    849        12818          0.066235\n",
       "27  (29.988, 39.984]  Wrist Shot    511        13310          0.038392\n",
       "34   (39.984, 49.98]  Wrist Shot    288        11844          0.024316\n",
       "41   (49.98, 59.976]  Wrist Shot    220        11643          0.018895\n",
       "48  (59.976, 69.972]  Wrist Shot     66         4988          0.013232\n",
       "55  (69.972, 79.968]  Wrist Shot     17         1029          0.016521\n",
       "62  (79.968, 89.964]  Wrist Shot     18          875          0.020571\n",
       "69   (89.964, 99.96]  Wrist Shot     14          533          0.026266"
      ]
     },
     "execution_count": 47,
     "metadata": {},
     "output_type": "execute_result"
    }
   ],
   "source": [
    "probGoal_2018 = vis_2018.getDistGoalProbabilities(10)\n",
    "# fig = plt.figure()\n",
    "# plt.plot(probGoal_2018['probability_ofgoal'], color = 'green')\n",
    "# plt.xlabel('distance')\n",
    "# plt.ylabel('Percentage of Goals per Shots')\n",
    "# plt.title('NHL 2018-2019 Season')\n",
    "probGoal_2018.loc[probGoal_2018['shot_type']=='Wrist Shot']"
   ]
  },
  {
   "cell_type": "code",
   "execution_count": 56,
   "id": "95596877-7ce5-487b-b218-132942df4299",
   "metadata": {},
   "outputs": [
    {
     "data": {
      "application/vnd.plotly.v1+json": {
       "config": {
        "plotlyServerURL": "https://plot.ly"
       },
       "data": [
        {
         "alignmentgroup": "True",
         "hovertemplate": "shot_type=Backhand<br>x=%{x}<br>Goals_over_Shots=%{y}<extra></extra>",
         "legendgroup": "Backhand",
         "marker": {
          "color": "#636efa",
          "pattern": {
           "shape": ""
          }
         },
         "name": "Backhand",
         "offsetgroup": "Backhand",
         "orientation": "v",
         "showlegend": true,
         "textposition": "auto",
         "type": "bar",
         "x": [
          5,
          15,
          25,
          35,
          45,
          55,
          65,
          75,
          85,
          95
         ],
         "xaxis": "x",
         "y": [
          0.018663047166610113,
          0.015965819653699122,
          0.013106568887501951,
          0.008564988730277986,
          0.004559270516717325,
          0.002920209567980761,
          0.0022052927024859663,
          0.006802721088435374,
          0.002285714285714286,
          0.005628517823639775
         ],
         "yaxis": "y"
        },
        {
         "alignmentgroup": "True",
         "hovertemplate": "shot_type=Deflected<br>x=%{x}<br>Goals_over_Shots=%{y}<extra></extra>",
         "legendgroup": "Deflected",
         "marker": {
          "color": "#EF553B",
          "pattern": {
           "shape": ""
          }
         },
         "name": "Deflected",
         "offsetgroup": "Deflected",
         "orientation": "v",
         "showlegend": true,
         "textposition": "auto",
         "type": "bar",
         "x": [
          5,
          15,
          25,
          35,
          45,
          55,
          65,
          75,
          85,
          95
         ],
         "xaxis": "x",
         "y": [
          0.005259586019681031,
          0.005677985158533843,
          0.0036667186768606645,
          0.00270473328324568,
          0.0013508949679162446,
          0.0006012196169372155,
          0.0016038492381716118,
          0,
          0,
          0
         ],
         "yaxis": "y"
        },
        {
         "alignmentgroup": "True",
         "hovertemplate": "shot_type=Slap Shot<br>x=%{x}<br>Goals_over_Shots=%{y}<extra></extra>",
         "legendgroup": "Slap Shot",
         "marker": {
          "color": "#00cc96",
          "pattern": {
           "shape": ""
          }
         },
         "name": "Slap Shot",
         "offsetgroup": "Slap Shot",
         "orientation": "v",
         "showlegend": true,
         "textposition": "auto",
         "type": "bar",
         "x": [
          5,
          15,
          25,
          35,
          45,
          55,
          65,
          75,
          85,
          95
         ],
         "xaxis": "x",
         "y": [
          0.017984390906006106,
          0.016415561052394872,
          0.012248400686534561,
          0.0072877535687453044,
          0.004896994258696386,
          0.002576655501159495,
          0.002004811547714515,
          0.001943634596695821,
          0.0034285714285714284,
          0.00375234521575985
         ],
         "yaxis": "y"
        },
        {
         "alignmentgroup": "True",
         "hovertemplate": "shot_type=Snap Shot<br>x=%{x}<br>Goals_over_Shots=%{y}<extra></extra>",
         "legendgroup": "Snap Shot",
         "marker": {
          "color": "#ab63fa",
          "pattern": {
           "shape": ""
          }
         },
         "name": "Snap Shot",
         "offsetgroup": "Snap Shot",
         "orientation": "v",
         "showlegend": true,
         "textposition": "auto",
         "type": "bar",
         "x": [
          5,
          15,
          25,
          35,
          45,
          55,
          65,
          75,
          85,
          95
         ],
         "xaxis": "x",
         "y": [
          0.030369867662029183,
          0.025241736001798964,
          0.01716336401934779,
          0.012772351615326822,
          0.006585612968591692,
          0.004122648801855192,
          0.002004811547714515,
          0.0029154518950437317,
          0,
          0.005628517823639775
         ],
         "yaxis": "y"
        },
        {
         "alignmentgroup": "True",
         "hovertemplate": "shot_type=Tip-In<br>x=%{x}<br>Goals_over_Shots=%{y}<extra></extra>",
         "legendgroup": "Tip-In",
         "marker": {
          "color": "#FFA15A",
          "pattern": {
           "shape": ""
          }
         },
         "name": "Tip-In",
         "offsetgroup": "Tip-In",
         "orientation": "v",
         "showlegend": true,
         "textposition": "auto",
         "type": "bar",
         "x": [
          5,
          15,
          25,
          35,
          45,
          55,
          65,
          75,
          85,
          95
         ],
         "xaxis": "x",
         "y": [
          0.017984390906006106,
          0.01613447267821003,
          0.011312217194570135,
          0.007888805409466567,
          0.0042215467747382645,
          0.0031778751180967105,
          0.0018043303929430633,
          0.003887269193391642,
          0.0034285714285714284,
          0.00375234521575985
         ],
         "yaxis": "y"
        },
        {
         "alignmentgroup": "True",
         "hovertemplate": "shot_type=Wrap-around<br>x=%{x}<br>Goals_over_Shots=%{y}<extra></extra>",
         "legendgroup": "Wrap-around",
         "marker": {
          "color": "#19d3f3",
          "pattern": {
           "shape": ""
          }
         },
         "name": "Wrap-around",
         "offsetgroup": "Wrap-around",
         "orientation": "v",
         "showlegend": true,
         "textposition": "auto",
         "type": "bar",
         "x": [
          5,
          15,
          25,
          35,
          45,
          55,
          65,
          75,
          85,
          95
         ],
         "xaxis": "x",
         "y": [
          0.0027146250424160165,
          0.0008994827973914999,
          0.0014042752379466376,
          0.00030052592036063113,
          0.00016886187098953058,
          8.58885167053165e-05,
          0,
          0,
          0,
          0.001876172607879925
         ],
         "yaxis": "y"
        },
        {
         "alignmentgroup": "True",
         "hovertemplate": "shot_type=Wrist Shot<br>x=%{x}<br>Goals_over_Shots=%{y}<extra></extra>",
         "legendgroup": "Wrist Shot",
         "marker": {
          "color": "#FF6692",
          "pattern": {
           "shape": ""
          }
         },
         "name": "Wrist Shot",
         "offsetgroup": "Wrist Shot",
         "orientation": "v",
         "showlegend": true,
         "textposition": "auto",
         "type": "bar",
         "x": [
          5,
          15,
          25,
          35,
          45,
          55,
          65,
          75,
          85,
          95
         ],
         "xaxis": "x",
         "y": [
          0.09755683746182559,
          0.0856195187767034,
          0.06623498205648307,
          0.038392186326070624,
          0.0243161094224924,
          0.01889547367516963,
          0.013231756214915798,
          0.01652089407191448,
          0.02057142857142857,
          0.02626641651031895
         ],
         "yaxis": "y"
        }
       ],
       "layout": {
        "autosize": true,
        "barmode": "group",
        "legend": {
         "title": {
          "text": "shot_type"
         },
         "tracegroupgap": 0
        },
        "margin": {
         "t": 60
        },
        "template": {
         "data": {
          "bar": [
           {
            "error_x": {
             "color": "#2a3f5f"
            },
            "error_y": {
             "color": "#2a3f5f"
            },
            "marker": {
             "line": {
              "color": "#E5ECF6",
              "width": 0.5
             },
             "pattern": {
              "fillmode": "overlay",
              "size": 10,
              "solidity": 0.2
             }
            },
            "type": "bar"
           }
          ],
          "barpolar": [
           {
            "marker": {
             "line": {
              "color": "#E5ECF6",
              "width": 0.5
             },
             "pattern": {
              "fillmode": "overlay",
              "size": 10,
              "solidity": 0.2
             }
            },
            "type": "barpolar"
           }
          ],
          "carpet": [
           {
            "aaxis": {
             "endlinecolor": "#2a3f5f",
             "gridcolor": "white",
             "linecolor": "white",
             "minorgridcolor": "white",
             "startlinecolor": "#2a3f5f"
            },
            "baxis": {
             "endlinecolor": "#2a3f5f",
             "gridcolor": "white",
             "linecolor": "white",
             "minorgridcolor": "white",
             "startlinecolor": "#2a3f5f"
            },
            "type": "carpet"
           }
          ],
          "choropleth": [
           {
            "colorbar": {
             "outlinewidth": 0,
             "ticks": ""
            },
            "type": "choropleth"
           }
          ],
          "contour": [
           {
            "colorbar": {
             "outlinewidth": 0,
             "ticks": ""
            },
            "colorscale": [
             [
              0,
              "#0d0887"
             ],
             [
              0.1111111111111111,
              "#46039f"
             ],
             [
              0.2222222222222222,
              "#7201a8"
             ],
             [
              0.3333333333333333,
              "#9c179e"
             ],
             [
              0.4444444444444444,
              "#bd3786"
             ],
             [
              0.5555555555555556,
              "#d8576b"
             ],
             [
              0.6666666666666666,
              "#ed7953"
             ],
             [
              0.7777777777777778,
              "#fb9f3a"
             ],
             [
              0.8888888888888888,
              "#fdca26"
             ],
             [
              1,
              "#f0f921"
             ]
            ],
            "type": "contour"
           }
          ],
          "contourcarpet": [
           {
            "colorbar": {
             "outlinewidth": 0,
             "ticks": ""
            },
            "type": "contourcarpet"
           }
          ],
          "heatmap": [
           {
            "colorbar": {
             "outlinewidth": 0,
             "ticks": ""
            },
            "colorscale": [
             [
              0,
              "#0d0887"
             ],
             [
              0.1111111111111111,
              "#46039f"
             ],
             [
              0.2222222222222222,
              "#7201a8"
             ],
             [
              0.3333333333333333,
              "#9c179e"
             ],
             [
              0.4444444444444444,
              "#bd3786"
             ],
             [
              0.5555555555555556,
              "#d8576b"
             ],
             [
              0.6666666666666666,
              "#ed7953"
             ],
             [
              0.7777777777777778,
              "#fb9f3a"
             ],
             [
              0.8888888888888888,
              "#fdca26"
             ],
             [
              1,
              "#f0f921"
             ]
            ],
            "type": "heatmap"
           }
          ],
          "heatmapgl": [
           {
            "colorbar": {
             "outlinewidth": 0,
             "ticks": ""
            },
            "colorscale": [
             [
              0,
              "#0d0887"
             ],
             [
              0.1111111111111111,
              "#46039f"
             ],
             [
              0.2222222222222222,
              "#7201a8"
             ],
             [
              0.3333333333333333,
              "#9c179e"
             ],
             [
              0.4444444444444444,
              "#bd3786"
             ],
             [
              0.5555555555555556,
              "#d8576b"
             ],
             [
              0.6666666666666666,
              "#ed7953"
             ],
             [
              0.7777777777777778,
              "#fb9f3a"
             ],
             [
              0.8888888888888888,
              "#fdca26"
             ],
             [
              1,
              "#f0f921"
             ]
            ],
            "type": "heatmapgl"
           }
          ],
          "histogram": [
           {
            "marker": {
             "pattern": {
              "fillmode": "overlay",
              "size": 10,
              "solidity": 0.2
             }
            },
            "type": "histogram"
           }
          ],
          "histogram2d": [
           {
            "colorbar": {
             "outlinewidth": 0,
             "ticks": ""
            },
            "colorscale": [
             [
              0,
              "#0d0887"
             ],
             [
              0.1111111111111111,
              "#46039f"
             ],
             [
              0.2222222222222222,
              "#7201a8"
             ],
             [
              0.3333333333333333,
              "#9c179e"
             ],
             [
              0.4444444444444444,
              "#bd3786"
             ],
             [
              0.5555555555555556,
              "#d8576b"
             ],
             [
              0.6666666666666666,
              "#ed7953"
             ],
             [
              0.7777777777777778,
              "#fb9f3a"
             ],
             [
              0.8888888888888888,
              "#fdca26"
             ],
             [
              1,
              "#f0f921"
             ]
            ],
            "type": "histogram2d"
           }
          ],
          "histogram2dcontour": [
           {
            "colorbar": {
             "outlinewidth": 0,
             "ticks": ""
            },
            "colorscale": [
             [
              0,
              "#0d0887"
             ],
             [
              0.1111111111111111,
              "#46039f"
             ],
             [
              0.2222222222222222,
              "#7201a8"
             ],
             [
              0.3333333333333333,
              "#9c179e"
             ],
             [
              0.4444444444444444,
              "#bd3786"
             ],
             [
              0.5555555555555556,
              "#d8576b"
             ],
             [
              0.6666666666666666,
              "#ed7953"
             ],
             [
              0.7777777777777778,
              "#fb9f3a"
             ],
             [
              0.8888888888888888,
              "#fdca26"
             ],
             [
              1,
              "#f0f921"
             ]
            ],
            "type": "histogram2dcontour"
           }
          ],
          "mesh3d": [
           {
            "colorbar": {
             "outlinewidth": 0,
             "ticks": ""
            },
            "type": "mesh3d"
           }
          ],
          "parcoords": [
           {
            "line": {
             "colorbar": {
              "outlinewidth": 0,
              "ticks": ""
             }
            },
            "type": "parcoords"
           }
          ],
          "pie": [
           {
            "automargin": true,
            "type": "pie"
           }
          ],
          "scatter": [
           {
            "fillpattern": {
             "fillmode": "overlay",
             "size": 10,
             "solidity": 0.2
            },
            "type": "scatter"
           }
          ],
          "scatter3d": [
           {
            "line": {
             "colorbar": {
              "outlinewidth": 0,
              "ticks": ""
             }
            },
            "marker": {
             "colorbar": {
              "outlinewidth": 0,
              "ticks": ""
             }
            },
            "type": "scatter3d"
           }
          ],
          "scattercarpet": [
           {
            "marker": {
             "colorbar": {
              "outlinewidth": 0,
              "ticks": ""
             }
            },
            "type": "scattercarpet"
           }
          ],
          "scattergeo": [
           {
            "marker": {
             "colorbar": {
              "outlinewidth": 0,
              "ticks": ""
             }
            },
            "type": "scattergeo"
           }
          ],
          "scattergl": [
           {
            "marker": {
             "colorbar": {
              "outlinewidth": 0,
              "ticks": ""
             }
            },
            "type": "scattergl"
           }
          ],
          "scattermapbox": [
           {
            "marker": {
             "colorbar": {
              "outlinewidth": 0,
              "ticks": ""
             }
            },
            "type": "scattermapbox"
           }
          ],
          "scatterpolar": [
           {
            "marker": {
             "colorbar": {
              "outlinewidth": 0,
              "ticks": ""
             }
            },
            "type": "scatterpolar"
           }
          ],
          "scatterpolargl": [
           {
            "marker": {
             "colorbar": {
              "outlinewidth": 0,
              "ticks": ""
             }
            },
            "type": "scatterpolargl"
           }
          ],
          "scatterternary": [
           {
            "marker": {
             "colorbar": {
              "outlinewidth": 0,
              "ticks": ""
             }
            },
            "type": "scatterternary"
           }
          ],
          "surface": [
           {
            "colorbar": {
             "outlinewidth": 0,
             "ticks": ""
            },
            "colorscale": [
             [
              0,
              "#0d0887"
             ],
             [
              0.1111111111111111,
              "#46039f"
             ],
             [
              0.2222222222222222,
              "#7201a8"
             ],
             [
              0.3333333333333333,
              "#9c179e"
             ],
             [
              0.4444444444444444,
              "#bd3786"
             ],
             [
              0.5555555555555556,
              "#d8576b"
             ],
             [
              0.6666666666666666,
              "#ed7953"
             ],
             [
              0.7777777777777778,
              "#fb9f3a"
             ],
             [
              0.8888888888888888,
              "#fdca26"
             ],
             [
              1,
              "#f0f921"
             ]
            ],
            "type": "surface"
           }
          ],
          "table": [
           {
            "cells": {
             "fill": {
              "color": "#EBF0F8"
             },
             "line": {
              "color": "white"
             }
            },
            "header": {
             "fill": {
              "color": "#C8D4E3"
             },
             "line": {
              "color": "white"
             }
            },
            "type": "table"
           }
          ]
         },
         "layout": {
          "annotationdefaults": {
           "arrowcolor": "#2a3f5f",
           "arrowhead": 0,
           "arrowwidth": 1
          },
          "autotypenumbers": "strict",
          "coloraxis": {
           "colorbar": {
            "outlinewidth": 0,
            "ticks": ""
           }
          },
          "colorscale": {
           "diverging": [
            [
             0,
             "#8e0152"
            ],
            [
             0.1,
             "#c51b7d"
            ],
            [
             0.2,
             "#de77ae"
            ],
            [
             0.3,
             "#f1b6da"
            ],
            [
             0.4,
             "#fde0ef"
            ],
            [
             0.5,
             "#f7f7f7"
            ],
            [
             0.6,
             "#e6f5d0"
            ],
            [
             0.7,
             "#b8e186"
            ],
            [
             0.8,
             "#7fbc41"
            ],
            [
             0.9,
             "#4d9221"
            ],
            [
             1,
             "#276419"
            ]
           ],
           "sequential": [
            [
             0,
             "#0d0887"
            ],
            [
             0.1111111111111111,
             "#46039f"
            ],
            [
             0.2222222222222222,
             "#7201a8"
            ],
            [
             0.3333333333333333,
             "#9c179e"
            ],
            [
             0.4444444444444444,
             "#bd3786"
            ],
            [
             0.5555555555555556,
             "#d8576b"
            ],
            [
             0.6666666666666666,
             "#ed7953"
            ],
            [
             0.7777777777777778,
             "#fb9f3a"
            ],
            [
             0.8888888888888888,
             "#fdca26"
            ],
            [
             1,
             "#f0f921"
            ]
           ],
           "sequentialminus": [
            [
             0,
             "#0d0887"
            ],
            [
             0.1111111111111111,
             "#46039f"
            ],
            [
             0.2222222222222222,
             "#7201a8"
            ],
            [
             0.3333333333333333,
             "#9c179e"
            ],
            [
             0.4444444444444444,
             "#bd3786"
            ],
            [
             0.5555555555555556,
             "#d8576b"
            ],
            [
             0.6666666666666666,
             "#ed7953"
            ],
            [
             0.7777777777777778,
             "#fb9f3a"
            ],
            [
             0.8888888888888888,
             "#fdca26"
            ],
            [
             1,
             "#f0f921"
            ]
           ]
          },
          "colorway": [
           "#636efa",
           "#EF553B",
           "#00cc96",
           "#ab63fa",
           "#FFA15A",
           "#19d3f3",
           "#FF6692",
           "#B6E880",
           "#FF97FF",
           "#FECB52"
          ],
          "font": {
           "color": "#2a3f5f"
          },
          "geo": {
           "bgcolor": "white",
           "lakecolor": "white",
           "landcolor": "#E5ECF6",
           "showlakes": true,
           "showland": true,
           "subunitcolor": "white"
          },
          "hoverlabel": {
           "align": "left"
          },
          "hovermode": "closest",
          "mapbox": {
           "style": "light"
          },
          "paper_bgcolor": "white",
          "plot_bgcolor": "#E5ECF6",
          "polar": {
           "angularaxis": {
            "gridcolor": "white",
            "linecolor": "white",
            "ticks": ""
           },
           "bgcolor": "#E5ECF6",
           "radialaxis": {
            "gridcolor": "white",
            "linecolor": "white",
            "ticks": ""
           }
          },
          "scene": {
           "xaxis": {
            "backgroundcolor": "#E5ECF6",
            "gridcolor": "white",
            "gridwidth": 2,
            "linecolor": "white",
            "showbackground": true,
            "ticks": "",
            "zerolinecolor": "white"
           },
           "yaxis": {
            "backgroundcolor": "#E5ECF6",
            "gridcolor": "white",
            "gridwidth": 2,
            "linecolor": "white",
            "showbackground": true,
            "ticks": "",
            "zerolinecolor": "white"
           },
           "zaxis": {
            "backgroundcolor": "#E5ECF6",
            "gridcolor": "white",
            "gridwidth": 2,
            "linecolor": "white",
            "showbackground": true,
            "ticks": "",
            "zerolinecolor": "white"
           }
          },
          "shapedefaults": {
           "line": {
            "color": "#2a3f5f"
           }
          },
          "ternary": {
           "aaxis": {
            "gridcolor": "white",
            "linecolor": "white",
            "ticks": ""
           },
           "baxis": {
            "gridcolor": "white",
            "linecolor": "white",
            "ticks": ""
           },
           "bgcolor": "#E5ECF6",
           "caxis": {
            "gridcolor": "white",
            "linecolor": "white",
            "ticks": ""
           }
          },
          "title": {
           "x": 0.05
          },
          "xaxis": {
           "automargin": true,
           "gridcolor": "white",
           "linecolor": "white",
           "ticks": "",
           "title": {
            "standoff": 15
           },
           "zerolinecolor": "white",
           "zerolinewidth": 2
          },
          "yaxis": {
           "automargin": true,
           "gridcolor": "white",
           "linecolor": "white",
           "ticks": "",
           "title": {
            "standoff": 15
           },
           "zerolinecolor": "white",
           "zerolinewidth": 2
          }
         }
        },
        "title": {
         "text": "Goals over Total Shots Per Shot Type Per Region"
        },
        "xaxis": {
         "anchor": "y",
         "autorange": true,
         "domain": [
          0,
          1
         ],
         "range": [
          0,
          100
         ],
         "title": {
          "text": "Distance From Net"
         },
         "type": "linear"
        },
        "yaxis": {
         "anchor": "x",
         "autorange": true,
         "domain": [
          0,
          1
         ],
         "range": [
          0,
          0.10269140785455325
         ],
         "title": {
          "text": "Goals over Shots"
         },
         "type": "linear"
        }
       }
      },
      "image/png": "[encoded data removed]",
      "text/html": [
       "<div>                            <div id=\"2d19588d-96cc-4867-ae36-ea6401c6806f\" class=\"plotly-graph-div\" style=\"height:525px; width:100%;\"></div>            <script type=\"text/javascript\">                require([\"plotly\"], function(Plotly) {                    window.PLOTLYENV=window.PLOTLYENV || {};                                    if (document.getElementById(\"2d19588d-96cc-4867-ae36-ea6401c6806f\")) {                    Plotly.newPlot(                        \"2d19588d-96cc-4867-ae36-ea6401c6806f\",                        [{\"alignmentgroup\":\"True\",\"hovertemplate\":\"shot_type=Backhand\\u003cbr\\u003ex=%{x}\\u003cbr\\u003eGoals_over_Shots=%{y}\\u003cextra\\u003e\\u003c\\u002fextra\\u003e\",\"legendgroup\":\"Backhand\",\"marker\":{\"color\":\"#636efa\",\"pattern\":{\"shape\":\"\"}},\"name\":\"Backhand\",\"offsetgroup\":\"Backhand\",\"orientation\":\"v\",\"showlegend\":true,\"textposition\":\"auto\",\"x\":[5,15,25,35,45,55,65,75,85,95],\"xaxis\":\"x\",\"y\":[0.018663047166610113,0.015965819653699122,0.013106568887501951,0.008564988730277986,0.004559270516717325,0.002920209567980761,0.0022052927024859663,0.006802721088435374,0.002285714285714286,0.005628517823639775],\"yaxis\":\"y\",\"type\":\"bar\"},{\"alignmentgroup\":\"True\",\"hovertemplate\":\"shot_type=Deflected\\u003cbr\\u003ex=%{x}\\u003cbr\\u003eGoals_over_Shots=%{y}\\u003cextra\\u003e\\u003c\\u002fextra\\u003e\",\"legendgroup\":\"Deflected\",\"marker\":{\"color\":\"#EF553B\",\"pattern\":{\"shape\":\"\"}},\"name\":\"Deflected\",\"offsetgroup\":\"Deflected\",\"orientation\":\"v\",\"showlegend\":true,\"textposition\":\"auto\",\"x\":[5,15,25,35,45,55,65,75,85,95],\"xaxis\":\"x\",\"y\":[0.005259586019681031,0.005677985158533843,0.0036667186768606645,0.00270473328324568,0.0013508949679162446,0.0006012196169372155,0.0016038492381716118,0.0,0.0,0.0],\"yaxis\":\"y\",\"type\":\"bar\"},{\"alignmentgroup\":\"True\",\"hovertemplate\":\"shot_type=Slap Shot\\u003cbr\\u003ex=%{x}\\u003cbr\\u003eGoals_over_Shots=%{y}\\u003cextra\\u003e\\u003c\\u002fextra\\u003e\",\"legendgroup\":\"Slap Shot\",\"marker\":{\"color\":\"#00cc96\",\"pattern\":{\"shape\":\"\"}},\"name\":\"Slap Shot\",\"offsetgroup\":\"Slap Shot\",\"orientation\":\"v\",\"showlegend\":true,\"textposition\":\"auto\",\"x\":[5,15,25,35,45,55,65,75,85,95],\"xaxis\":\"x\",\"y\":[0.017984390906006106,0.016415561052394872,0.012248400686534561,0.0072877535687453044,0.004896994258696386,0.002576655501159495,0.002004811547714515,0.001943634596695821,0.0034285714285714284,0.00375234521575985],\"yaxis\":\"y\",\"type\":\"bar\"},{\"alignmentgroup\":\"True\",\"hovertemplate\":\"shot_type=Snap Shot\\u003cbr\\u003ex=%{x}\\u003cbr\\u003eGoals_over_Shots=%{y}\\u003cextra\\u003e\\u003c\\u002fextra\\u003e\",\"legendgroup\":\"Snap Shot\",\"marker\":{\"color\":\"#ab63fa\",\"pattern\":{\"shape\":\"\"}},\"name\":\"Snap Shot\",\"offsetgroup\":\"Snap Shot\",\"orientation\":\"v\",\"showlegend\":true,\"textposition\":\"auto\",\"x\":[5,15,25,35,45,55,65,75,85,95],\"xaxis\":\"x\",\"y\":[0.030369867662029183,0.025241736001798964,0.01716336401934779,0.012772351615326822,0.006585612968591692,0.004122648801855192,0.002004811547714515,0.0029154518950437317,0.0,0.005628517823639775],\"yaxis\":\"y\",\"type\":\"bar\"},{\"alignmentgroup\":\"True\",\"hovertemplate\":\"shot_type=Tip-In\\u003cbr\\u003ex=%{x}\\u003cbr\\u003eGoals_over_Shots=%{y}\\u003cextra\\u003e\\u003c\\u002fextra\\u003e\",\"legendgroup\":\"Tip-In\",\"marker\":{\"color\":\"#FFA15A\",\"pattern\":{\"shape\":\"\"}},\"name\":\"Tip-In\",\"offsetgroup\":\"Tip-In\",\"orientation\":\"v\",\"showlegend\":true,\"textposition\":\"auto\",\"x\":[5,15,25,35,45,55,65,75,85,95],\"xaxis\":\"x\",\"y\":[0.017984390906006106,0.01613447267821003,0.011312217194570135,0.007888805409466567,0.0042215467747382645,0.0031778751180967105,0.0018043303929430633,0.003887269193391642,0.0034285714285714284,0.00375234521575985],\"yaxis\":\"y\",\"type\":\"bar\"},{\"alignmentgroup\":\"True\",\"hovertemplate\":\"shot_type=Wrap-around\\u003cbr\\u003ex=%{x}\\u003cbr\\u003eGoals_over_Shots=%{y}\\u003cextra\\u003e\\u003c\\u002fextra\\u003e\",\"legendgroup\":\"Wrap-around\",\"marker\":{\"color\":\"#19d3f3\",\"pattern\":{\"shape\":\"\"}},\"name\":\"Wrap-around\",\"offsetgroup\":\"Wrap-around\",\"orientation\":\"v\",\"showlegend\":true,\"textposition\":\"auto\",\"x\":[5,15,25,35,45,55,65,75,85,95],\"xaxis\":\"x\",\"y\":[0.0027146250424160165,0.0008994827973914999,0.0014042752379466376,0.00030052592036063113,0.00016886187098953058,8.58885167053165e-05,0.0,0.0,0.0,0.001876172607879925],\"yaxis\":\"y\",\"type\":\"bar\"},{\"alignmentgroup\":\"True\",\"hovertemplate\":\"shot_type=Wrist Shot\\u003cbr\\u003ex=%{x}\\u003cbr\\u003eGoals_over_Shots=%{y}\\u003cextra\\u003e\\u003c\\u002fextra\\u003e\",\"legendgroup\":\"Wrist Shot\",\"marker\":{\"color\":\"#FF6692\",\"pattern\":{\"shape\":\"\"}},\"name\":\"Wrist Shot\",\"offsetgroup\":\"Wrist Shot\",\"orientation\":\"v\",\"showlegend\":true,\"textposition\":\"auto\",\"x\":[5,15,25,35,45,55,65,75,85,95],\"xaxis\":\"x\",\"y\":[0.09755683746182559,0.0856195187767034,0.06623498205648307,0.038392186326070624,0.0243161094224924,0.01889547367516963,0.013231756214915798,0.01652089407191448,0.02057142857142857,0.02626641651031895],\"yaxis\":\"y\",\"type\":\"bar\"}],                        {\"template\":{\"data\":{\"histogram2dcontour\":[{\"type\":\"histogram2dcontour\",\"colorbar\":{\"outlinewidth\":0,\"ticks\":\"\"},\"colorscale\":[[0.0,\"#0d0887\"],[0.1111111111111111,\"#46039f\"],[0.2222222222222222,\"#7201a8\"],[0.3333333333333333,\"#9c179e\"],[0.4444444444444444,\"#bd3786\"],[0.5555555555555556,\"#d8576b\"],[0.6666666666666666,\"#ed7953\"],[0.7777777777777778,\"#fb9f3a\"],[0.8888888888888888,\"#fdca26\"],[1.0,\"#f0f921\"]]}],\"choropleth\":[{\"type\":\"choropleth\",\"colorbar\":{\"outlinewidth\":0,\"ticks\":\"\"}}],\"histogram2d\":[{\"type\":\"histogram2d\",\"colorbar\":{\"outlinewidth\":0,\"ticks\":\"\"},\"colorscale\":[[0.0,\"#0d0887\"],[0.1111111111111111,\"#46039f\"],[0.2222222222222222,\"#7201a8\"],[0.3333333333333333,\"#9c179e\"],[0.4444444444444444,\"#bd3786\"],[0.5555555555555556,\"#d8576b\"],[0.6666666666666666,\"#ed7953\"],[0.7777777777777778,\"#fb9f3a\"],[0.8888888888888888,\"#fdca26\"],[1.0,\"#f0f921\"]]}],\"heatmap\":[{\"type\":\"heatmap\",\"colorbar\":{\"outlinewidth\":0,\"ticks\":\"\"},\"colorscale\":[[0.0,\"#0d0887\"],[0.1111111111111111,\"#46039f\"],[0.2222222222222222,\"#7201a8\"],[0.3333333333333333,\"#9c179e\"],[0.4444444444444444,\"#bd3786\"],[0.5555555555555556,\"#d8576b\"],[0.6666666666666666,\"#ed7953\"],[0.7777777777777778,\"#fb9f3a\"],[0.8888888888888888,\"#fdca26\"],[1.0,\"#f0f921\"]]}],\"heatmapgl\":[{\"type\":\"heatmapgl\",\"colorbar\":{\"outlinewidth\":0,\"ticks\":\"\"},\"colorscale\":[[0.0,\"#0d0887\"],[0.1111111111111111,\"#46039f\"],[0.2222222222222222,\"#7201a8\"],[0.3333333333333333,\"#9c179e\"],[0.4444444444444444,\"#bd3786\"],[0.5555555555555556,\"#d8576b\"],[0.6666666666666666,\"#ed7953\"],[0.7777777777777778,\"#fb9f3a\"],[0.8888888888888888,\"#fdca26\"],[1.0,\"#f0f921\"]]}],\"contourcarpet\":[{\"type\":\"contourcarpet\",\"colorbar\":{\"outlinewidth\":0,\"ticks\":\"\"}}],\"contour\":[{\"type\":\"contour\",\"colorbar\":{\"outlinewidth\":0,\"ticks\":\"\"},\"colorscale\":[[0.0,\"#0d0887\"],[0.1111111111111111,\"#46039f\"],[0.2222222222222222,\"#7201a8\"],[0.3333333333333333,\"#9c179e\"],[0.4444444444444444,\"#bd3786\"],[0.5555555555555556,\"#d8576b\"],[0.6666666666666666,\"#ed7953\"],[0.7777777777777778,\"#fb9f3a\"],[0.8888888888888888,\"#fdca26\"],[1.0,\"#f0f921\"]]}],\"surface\":[{\"type\":\"surface\",\"colorbar\":{\"outlinewidth\":0,\"ticks\":\"\"},\"colorscale\":[[0.0,\"#0d0887\"],[0.1111111111111111,\"#46039f\"],[0.2222222222222222,\"#7201a8\"],[0.3333333333333333,\"#9c179e\"],[0.4444444444444444,\"#bd3786\"],[0.5555555555555556,\"#d8576b\"],[0.6666666666666666,\"#ed7953\"],[0.7777777777777778,\"#fb9f3a\"],[0.8888888888888888,\"#fdca26\"],[1.0,\"#f0f921\"]]}],\"mesh3d\":[{\"type\":\"mesh3d\",\"colorbar\":{\"outlinewidth\":0,\"ticks\":\"\"}}],\"scatter\":[{\"fillpattern\":{\"fillmode\":\"overlay\",\"size\":10,\"solidity\":0.2},\"type\":\"scatter\"}],\"parcoords\":[{\"type\":\"parcoords\",\"line\":{\"colorbar\":{\"outlinewidth\":0,\"ticks\":\"\"}}}],\"scatterpolargl\":[{\"type\":\"scatterpolargl\",\"marker\":{\"colorbar\":{\"outlinewidth\":0,\"ticks\":\"\"}}}],\"bar\":[{\"error_x\":{\"color\":\"#2a3f5f\"},\"error_y\":{\"color\":\"#2a3f5f\"},\"marker\":{\"line\":{\"color\":\"#E5ECF6\",\"width\":0.5},\"pattern\":{\"fillmode\":\"overlay\",\"size\":10,\"solidity\":0.2}},\"type\":\"bar\"}],\"scattergeo\":[{\"type\":\"scattergeo\",\"marker\":{\"colorbar\":{\"outlinewidth\":0,\"ticks\":\"\"}}}],\"scatterpolar\":[{\"type\":\"scatterpolar\",\"marker\":{\"colorbar\":{\"outlinewidth\":0,\"ticks\":\"\"}}}],\"histogram\":[{\"marker\":{\"pattern\":{\"fillmode\":\"overlay\",\"size\":10,\"solidity\":0.2}},\"type\":\"histogram\"}],\"scattergl\":[{\"type\":\"scattergl\",\"marker\":{\"colorbar\":{\"outlinewidth\":0,\"ticks\":\"\"}}}],\"scatter3d\":[{\"type\":\"scatter3d\",\"line\":{\"colorbar\":{\"outlinewidth\":0,\"ticks\":\"\"}},\"marker\":{\"colorbar\":{\"outlinewidth\":0,\"ticks\":\"\"}}}],\"scattermapbox\":[{\"type\":\"scattermapbox\",\"marker\":{\"colorbar\":{\"outlinewidth\":0,\"ticks\":\"\"}}}],\"scatterternary\":[{\"type\":\"scatterternary\",\"marker\":{\"colorbar\":{\"outlinewidth\":0,\"ticks\":\"\"}}}],\"scattercarpet\":[{\"type\":\"scattercarpet\",\"marker\":{\"colorbar\":{\"outlinewidth\":0,\"ticks\":\"\"}}}],\"carpet\":[{\"aaxis\":{\"endlinecolor\":\"#2a3f5f\",\"gridcolor\":\"white\",\"linecolor\":\"white\",\"minorgridcolor\":\"white\",\"startlinecolor\":\"#2a3f5f\"},\"baxis\":{\"endlinecolor\":\"#2a3f5f\",\"gridcolor\":\"white\",\"linecolor\":\"white\",\"minorgridcolor\":\"white\",\"startlinecolor\":\"#2a3f5f\"},\"type\":\"carpet\"}],\"table\":[{\"cells\":{\"fill\":{\"color\":\"#EBF0F8\"},\"line\":{\"color\":\"white\"}},\"header\":{\"fill\":{\"color\":\"#C8D4E3\"},\"line\":{\"color\":\"white\"}},\"type\":\"table\"}],\"barpolar\":[{\"marker\":{\"line\":{\"color\":\"#E5ECF6\",\"width\":0.5},\"pattern\":{\"fillmode\":\"overlay\",\"size\":10,\"solidity\":0.2}},\"type\":\"barpolar\"}],\"pie\":[{\"automargin\":true,\"type\":\"pie\"}]},\"layout\":{\"autotypenumbers\":\"strict\",\"colorway\":[\"#636efa\",\"#EF553B\",\"#00cc96\",\"#ab63fa\",\"#FFA15A\",\"#19d3f3\",\"#FF6692\",\"#B6E880\",\"#FF97FF\",\"#FECB52\"],\"font\":{\"color\":\"#2a3f5f\"},\"hovermode\":\"closest\",\"hoverlabel\":{\"align\":\"left\"},\"paper_bgcolor\":\"white\",\"plot_bgcolor\":\"#E5ECF6\",\"polar\":{\"bgcolor\":\"#E5ECF6\",\"angularaxis\":{\"gridcolor\":\"white\",\"linecolor\":\"white\",\"ticks\":\"\"},\"radialaxis\":{\"gridcolor\":\"white\",\"linecolor\":\"white\",\"ticks\":\"\"}},\"ternary\":{\"bgcolor\":\"#E5ECF6\",\"aaxis\":{\"gridcolor\":\"white\",\"linecolor\":\"white\",\"ticks\":\"\"},\"baxis\":{\"gridcolor\":\"white\",\"linecolor\":\"white\",\"ticks\":\"\"},\"caxis\":{\"gridcolor\":\"white\",\"linecolor\":\"white\",\"ticks\":\"\"}},\"coloraxis\":{\"colorbar\":{\"outlinewidth\":0,\"ticks\":\"\"}},\"colorscale\":{\"sequential\":[[0.0,\"#0d0887\"],[0.1111111111111111,\"#46039f\"],[0.2222222222222222,\"#7201a8\"],[0.3333333333333333,\"#9c179e\"],[0.4444444444444444,\"#bd3786\"],[0.5555555555555556,\"#d8576b\"],[0.6666666666666666,\"#ed7953\"],[0.7777777777777778,\"#fb9f3a\"],[0.8888888888888888,\"#fdca26\"],[1.0,\"#f0f921\"]],\"sequentialminus\":[[0.0,\"#0d0887\"],[0.1111111111111111,\"#46039f\"],[0.2222222222222222,\"#7201a8\"],[0.3333333333333333,\"#9c179e\"],[0.4444444444444444,\"#bd3786\"],[0.5555555555555556,\"#d8576b\"],[0.6666666666666666,\"#ed7953\"],[0.7777777777777778,\"#fb9f3a\"],[0.8888888888888888,\"#fdca26\"],[1.0,\"#f0f921\"]],\"diverging\":[[0,\"#8e0152\"],[0.1,\"#c51b7d\"],[0.2,\"#de77ae\"],[0.3,\"#f1b6da\"],[0.4,\"#fde0ef\"],[0.5,\"#f7f7f7\"],[0.6,\"#e6f5d0\"],[0.7,\"#b8e186\"],[0.8,\"#7fbc41\"],[0.9,\"#4d9221\"],[1,\"#276419\"]]},\"xaxis\":{\"gridcolor\":\"white\",\"linecolor\":\"white\",\"ticks\":\"\",\"title\":{\"standoff\":15},\"zerolinecolor\":\"white\",\"automargin\":true,\"zerolinewidth\":2},\"yaxis\":{\"gridcolor\":\"white\",\"linecolor\":\"white\",\"ticks\":\"\",\"title\":{\"standoff\":15},\"zerolinecolor\":\"white\",\"automargin\":true,\"zerolinewidth\":2},\"scene\":{\"xaxis\":{\"backgroundcolor\":\"#E5ECF6\",\"gridcolor\":\"white\",\"linecolor\":\"white\",\"showbackground\":true,\"ticks\":\"\",\"zerolinecolor\":\"white\",\"gridwidth\":2},\"yaxis\":{\"backgroundcolor\":\"#E5ECF6\",\"gridcolor\":\"white\",\"linecolor\":\"white\",\"showbackground\":true,\"ticks\":\"\",\"zerolinecolor\":\"white\",\"gridwidth\":2},\"zaxis\":{\"backgroundcolor\":\"#E5ECF6\",\"gridcolor\":\"white\",\"linecolor\":\"white\",\"showbackground\":true,\"ticks\":\"\",\"zerolinecolor\":\"white\",\"gridwidth\":2}},\"shapedefaults\":{\"line\":{\"color\":\"#2a3f5f\"}},\"annotationdefaults\":{\"arrowcolor\":\"#2a3f5f\",\"arrowhead\":0,\"arrowwidth\":1},\"geo\":{\"bgcolor\":\"white\",\"landcolor\":\"#E5ECF6\",\"subunitcolor\":\"white\",\"showland\":true,\"showlakes\":true,\"lakecolor\":\"white\"},\"title\":{\"x\":0.05},\"mapbox\":{\"style\":\"light\"}}},\"xaxis\":{\"anchor\":\"y\",\"domain\":[0.0,1.0],\"title\":{\"text\":\"Distance From Net\"}},\"yaxis\":{\"anchor\":\"x\",\"domain\":[0.0,1.0],\"title\":{\"text\":\"Goals over Shots\"}},\"legend\":{\"title\":{\"text\":\"shot_type\"},\"tracegroupgap\":0},\"margin\":{\"t\":60},\"barmode\":\"group\",\"title\":{\"text\":\"Goals over Total Shots Per Shot Type Per Region\"}},                        {\"responsive\": true}                    ).then(function(){\n",
       "                            \n",
       "var gd = document.getElementById('2d19588d-96cc-4867-ae36-ea6401c6806f');\n",
       "var x = new MutationObserver(function (mutations, observer) {{\n",
       "        var display = window.getComputedStyle(gd).display;\n",
       "        if (!display || display === 'none') {{\n",
       "            console.log([gd, 'removed!']);\n",
       "            Plotly.purge(gd);\n",
       "            observer.disconnect();\n",
       "        }}\n",
       "}});\n",
       "\n",
       "// Listen for the removal of the full notebook cells\n",
       "var notebookContainer = gd.closest('#notebook-container');\n",
       "if (notebookContainer) {{\n",
       "    x.observe(notebookContainer, {childList: true});\n",
       "}}\n",
       "\n",
       "// Listen for the clearing of the current output cell\n",
       "var outputEl = gd.closest('.output');\n",
       "if (outputEl) {{\n",
       "    x.observe(outputEl, {childList: true});\n",
       "}}\n",
       "\n",
       "                        })                };                });            </script>        </div>"
      ]
     },
     "metadata": {},
     "output_type": "display_data"
    }
   ],
   "source": [
    "import pandas as pd\n",
    "import plotly.express as px\n",
    "x = pd.Series(range(5,100,10))\n",
    "x = x.repeat(7).reset_index()\n",
    "\n",
    "probGoal_2018['x'] = x.values[:,1]\n",
    "fig = px.bar(probGoal_2018, x = 'x', y = 'Goals_over_Shots', color = 'shot_type', barmode = 'group')\n",
    "fig.update_layout(title_text='Goals over Total Shots Per Shot Type Per Region',\n",
    "                  xaxis_title='Distance From Net',\n",
    "                  yaxis_title='Goals over Shots')\n",
    "fig.show()"
   ]
  },
  {
   "cell_type": "code",
   "execution_count": 58,
   "id": "532b7f50-467f-4c33-a25b-c689ac3f19a8",
   "metadata": {},
   "outputs": [
    {
     "data": {
      "application/vnd.plotly.v1+json": {
       "config": {
        "plotlyServerURL": "https://plot.ly"
       },
       "data": [
        {
         "alignmentgroup": "True",
         "hovertemplate": "shot_type=Backhand<br>x=%{x}<br>Goals_over_Shots=%{y}<extra></extra>",
         "legendgroup": "Backhand",
         "marker": {
          "color": "#636efa",
          "pattern": {
           "shape": ""
          }
         },
         "name": "Backhand",
         "offsetgroup": "Backhand",
         "orientation": "v",
         "showlegend": true,
         "textposition": "auto",
         "type": "bar",
         "x": [
          5,
          15,
          25,
          35,
          45,
          55,
          65,
          75,
          85,
          95
         ],
         "xaxis": "x",
         "y": [
          0.018663047166610113,
          0.015965819653699122,
          0.013106568887501951,
          0.008564988730277986,
          0.004559270516717325,
          0.002920209567980761,
          0.0022052927024859663,
          0.006802721088435374,
          0.002285714285714286,
          0.005628517823639775
         ],
         "yaxis": "y"
        },
        {
         "alignmentgroup": "True",
         "hovertemplate": "shot_type=Deflected<br>x=%{x}<br>Goals_over_Shots=%{y}<extra></extra>",
         "legendgroup": "Deflected",
         "marker": {
          "color": "#EF553B",
          "pattern": {
           "shape": ""
          }
         },
         "name": "Deflected",
         "offsetgroup": "Deflected",
         "orientation": "v",
         "showlegend": true,
         "textposition": "auto",
         "type": "bar",
         "x": [
          5,
          15,
          25,
          35,
          45,
          55,
          65,
          75,
          85,
          95
         ],
         "xaxis": "x",
         "y": [
          0.005259586019681031,
          0.005677985158533843,
          0.0036667186768606645,
          0.00270473328324568,
          0.0013508949679162446,
          0.0006012196169372155,
          0.0016038492381716118,
          0,
          0,
          0
         ],
         "yaxis": "y"
        },
        {
         "alignmentgroup": "True",
         "hovertemplate": "shot_type=Slap Shot<br>x=%{x}<br>Goals_over_Shots=%{y}<extra></extra>",
         "legendgroup": "Slap Shot",
         "marker": {
          "color": "#00cc96",
          "pattern": {
           "shape": ""
          }
         },
         "name": "Slap Shot",
         "offsetgroup": "Slap Shot",
         "orientation": "v",
         "showlegend": true,
         "textposition": "auto",
         "type": "bar",
         "x": [
          5,
          15,
          25,
          35,
          45,
          55,
          65,
          75,
          85,
          95
         ],
         "xaxis": "x",
         "y": [
          0.017984390906006106,
          0.016415561052394872,
          0.012248400686534561,
          0.0072877535687453044,
          0.004896994258696386,
          0.002576655501159495,
          0.002004811547714515,
          0.001943634596695821,
          0.0034285714285714284,
          0.00375234521575985
         ],
         "yaxis": "y"
        },
        {
         "alignmentgroup": "True",
         "hovertemplate": "shot_type=Snap Shot<br>x=%{x}<br>Goals_over_Shots=%{y}<extra></extra>",
         "legendgroup": "Snap Shot",
         "marker": {
          "color": "#ab63fa",
          "pattern": {
           "shape": ""
          }
         },
         "name": "Snap Shot",
         "offsetgroup": "Snap Shot",
         "orientation": "v",
         "showlegend": true,
         "textposition": "auto",
         "type": "bar",
         "x": [
          5,
          15,
          25,
          35,
          45,
          55,
          65,
          75,
          85,
          95
         ],
         "xaxis": "x",
         "y": [
          0.030369867662029183,
          0.025241736001798964,
          0.01716336401934779,
          0.012772351615326822,
          0.006585612968591692,
          0.004122648801855192,
          0.002004811547714515,
          0.0029154518950437317,
          0,
          0.005628517823639775
         ],
         "yaxis": "y"
        },
        {
         "alignmentgroup": "True",
         "hovertemplate": "shot_type=Tip-In<br>x=%{x}<br>Goals_over_Shots=%{y}<extra></extra>",
         "legendgroup": "Tip-In",
         "marker": {
          "color": "#FFA15A",
          "pattern": {
           "shape": ""
          }
         },
         "name": "Tip-In",
         "offsetgroup": "Tip-In",
         "orientation": "v",
         "showlegend": true,
         "textposition": "auto",
         "type": "bar",
         "x": [
          5,
          15,
          25,
          35,
          45,
          55,
          65,
          75,
          85,
          95
         ],
         "xaxis": "x",
         "y": [
          0.017984390906006106,
          0.01613447267821003,
          0.011312217194570135,
          0.007888805409466567,
          0.0042215467747382645,
          0.0031778751180967105,
          0.0018043303929430633,
          0.003887269193391642,
          0.0034285714285714284,
          0.00375234521575985
         ],
         "yaxis": "y"
        },
        {
         "alignmentgroup": "True",
         "hovertemplate": "shot_type=Wrap-around<br>x=%{x}<br>Goals_over_Shots=%{y}<extra></extra>",
         "legendgroup": "Wrap-around",
         "marker": {
          "color": "#19d3f3",
          "pattern": {
           "shape": ""
          }
         },
         "name": "Wrap-around",
         "offsetgroup": "Wrap-around",
         "orientation": "v",
         "showlegend": true,
         "textposition": "auto",
         "type": "bar",
         "x": [
          5,
          15,
          25,
          35,
          45,
          55,
          65,
          75,
          85,
          95
         ],
         "xaxis": "x",
         "y": [
          0.0027146250424160165,
          0.0008994827973914999,
          0.0014042752379466376,
          0.00030052592036063113,
          0.00016886187098953058,
          8.58885167053165e-05,
          0,
          0,
          0,
          0.001876172607879925
         ],
         "yaxis": "y"
        },
        {
         "alignmentgroup": "True",
         "hovertemplate": "shot_type=Wrist Shot<br>x=%{x}<br>Goals_over_Shots=%{y}<extra></extra>",
         "legendgroup": "Wrist Shot",
         "marker": {
          "color": "#FF6692",
          "pattern": {
           "shape": ""
          }
         },
         "name": "Wrist Shot",
         "offsetgroup": "Wrist Shot",
         "orientation": "v",
         "showlegend": true,
         "textposition": "auto",
         "type": "bar",
         "x": [
          5,
          15,
          25,
          35,
          45,
          55,
          65,
          75,
          85,
          95
         ],
         "xaxis": "x",
         "y": [
          0.09755683746182559,
          0.0856195187767034,
          0.06623498205648307,
          0.038392186326070624,
          0.0243161094224924,
          0.01889547367516963,
          0.013231756214915798,
          0.01652089407191448,
          0.02057142857142857,
          0.02626641651031895
         ],
         "yaxis": "y"
        }
       ],
       "layout": {
        "autosize": true,
        "barmode": "group",
        "legend": {
         "title": {
          "text": "shot_type"
         },
         "tracegroupgap": 0
        },
        "margin": {
         "t": 60
        },
        "template": {
         "data": {
          "bar": [
           {
            "error_x": {
             "color": "#2a3f5f"
            },
            "error_y": {
             "color": "#2a3f5f"
            },
            "marker": {
             "line": {
              "color": "#E5ECF6",
              "width": 0.5
             },
             "pattern": {
              "fillmode": "overlay",
              "size": 10,
              "solidity": 0.2
             }
            },
            "type": "bar"
           }
          ],
          "barpolar": [
           {
            "marker": {
             "line": {
              "color": "#E5ECF6",
              "width": 0.5
             },
             "pattern": {
              "fillmode": "overlay",
              "size": 10,
              "solidity": 0.2
             }
            },
            "type": "barpolar"
           }
          ],
          "carpet": [
           {
            "aaxis": {
             "endlinecolor": "#2a3f5f",
             "gridcolor": "white",
             "linecolor": "white",
             "minorgridcolor": "white",
             "startlinecolor": "#2a3f5f"
            },
            "baxis": {
             "endlinecolor": "#2a3f5f",
             "gridcolor": "white",
             "linecolor": "white",
             "minorgridcolor": "white",
             "startlinecolor": "#2a3f5f"
            },
            "type": "carpet"
           }
          ],
          "choropleth": [
           {
            "colorbar": {
             "outlinewidth": 0,
             "ticks": ""
            },
            "type": "choropleth"
           }
          ],
          "contour": [
           {
            "colorbar": {
             "outlinewidth": 0,
             "ticks": ""
            },
            "colorscale": [
             [
              0,
              "#0d0887"
             ],
             [
              0.1111111111111111,
              "#46039f"
             ],
             [
              0.2222222222222222,
              "#7201a8"
             ],
             [
              0.3333333333333333,
              "#9c179e"
             ],
             [
              0.4444444444444444,
              "#bd3786"
             ],
             [
              0.5555555555555556,
              "#d8576b"
             ],
             [
              0.6666666666666666,
              "#ed7953"
             ],
             [
              0.7777777777777778,
              "#fb9f3a"
             ],
             [
              0.8888888888888888,
              "#fdca26"
             ],
             [
              1,
              "#f0f921"
             ]
            ],
            "type": "contour"
           }
          ],
          "contourcarpet": [
           {
            "colorbar": {
             "outlinewidth": 0,
             "ticks": ""
            },
            "type": "contourcarpet"
           }
          ],
          "heatmap": [
           {
            "colorbar": {
             "outlinewidth": 0,
             "ticks": ""
            },
            "colorscale": [
             [
              0,
              "#0d0887"
             ],
             [
              0.1111111111111111,
              "#46039f"
             ],
             [
              0.2222222222222222,
              "#7201a8"
             ],
             [
              0.3333333333333333,
              "#9c179e"
             ],
             [
              0.4444444444444444,
              "#bd3786"
             ],
             [
              0.5555555555555556,
              "#d8576b"
             ],
             [
              0.6666666666666666,
              "#ed7953"
             ],
             [
              0.7777777777777778,
              "#fb9f3a"
             ],
             [
              0.8888888888888888,
              "#fdca26"
             ],
             [
              1,
              "#f0f921"
             ]
            ],
            "type": "heatmap"
           }
          ],
          "heatmapgl": [
           {
            "colorbar": {
             "outlinewidth": 0,
             "ticks": ""
            },
            "colorscale": [
             [
              0,
              "#0d0887"
             ],
             [
              0.1111111111111111,
              "#46039f"
             ],
             [
              0.2222222222222222,
              "#7201a8"
             ],
             [
              0.3333333333333333,
              "#9c179e"
             ],
             [
              0.4444444444444444,
              "#bd3786"
             ],
             [
              0.5555555555555556,
              "#d8576b"
             ],
             [
              0.6666666666666666,
              "#ed7953"
             ],
             [
              0.7777777777777778,
              "#fb9f3a"
             ],
             [
              0.8888888888888888,
              "#fdca26"
             ],
             [
              1,
              "#f0f921"
             ]
            ],
            "type": "heatmapgl"
           }
          ],
          "histogram": [
           {
            "marker": {
             "pattern": {
              "fillmode": "overlay",
              "size": 10,
              "solidity": 0.2
             }
            },
            "type": "histogram"
           }
          ],
          "histogram2d": [
           {
            "colorbar": {
             "outlinewidth": 0,
             "ticks": ""
            },
            "colorscale": [
             [
              0,
              "#0d0887"
             ],
             [
              0.1111111111111111,
              "#46039f"
             ],
             [
              0.2222222222222222,
              "#7201a8"
             ],
             [
              0.3333333333333333,
              "#9c179e"
             ],
             [
              0.4444444444444444,
              "#bd3786"
             ],
             [
              0.5555555555555556,
              "#d8576b"
             ],
             [
              0.6666666666666666,
              "#ed7953"
             ],
             [
              0.7777777777777778,
              "#fb9f3a"
             ],
             [
              0.8888888888888888,
              "#fdca26"
             ],
             [
              1,
              "#f0f921"
             ]
            ],
            "type": "histogram2d"
           }
          ],
          "histogram2dcontour": [
           {
            "colorbar": {
             "outlinewidth": 0,
             "ticks": ""
            },
            "colorscale": [
             [
              0,
              "#0d0887"
             ],
             [
              0.1111111111111111,
              "#46039f"
             ],
             [
              0.2222222222222222,
              "#7201a8"
             ],
             [
              0.3333333333333333,
              "#9c179e"
             ],
             [
              0.4444444444444444,
              "#bd3786"
             ],
             [
              0.5555555555555556,
              "#d8576b"
             ],
             [
              0.6666666666666666,
              "#ed7953"
             ],
             [
              0.7777777777777778,
              "#fb9f3a"
             ],
             [
              0.8888888888888888,
              "#fdca26"
             ],
             [
              1,
              "#f0f921"
             ]
            ],
            "type": "histogram2dcontour"
           }
          ],
          "mesh3d": [
           {
            "colorbar": {
             "outlinewidth": 0,
             "ticks": ""
            },
            "type": "mesh3d"
           }
          ],
          "parcoords": [
           {
            "line": {
             "colorbar": {
              "outlinewidth": 0,
              "ticks": ""
             }
            },
            "type": "parcoords"
           }
          ],
          "pie": [
           {
            "automargin": true,
            "type": "pie"
           }
          ],
          "scatter": [
           {
            "fillpattern": {
             "fillmode": "overlay",
             "size": 10,
             "solidity": 0.2
            },
            "type": "scatter"
           }
          ],
          "scatter3d": [
           {
            "line": {
             "colorbar": {
              "outlinewidth": 0,
              "ticks": ""
             }
            },
            "marker": {
             "colorbar": {
              "outlinewidth": 0,
              "ticks": ""
             }
            },
            "type": "scatter3d"
           }
          ],
          "scattercarpet": [
           {
            "marker": {
             "colorbar": {
              "outlinewidth": 0,
              "ticks": ""
             }
            },
            "type": "scattercarpet"
           }
          ],
          "scattergeo": [
           {
            "marker": {
             "colorbar": {
              "outlinewidth": 0,
              "ticks": ""
             }
            },
            "type": "scattergeo"
           }
          ],
          "scattergl": [
           {
            "marker": {
             "colorbar": {
              "outlinewidth": 0,
              "ticks": ""
             }
            },
            "type": "scattergl"
           }
          ],
          "scattermapbox": [
           {
            "marker": {
             "colorbar": {
              "outlinewidth": 0,
              "ticks": ""
             }
            },
            "type": "scattermapbox"
           }
          ],
          "scatterpolar": [
           {
            "marker": {
             "colorbar": {
              "outlinewidth": 0,
              "ticks": ""
             }
            },
            "type": "scatterpolar"
           }
          ],
          "scatterpolargl": [
           {
            "marker": {
             "colorbar": {
              "outlinewidth": 0,
              "ticks": ""
             }
            },
            "type": "scatterpolargl"
           }
          ],
          "scatterternary": [
           {
            "marker": {
             "colorbar": {
              "outlinewidth": 0,
              "ticks": ""
             }
            },
            "type": "scatterternary"
           }
          ],
          "surface": [
           {
            "colorbar": {
             "outlinewidth": 0,
             "ticks": ""
            },
            "colorscale": [
             [
              0,
              "#0d0887"
             ],
             [
              0.1111111111111111,
              "#46039f"
             ],
             [
              0.2222222222222222,
              "#7201a8"
             ],
             [
              0.3333333333333333,
              "#9c179e"
             ],
             [
              0.4444444444444444,
              "#bd3786"
             ],
             [
              0.5555555555555556,
              "#d8576b"
             ],
             [
              0.6666666666666666,
              "#ed7953"
             ],
             [
              0.7777777777777778,
              "#fb9f3a"
             ],
             [
              0.8888888888888888,
              "#fdca26"
             ],
             [
              1,
              "#f0f921"
             ]
            ],
            "type": "surface"
           }
          ],
          "table": [
           {
            "cells": {
             "fill": {
              "color": "#EBF0F8"
             },
             "line": {
              "color": "white"
             }
            },
            "header": {
             "fill": {
              "color": "#C8D4E3"
             },
             "line": {
              "color": "white"
             }
            },
            "type": "table"
           }
          ]
         },
         "layout": {
          "annotationdefaults": {
           "arrowcolor": "#2a3f5f",
           "arrowhead": 0,
           "arrowwidth": 1
          },
          "autotypenumbers": "strict",
          "coloraxis": {
           "colorbar": {
            "outlinewidth": 0,
            "ticks": ""
           }
          },
          "colorscale": {
           "diverging": [
            [
             0,
             "#8e0152"
            ],
            [
             0.1,
             "#c51b7d"
            ],
            [
             0.2,
             "#de77ae"
            ],
            [
             0.3,
             "#f1b6da"
            ],
            [
             0.4,
             "#fde0ef"
            ],
            [
             0.5,
             "#f7f7f7"
            ],
            [
             0.6,
             "#e6f5d0"
            ],
            [
             0.7,
             "#b8e186"
            ],
            [
             0.8,
             "#7fbc41"
            ],
            [
             0.9,
             "#4d9221"
            ],
            [
             1,
             "#276419"
            ]
           ],
           "sequential": [
            [
             0,
             "#0d0887"
            ],
            [
             0.1111111111111111,
             "#46039f"
            ],
            [
             0.2222222222222222,
             "#7201a8"
            ],
            [
             0.3333333333333333,
             "#9c179e"
            ],
            [
             0.4444444444444444,
             "#bd3786"
            ],
            [
             0.5555555555555556,
             "#d8576b"
            ],
            [
             0.6666666666666666,
             "#ed7953"
            ],
            [
             0.7777777777777778,
             "#fb9f3a"
            ],
            [
             0.8888888888888888,
             "#fdca26"
            ],
            [
             1,
             "#f0f921"
            ]
           ],
           "sequentialminus": [
            [
             0,
             "#0d0887"
            ],
            [
             0.1111111111111111,
             "#46039f"
            ],
            [
             0.2222222222222222,
             "#7201a8"
            ],
            [
             0.3333333333333333,
             "#9c179e"
            ],
            [
             0.4444444444444444,
             "#bd3786"
            ],
            [
             0.5555555555555556,
             "#d8576b"
            ],
            [
             0.6666666666666666,
             "#ed7953"
            ],
            [
             0.7777777777777778,
             "#fb9f3a"
            ],
            [
             0.8888888888888888,
             "#fdca26"
            ],
            [
             1,
             "#f0f921"
            ]
           ]
          },
          "colorway": [
           "#636efa",
           "#EF553B",
           "#00cc96",
           "#ab63fa",
           "#FFA15A",
           "#19d3f3",
           "#FF6692",
           "#B6E880",
           "#FF97FF",
           "#FECB52"
          ],
          "font": {
           "color": "#2a3f5f"
          },
          "geo": {
           "bgcolor": "white",
           "lakecolor": "white",
           "landcolor": "#E5ECF6",
           "showlakes": true,
           "showland": true,
           "subunitcolor": "white"
          },
          "hoverlabel": {
           "align": "left"
          },
          "hovermode": "closest",
          "mapbox": {
           "style": "light"
          },
          "paper_bgcolor": "white",
          "plot_bgcolor": "#E5ECF6",
          "polar": {
           "angularaxis": {
            "gridcolor": "white",
            "linecolor": "white",
            "ticks": ""
           },
           "bgcolor": "#E5ECF6",
           "radialaxis": {
            "gridcolor": "white",
            "linecolor": "white",
            "ticks": ""
           }
          },
          "scene": {
           "xaxis": {
            "backgroundcolor": "#E5ECF6",
            "gridcolor": "white",
            "gridwidth": 2,
            "linecolor": "white",
            "showbackground": true,
            "ticks": "",
            "zerolinecolor": "white"
           },
           "yaxis": {
            "backgroundcolor": "#E5ECF6",
            "gridcolor": "white",
            "gridwidth": 2,
            "linecolor": "white",
            "showbackground": true,
            "ticks": "",
            "zerolinecolor": "white"
           },
           "zaxis": {
            "backgroundcolor": "#E5ECF6",
            "gridcolor": "white",
            "gridwidth": 2,
            "linecolor": "white",
            "showbackground": true,
            "ticks": "",
            "zerolinecolor": "white"
           }
          },
          "shapedefaults": {
           "line": {
            "color": "#2a3f5f"
           }
          },
          "ternary": {
           "aaxis": {
            "gridcolor": "white",
            "linecolor": "white",
            "ticks": ""
           },
           "baxis": {
            "gridcolor": "white",
            "linecolor": "white",
            "ticks": ""
           },
           "bgcolor": "#E5ECF6",
           "caxis": {
            "gridcolor": "white",
            "linecolor": "white",
            "ticks": ""
           }
          },
          "title": {
           "x": 0.05
          },
          "xaxis": {
           "automargin": true,
           "gridcolor": "white",
           "linecolor": "white",
           "ticks": "",
           "title": {
            "standoff": 15
           },
           "zerolinecolor": "white",
           "zerolinewidth": 2
          },
          "yaxis": {
           "automargin": true,
           "gridcolor": "white",
           "linecolor": "white",
           "ticks": "",
           "title": {
            "standoff": 15
           },
           "zerolinecolor": "white",
           "zerolinewidth": 2
          }
         }
        },
        "title": {
         "text": "Log of Goals over Total Shots Per Shot Type Per Region"
        },
        "xaxis": {
         "anchor": "y",
         "autorange": true,
         "domain": [
          0,
          1
         ],
         "range": [
          0,
          100
         ],
         "title": {
          "text": "Distance From Net"
         },
         "type": "linear"
        },
        "yaxis": {
         "anchor": "x",
         "autorange": true,
         "domain": [
          0,
          1
         ],
         "range": [
          -4.235805042494977,
          -0.8410021417889758
         ],
         "title": {
          "text": "Log(Goals over Shots)"
         },
         "type": "log"
        }
       }
      },
      "image/png": "[encoded data removed]",
      "text/html": [
       "<div>                            <div id=\"d27a6a1e-4caf-451a-bdf6-9e82136b570f\" class=\"plotly-graph-div\" style=\"height:525px; width:100%;\"></div>            <script type=\"text/javascript\">                require([\"plotly\"], function(Plotly) {                    window.PLOTLYENV=window.PLOTLYENV || {};                                    if (document.getElementById(\"d27a6a1e-4caf-451a-bdf6-9e82136b570f\")) {                    Plotly.newPlot(                        \"d27a6a1e-4caf-451a-bdf6-9e82136b570f\",                        [{\"alignmentgroup\":\"True\",\"hovertemplate\":\"shot_type=Backhand\\u003cbr\\u003ex=%{x}\\u003cbr\\u003eGoals_over_Shots=%{y}\\u003cextra\\u003e\\u003c\\u002fextra\\u003e\",\"legendgroup\":\"Backhand\",\"marker\":{\"color\":\"#636efa\",\"pattern\":{\"shape\":\"\"}},\"name\":\"Backhand\",\"offsetgroup\":\"Backhand\",\"orientation\":\"v\",\"showlegend\":true,\"textposition\":\"auto\",\"x\":[5,15,25,35,45,55,65,75,85,95],\"xaxis\":\"x\",\"y\":[0.018663047166610113,0.015965819653699122,0.013106568887501951,0.008564988730277986,0.004559270516717325,0.002920209567980761,0.0022052927024859663,0.006802721088435374,0.002285714285714286,0.005628517823639775],\"yaxis\":\"y\",\"type\":\"bar\"},{\"alignmentgroup\":\"True\",\"hovertemplate\":\"shot_type=Deflected\\u003cbr\\u003ex=%{x}\\u003cbr\\u003eGoals_over_Shots=%{y}\\u003cextra\\u003e\\u003c\\u002fextra\\u003e\",\"legendgroup\":\"Deflected\",\"marker\":{\"color\":\"#EF553B\",\"pattern\":{\"shape\":\"\"}},\"name\":\"Deflected\",\"offsetgroup\":\"Deflected\",\"orientation\":\"v\",\"showlegend\":true,\"textposition\":\"auto\",\"x\":[5,15,25,35,45,55,65,75,85,95],\"xaxis\":\"x\",\"y\":[0.005259586019681031,0.005677985158533843,0.0036667186768606645,0.00270473328324568,0.0013508949679162446,0.0006012196169372155,0.0016038492381716118,0.0,0.0,0.0],\"yaxis\":\"y\",\"type\":\"bar\"},{\"alignmentgroup\":\"True\",\"hovertemplate\":\"shot_type=Slap Shot\\u003cbr\\u003ex=%{x}\\u003cbr\\u003eGoals_over_Shots=%{y}\\u003cextra\\u003e\\u003c\\u002fextra\\u003e\",\"legendgroup\":\"Slap Shot\",\"marker\":{\"color\":\"#00cc96\",\"pattern\":{\"shape\":\"\"}},\"name\":\"Slap Shot\",\"offsetgroup\":\"Slap Shot\",\"orientation\":\"v\",\"showlegend\":true,\"textposition\":\"auto\",\"x\":[5,15,25,35,45,55,65,75,85,95],\"xaxis\":\"x\",\"y\":[0.017984390906006106,0.016415561052394872,0.012248400686534561,0.0072877535687453044,0.004896994258696386,0.002576655501159495,0.002004811547714515,0.001943634596695821,0.0034285714285714284,0.00375234521575985],\"yaxis\":\"y\",\"type\":\"bar\"},{\"alignmentgroup\":\"True\",\"hovertemplate\":\"shot_type=Snap Shot\\u003cbr\\u003ex=%{x}\\u003cbr\\u003eGoals_over_Shots=%{y}\\u003cextra\\u003e\\u003c\\u002fextra\\u003e\",\"legendgroup\":\"Snap Shot\",\"marker\":{\"color\":\"#ab63fa\",\"pattern\":{\"shape\":\"\"}},\"name\":\"Snap Shot\",\"offsetgroup\":\"Snap Shot\",\"orientation\":\"v\",\"showlegend\":true,\"textposition\":\"auto\",\"x\":[5,15,25,35,45,55,65,75,85,95],\"xaxis\":\"x\",\"y\":[0.030369867662029183,0.025241736001798964,0.01716336401934779,0.012772351615326822,0.006585612968591692,0.004122648801855192,0.002004811547714515,0.0029154518950437317,0.0,0.005628517823639775],\"yaxis\":\"y\",\"type\":\"bar\"},{\"alignmentgroup\":\"True\",\"hovertemplate\":\"shot_type=Tip-In\\u003cbr\\u003ex=%{x}\\u003cbr\\u003eGoals_over_Shots=%{y}\\u003cextra\\u003e\\u003c\\u002fextra\\u003e\",\"legendgroup\":\"Tip-In\",\"marker\":{\"color\":\"#FFA15A\",\"pattern\":{\"shape\":\"\"}},\"name\":\"Tip-In\",\"offsetgroup\":\"Tip-In\",\"orientation\":\"v\",\"showlegend\":true,\"textposition\":\"auto\",\"x\":[5,15,25,35,45,55,65,75,85,95],\"xaxis\":\"x\",\"y\":[0.017984390906006106,0.01613447267821003,0.011312217194570135,0.007888805409466567,0.0042215467747382645,0.0031778751180967105,0.0018043303929430633,0.003887269193391642,0.0034285714285714284,0.00375234521575985],\"yaxis\":\"y\",\"type\":\"bar\"},{\"alignmentgroup\":\"True\",\"hovertemplate\":\"shot_type=Wrap-around\\u003cbr\\u003ex=%{x}\\u003cbr\\u003eGoals_over_Shots=%{y}\\u003cextra\\u003e\\u003c\\u002fextra\\u003e\",\"legendgroup\":\"Wrap-around\",\"marker\":{\"color\":\"#19d3f3\",\"pattern\":{\"shape\":\"\"}},\"name\":\"Wrap-around\",\"offsetgroup\":\"Wrap-around\",\"orientation\":\"v\",\"showlegend\":true,\"textposition\":\"auto\",\"x\":[5,15,25,35,45,55,65,75,85,95],\"xaxis\":\"x\",\"y\":[0.0027146250424160165,0.0008994827973914999,0.0014042752379466376,0.00030052592036063113,0.00016886187098953058,8.58885167053165e-05,0.0,0.0,0.0,0.001876172607879925],\"yaxis\":\"y\",\"type\":\"bar\"},{\"alignmentgroup\":\"True\",\"hovertemplate\":\"shot_type=Wrist Shot\\u003cbr\\u003ex=%{x}\\u003cbr\\u003eGoals_over_Shots=%{y}\\u003cextra\\u003e\\u003c\\u002fextra\\u003e\",\"legendgroup\":\"Wrist Shot\",\"marker\":{\"color\":\"#FF6692\",\"pattern\":{\"shape\":\"\"}},\"name\":\"Wrist Shot\",\"offsetgroup\":\"Wrist Shot\",\"orientation\":\"v\",\"showlegend\":true,\"textposition\":\"auto\",\"x\":[5,15,25,35,45,55,65,75,85,95],\"xaxis\":\"x\",\"y\":[0.09755683746182559,0.0856195187767034,0.06623498205648307,0.038392186326070624,0.0243161094224924,0.01889547367516963,0.013231756214915798,0.01652089407191448,0.02057142857142857,0.02626641651031895],\"yaxis\":\"y\",\"type\":\"bar\"}],                        {\"template\":{\"data\":{\"histogram2dcontour\":[{\"type\":\"histogram2dcontour\",\"colorbar\":{\"outlinewidth\":0,\"ticks\":\"\"},\"colorscale\":[[0.0,\"#0d0887\"],[0.1111111111111111,\"#46039f\"],[0.2222222222222222,\"#7201a8\"],[0.3333333333333333,\"#9c179e\"],[0.4444444444444444,\"#bd3786\"],[0.5555555555555556,\"#d8576b\"],[0.6666666666666666,\"#ed7953\"],[0.7777777777777778,\"#fb9f3a\"],[0.8888888888888888,\"#fdca26\"],[1.0,\"#f0f921\"]]}],\"choropleth\":[{\"type\":\"choropleth\",\"colorbar\":{\"outlinewidth\":0,\"ticks\":\"\"}}],\"histogram2d\":[{\"type\":\"histogram2d\",\"colorbar\":{\"outlinewidth\":0,\"ticks\":\"\"},\"colorscale\":[[0.0,\"#0d0887\"],[0.1111111111111111,\"#46039f\"],[0.2222222222222222,\"#7201a8\"],[0.3333333333333333,\"#9c179e\"],[0.4444444444444444,\"#bd3786\"],[0.5555555555555556,\"#d8576b\"],[0.6666666666666666,\"#ed7953\"],[0.7777777777777778,\"#fb9f3a\"],[0.8888888888888888,\"#fdca26\"],[1.0,\"#f0f921\"]]}],\"heatmap\":[{\"type\":\"heatmap\",\"colorbar\":{\"outlinewidth\":0,\"ticks\":\"\"},\"colorscale\":[[0.0,\"#0d0887\"],[0.1111111111111111,\"#46039f\"],[0.2222222222222222,\"#7201a8\"],[0.3333333333333333,\"#9c179e\"],[0.4444444444444444,\"#bd3786\"],[0.5555555555555556,\"#d8576b\"],[0.6666666666666666,\"#ed7953\"],[0.7777777777777778,\"#fb9f3a\"],[0.8888888888888888,\"#fdca26\"],[1.0,\"#f0f921\"]]}],\"heatmapgl\":[{\"type\":\"heatmapgl\",\"colorbar\":{\"outlinewidth\":0,\"ticks\":\"\"},\"colorscale\":[[0.0,\"#0d0887\"],[0.1111111111111111,\"#46039f\"],[0.2222222222222222,\"#7201a8\"],[0.3333333333333333,\"#9c179e\"],[0.4444444444444444,\"#bd3786\"],[0.5555555555555556,\"#d8576b\"],[0.6666666666666666,\"#ed7953\"],[0.7777777777777778,\"#fb9f3a\"],[0.8888888888888888,\"#fdca26\"],[1.0,\"#f0f921\"]]}],\"contourcarpet\":[{\"type\":\"contourcarpet\",\"colorbar\":{\"outlinewidth\":0,\"ticks\":\"\"}}],\"contour\":[{\"type\":\"contour\",\"colorbar\":{\"outlinewidth\":0,\"ticks\":\"\"},\"colorscale\":[[0.0,\"#0d0887\"],[0.1111111111111111,\"#46039f\"],[0.2222222222222222,\"#7201a8\"],[0.3333333333333333,\"#9c179e\"],[0.4444444444444444,\"#bd3786\"],[0.5555555555555556,\"#d8576b\"],[0.6666666666666666,\"#ed7953\"],[0.7777777777777778,\"#fb9f3a\"],[0.8888888888888888,\"#fdca26\"],[1.0,\"#f0f921\"]]}],\"surface\":[{\"type\":\"surface\",\"colorbar\":{\"outlinewidth\":0,\"ticks\":\"\"},\"colorscale\":[[0.0,\"#0d0887\"],[0.1111111111111111,\"#46039f\"],[0.2222222222222222,\"#7201a8\"],[0.3333333333333333,\"#9c179e\"],[0.4444444444444444,\"#bd3786\"],[0.5555555555555556,\"#d8576b\"],[0.6666666666666666,\"#ed7953\"],[0.7777777777777778,\"#fb9f3a\"],[0.8888888888888888,\"#fdca26\"],[1.0,\"#f0f921\"]]}],\"mesh3d\":[{\"type\":\"mesh3d\",\"colorbar\":{\"outlinewidth\":0,\"ticks\":\"\"}}],\"scatter\":[{\"fillpattern\":{\"fillmode\":\"overlay\",\"size\":10,\"solidity\":0.2},\"type\":\"scatter\"}],\"parcoords\":[{\"type\":\"parcoords\",\"line\":{\"colorbar\":{\"outlinewidth\":0,\"ticks\":\"\"}}}],\"scatterpolargl\":[{\"type\":\"scatterpolargl\",\"marker\":{\"colorbar\":{\"outlinewidth\":0,\"ticks\":\"\"}}}],\"bar\":[{\"error_x\":{\"color\":\"#2a3f5f\"},\"error_y\":{\"color\":\"#2a3f5f\"},\"marker\":{\"line\":{\"color\":\"#E5ECF6\",\"width\":0.5},\"pattern\":{\"fillmode\":\"overlay\",\"size\":10,\"solidity\":0.2}},\"type\":\"bar\"}],\"scattergeo\":[{\"type\":\"scattergeo\",\"marker\":{\"colorbar\":{\"outlinewidth\":0,\"ticks\":\"\"}}}],\"scatterpolar\":[{\"type\":\"scatterpolar\",\"marker\":{\"colorbar\":{\"outlinewidth\":0,\"ticks\":\"\"}}}],\"histogram\":[{\"marker\":{\"pattern\":{\"fillmode\":\"overlay\",\"size\":10,\"solidity\":0.2}},\"type\":\"histogram\"}],\"scattergl\":[{\"type\":\"scattergl\",\"marker\":{\"colorbar\":{\"outlinewidth\":0,\"ticks\":\"\"}}}],\"scatter3d\":[{\"type\":\"scatter3d\",\"line\":{\"colorbar\":{\"outlinewidth\":0,\"ticks\":\"\"}},\"marker\":{\"colorbar\":{\"outlinewidth\":0,\"ticks\":\"\"}}}],\"scattermapbox\":[{\"type\":\"scattermapbox\",\"marker\":{\"colorbar\":{\"outlinewidth\":0,\"ticks\":\"\"}}}],\"scatterternary\":[{\"type\":\"scatterternary\",\"marker\":{\"colorbar\":{\"outlinewidth\":0,\"ticks\":\"\"}}}],\"scattercarpet\":[{\"type\":\"scattercarpet\",\"marker\":{\"colorbar\":{\"outlinewidth\":0,\"ticks\":\"\"}}}],\"carpet\":[{\"aaxis\":{\"endlinecolor\":\"#2a3f5f\",\"gridcolor\":\"white\",\"linecolor\":\"white\",\"minorgridcolor\":\"white\",\"startlinecolor\":\"#2a3f5f\"},\"baxis\":{\"endlinecolor\":\"#2a3f5f\",\"gridcolor\":\"white\",\"linecolor\":\"white\",\"minorgridcolor\":\"white\",\"startlinecolor\":\"#2a3f5f\"},\"type\":\"carpet\"}],\"table\":[{\"cells\":{\"fill\":{\"color\":\"#EBF0F8\"},\"line\":{\"color\":\"white\"}},\"header\":{\"fill\":{\"color\":\"#C8D4E3\"},\"line\":{\"color\":\"white\"}},\"type\":\"table\"}],\"barpolar\":[{\"marker\":{\"line\":{\"color\":\"#E5ECF6\",\"width\":0.5},\"pattern\":{\"fillmode\":\"overlay\",\"size\":10,\"solidity\":0.2}},\"type\":\"barpolar\"}],\"pie\":[{\"automargin\":true,\"type\":\"pie\"}]},\"layout\":{\"autotypenumbers\":\"strict\",\"colorway\":[\"#636efa\",\"#EF553B\",\"#00cc96\",\"#ab63fa\",\"#FFA15A\",\"#19d3f3\",\"#FF6692\",\"#B6E880\",\"#FF97FF\",\"#FECB52\"],\"font\":{\"color\":\"#2a3f5f\"},\"hovermode\":\"closest\",\"hoverlabel\":{\"align\":\"left\"},\"paper_bgcolor\":\"white\",\"plot_bgcolor\":\"#E5ECF6\",\"polar\":{\"bgcolor\":\"#E5ECF6\",\"angularaxis\":{\"gridcolor\":\"white\",\"linecolor\":\"white\",\"ticks\":\"\"},\"radialaxis\":{\"gridcolor\":\"white\",\"linecolor\":\"white\",\"ticks\":\"\"}},\"ternary\":{\"bgcolor\":\"#E5ECF6\",\"aaxis\":{\"gridcolor\":\"white\",\"linecolor\":\"white\",\"ticks\":\"\"},\"baxis\":{\"gridcolor\":\"white\",\"linecolor\":\"white\",\"ticks\":\"\"},\"caxis\":{\"gridcolor\":\"white\",\"linecolor\":\"white\",\"ticks\":\"\"}},\"coloraxis\":{\"colorbar\":{\"outlinewidth\":0,\"ticks\":\"\"}},\"colorscale\":{\"sequential\":[[0.0,\"#0d0887\"],[0.1111111111111111,\"#46039f\"],[0.2222222222222222,\"#7201a8\"],[0.3333333333333333,\"#9c179e\"],[0.4444444444444444,\"#bd3786\"],[0.5555555555555556,\"#d8576b\"],[0.6666666666666666,\"#ed7953\"],[0.7777777777777778,\"#fb9f3a\"],[0.8888888888888888,\"#fdca26\"],[1.0,\"#f0f921\"]],\"sequentialminus\":[[0.0,\"#0d0887\"],[0.1111111111111111,\"#46039f\"],[0.2222222222222222,\"#7201a8\"],[0.3333333333333333,\"#9c179e\"],[0.4444444444444444,\"#bd3786\"],[0.5555555555555556,\"#d8576b\"],[0.6666666666666666,\"#ed7953\"],[0.7777777777777778,\"#fb9f3a\"],[0.8888888888888888,\"#fdca26\"],[1.0,\"#f0f921\"]],\"diverging\":[[0,\"#8e0152\"],[0.1,\"#c51b7d\"],[0.2,\"#de77ae\"],[0.3,\"#f1b6da\"],[0.4,\"#fde0ef\"],[0.5,\"#f7f7f7\"],[0.6,\"#e6f5d0\"],[0.7,\"#b8e186\"],[0.8,\"#7fbc41\"],[0.9,\"#4d9221\"],[1,\"#276419\"]]},\"xaxis\":{\"gridcolor\":\"white\",\"linecolor\":\"white\",\"ticks\":\"\",\"title\":{\"standoff\":15},\"zerolinecolor\":\"white\",\"automargin\":true,\"zerolinewidth\":2},\"yaxis\":{\"gridcolor\":\"white\",\"linecolor\":\"white\",\"ticks\":\"\",\"title\":{\"standoff\":15},\"zerolinecolor\":\"white\",\"automargin\":true,\"zerolinewidth\":2},\"scene\":{\"xaxis\":{\"backgroundcolor\":\"#E5ECF6\",\"gridcolor\":\"white\",\"linecolor\":\"white\",\"showbackground\":true,\"ticks\":\"\",\"zerolinecolor\":\"white\",\"gridwidth\":2},\"yaxis\":{\"backgroundcolor\":\"#E5ECF6\",\"gridcolor\":\"white\",\"linecolor\":\"white\",\"showbackground\":true,\"ticks\":\"\",\"zerolinecolor\":\"white\",\"gridwidth\":2},\"zaxis\":{\"backgroundcolor\":\"#E5ECF6\",\"gridcolor\":\"white\",\"linecolor\":\"white\",\"showbackground\":true,\"ticks\":\"\",\"zerolinecolor\":\"white\",\"gridwidth\":2}},\"shapedefaults\":{\"line\":{\"color\":\"#2a3f5f\"}},\"annotationdefaults\":{\"arrowcolor\":\"#2a3f5f\",\"arrowhead\":0,\"arrowwidth\":1},\"geo\":{\"bgcolor\":\"white\",\"landcolor\":\"#E5ECF6\",\"subunitcolor\":\"white\",\"showland\":true,\"showlakes\":true,\"lakecolor\":\"white\"},\"title\":{\"x\":0.05},\"mapbox\":{\"style\":\"light\"}}},\"xaxis\":{\"anchor\":\"y\",\"domain\":[0.0,1.0],\"title\":{\"text\":\"Distance From Net\"}},\"yaxis\":{\"anchor\":\"x\",\"domain\":[0.0,1.0],\"title\":{\"text\":\"Log(Goals over Shots)\"},\"type\":\"log\"},\"legend\":{\"title\":{\"text\":\"shot_type\"},\"tracegroupgap\":0},\"margin\":{\"t\":60},\"barmode\":\"group\",\"title\":{\"text\":\"Log of Goals over Total Shots Per Shot Type Per Region\"}},                        {\"responsive\": true}                    ).then(function(){\n",
       "                            \n",
       "var gd = document.getElementById('d27a6a1e-4caf-451a-bdf6-9e82136b570f');\n",
       "var x = new MutationObserver(function (mutations, observer) {{\n",
       "        var display = window.getComputedStyle(gd).display;\n",
       "        if (!display || display === 'none') {{\n",
       "            console.log([gd, 'removed!']);\n",
       "            Plotly.purge(gd);\n",
       "            observer.disconnect();\n",
       "        }}\n",
       "}});\n",
       "\n",
       "// Listen for the removal of the full notebook cells\n",
       "var notebookContainer = gd.closest('#notebook-container');\n",
       "if (notebookContainer) {{\n",
       "    x.observe(notebookContainer, {childList: true});\n",
       "}}\n",
       "\n",
       "// Listen for the clearing of the current output cell\n",
       "var outputEl = gd.closest('.output');\n",
       "if (outputEl) {{\n",
       "    x.observe(outputEl, {childList: true});\n",
       "}}\n",
       "\n",
       "                        })                };                });            </script>        </div>"
      ]
     },
     "metadata": {},
     "output_type": "display_data"
    }
   ],
   "source": [
    "\n",
    "fig = px.bar(probGoal_2018, x = 'x', y = 'Goals_over_Shots', log_y = True, color = 'shot_type', barmode = 'group')\n",
    "fig.update_layout(title_text='Log of Goals over Total Shots Per Shot Type Per Region',\n",
    "                  xaxis_title='Distance From Net',\n",
    "                  yaxis_title='Log(Goals over Shots)')\n",
    "fig.show()"
   ]
  },
  {
   "cell_type": "code",
   "execution_count": null,
   "id": "88d58d88-3433-49ff-a037-3aa3b25c8c53",
   "metadata": {},
   "outputs": [],
   "source": []
  }
 ],
 "metadata": {
  "kernelspec": {
   "display_name": "Python 3 (ipykernel)",
   "language": "python",
   "name": "python3"
  },
  "language_info": {
   "codemirror_mode": {
    "name": "ipython",
    "version": 3
   },
   "file_extension": ".py",
   "mimetype": "text/x-python",
   "name": "python",
   "nbconvert_exporter": "python",
   "pygments_lexer": "ipython3",
   "version": "3.11.4"
  }
 },
 "nbformat": 4,
 "nbformat_minor": 5
}
