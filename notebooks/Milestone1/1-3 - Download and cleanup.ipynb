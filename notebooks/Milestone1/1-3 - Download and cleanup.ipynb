{
 "cells": [
  {
   "cell_type": "code",
   "execution_count": 1,
   "id": "51fe610c-9647-48a6-a49c-c0ee26d5b28b",
   "metadata": {},
   "outputs": [],
   "source": [
    "from ift6758.data.acquisition import NHLGameData"
   ]
  },
  {
   "cell_type": "code",
   "execution_count": 2,
   "id": "c45b2cd1-ffad-4a03-90ee-b33be167c407",
   "metadata": {},
   "outputs": [],
   "source": [
    "data_path_raw = './../../ift6758/data/json_raw/'\n",
    "nhl_games_data = NHLGameData(data_path_raw)"
   ]
  },
  {
   "cell_type": "code",
   "execution_count": 3,
   "id": "ade842fc",
   "metadata": {},
   "outputs": [
    {
     "name": "stderr",
     "output_type": "stream",
     "text": [
      "Downloading regular games for season 2016-2017:   0%|          | 0/1353 [00:00<?, ?it/s]"
     ]
    },
    {
     "name": "stderr",
     "output_type": "stream",
     "text": [
      "Downloading regular games for season 2016-2017:  91%|█████████ | 1230/1353 [03:55<00:23,  5.23it/s]\n"
     ]
    },
    {
     "name": "stdout",
     "output_type": "stream",
     "text": [
      "Found 1230 regular games for season 2016-2017\n",
      "Saving to cache...\n"
     ]
    },
    {
     "name": "stderr",
     "output_type": "stream",
     "text": [
      "Downloading playoff games for season 2016-2017. Current round: 100%|██████████| 4/4 [00:18<00:00,  4.69s/it]\n"
     ]
    },
    {
     "name": "stdout",
     "output_type": "stream",
     "text": [
      "Found 87 playoff games for season 2016-2017\n",
      "Saving to cache...\n"
     ]
    },
    {
     "name": "stderr",
     "output_type": "stream",
     "text": [
      "Downloading regular games for season 2017-2018:  94%|█████████▍| 1271/1353 [04:06<00:15,  5.15it/s] \n"
     ]
    },
    {
     "name": "stdout",
     "output_type": "stream",
     "text": [
      "Found 1271 regular games for season 2017-2018\n",
      "Saving to cache...\n"
     ]
    },
    {
     "name": "stderr",
     "output_type": "stream",
     "text": [
      "Downloading playoff games for season 2017-2018. Current round: 100%|██████████| 4/4 [00:18<00:00,  4.65s/it]\n"
     ]
    },
    {
     "name": "stdout",
     "output_type": "stream",
     "text": [
      "Found 84 playoff games for season 2017-2018\n",
      "Saving to cache...\n"
     ]
    },
    {
     "name": "stderr",
     "output_type": "stream",
     "text": [
      "Downloading regular games for season 2018-2019:  94%|█████████▍| 1271/1353 [03:55<00:15,  5.40it/s]\n"
     ]
    },
    {
     "name": "stdout",
     "output_type": "stream",
     "text": [
      "Found 1271 regular games for season 2018-2019\n",
      "Saving to cache...\n"
     ]
    },
    {
     "name": "stderr",
     "output_type": "stream",
     "text": [
      "Downloading playoff games for season 2018-2019. Current round: 100%|██████████| 4/4 [00:18<00:00,  4.73s/it]\n"
     ]
    },
    {
     "name": "stdout",
     "output_type": "stream",
     "text": [
      "Found 87 playoff games for season 2018-2019\n",
      "Saving to cache...\n"
     ]
    },
    {
     "name": "stderr",
     "output_type": "stream",
     "text": [
      "Downloading regular games for season 2019-2020:  80%|███████▉  | 1082/1353 [03:17<00:49,  5.49it/s]\n"
     ]
    },
    {
     "name": "stdout",
     "output_type": "stream",
     "text": [
      "Found 1082 regular games for season 2019-2020\n",
      "Saving to cache...\n"
     ]
    },
    {
     "name": "stderr",
     "output_type": "stream",
     "text": [
      "Downloading playoff games for season 2019-2020. Current round: 100%|██████████| 4/4 [00:18<00:00,  4.72s/it]\n"
     ]
    },
    {
     "name": "stdout",
     "output_type": "stream",
     "text": [
      "Found 86 playoff games for season 2019-2020\n",
      "Saving to cache...\n"
     ]
    },
    {
     "name": "stderr",
     "output_type": "stream",
     "text": [
      "Downloading regular games for season 2020-2021:  64%|██████▍   | 868/1353 [02:36<01:27,  5.54it/s]\n"
     ]
    },
    {
     "name": "stdout",
     "output_type": "stream",
     "text": [
      "Found 868 regular games for season 2020-2021\n",
      "Saving to cache...\n"
     ]
    },
    {
     "name": "stderr",
     "output_type": "stream",
     "text": [
      "Downloading playoff games for season 2020-2021. Current round: 100%|██████████| 4/4 [00:18<00:00,  4.57s/it]"
     ]
    },
    {
     "name": "stdout",
     "output_type": "stream",
     "text": [
      "Found 84 playoff games for season 2020-2021\n",
      "Saving to cache...\n"
     ]
    },
    {
     "name": "stderr",
     "output_type": "stream",
     "text": [
      "\n"
     ]
    }
   ],
   "source": [
    "for year in range(2016,2021):\n",
    "    nhl_games_data.fetch_season(year)"
   ]
  },
  {
   "cell_type": "code",
   "execution_count": 4,
   "id": "de104420",
   "metadata": {},
   "outputs": [],
   "source": [
    "from ift6758.data.cleaning import DataCleaner"
   ]
  },
  {
   "cell_type": "code",
   "execution_count": 5,
   "id": "00041643",
   "metadata": {},
   "outputs": [],
   "source": [
    "data_path_clean = './../../ift6758/data/json_clean/'\n",
    "data_cleaner = DataCleaner(data_raw=nhl_games_data, data_path_clean=data_path_clean)"
   ]
  },
  {
   "cell_type": "code",
   "execution_count": 6,
   "id": "eb91aa5e",
   "metadata": {},
   "outputs": [
    {
     "name": "stdout",
     "output_type": "stream",
     "text": [
      "Failed to extract event data for game 2017020045 due to missing rink side information\n",
      "Failed to extract event data for game 2017020062 due to missing rink side information\n",
      "Failed to extract event data for game 2017020077 due to missing rink side information\n",
      "Failed to extract event data for game 2017020090 due to missing rink side information\n",
      "Failed to extract event data for game 2017020121 due to missing rink side information\n",
      "Failed to extract event data for game 2017020135 due to missing rink side information\n",
      "Failed to extract event data for game 2017020149 due to missing rink side information\n",
      "Failed to extract event data for game 2017020248 due to missing rink side information\n",
      "Failed to extract event data for game 2017020308 due to missing rink side information\n",
      "Failed to extract event data for game 2017020347 due to missing rink side information\n",
      "Failed to extract event data for game 2017020376 due to missing rink side information\n",
      "Failed to extract event data for game 2017020411 due to missing rink side information\n",
      "Failed to extract event data for game 2017020424 due to missing rink side information\n",
      "Failed to extract event data for game 2017020474 due to missing rink side information\n",
      "Failed to extract event data for game 2017020490 due to missing rink side information\n",
      "Failed to extract event data for game 2017020510 due to missing rink side information\n",
      "Failed to extract event data for game 2017020525 due to missing rink side information\n",
      "Failed to extract event data for game 2017020555 due to missing rink side information\n",
      "Failed to extract event data for game 2017020593 due to missing rink side information\n",
      "Failed to extract event data for game 2017020613 due to missing rink side information\n",
      "Failed to extract event data for game 2017020651 due to missing rink side information\n",
      "Failed to extract event data for game 2017020676 due to missing rink side information\n",
      "Failed to extract event data for game 2017020741 due to missing rink side information\n",
      "Failed to extract event data for game 2017020758 due to missing rink side information\n",
      "Failed to extract event data for game 2017020859 due to missing rink side information\n",
      "Failed to extract event data for game 2017020874 due to missing rink side information\n",
      "Failed to extract event data for game 2017020888 due to missing rink side information\n",
      "Failed to extract event data for game 2017020900 due to missing rink side information\n",
      "Failed to extract event data for game 2017020917 due to missing rink side information\n",
      "Failed to extract event data for game 2017020929 due to missing rink side information\n",
      "Failed to extract event data for game 2017020945 due to missing rink side information\n",
      "Failed to extract event data for game 2017020976 due to missing rink side information\n",
      "Failed to extract event data for game 2017020998 due to missing rink side information\n",
      "Failed to extract event data for game 2017021081 due to missing rink side information\n",
      "Failed to extract event data for game 2017021097 due to missing rink side information\n",
      "Failed to extract event data for game 2017021109 due to missing rink side information\n",
      "Failed to extract event data for game 2017021130 due to missing rink side information\n",
      "Failed to extract event data for game 2017021175 due to missing rink side information\n",
      "Failed to extract event data for game 2017021189 due to missing rink side information\n",
      "Failed to extract event data for game 2017021205 due to missing rink side information\n",
      "Failed to extract event data for game 2017021217 due to missing rink side information\n",
      "Failed to extract event data for game 2017030171 due to missing rink side information\n",
      "Failed to extract event data for game 2017030172 due to missing rink side information\n",
      "Failed to extract event data for game 2017030241 due to missing rink side information\n",
      "Failed to extract event data for game 2017030242 due to missing rink side information\n",
      "Failed to extract event data for game 2017030245 due to missing rink side information\n",
      "Failed to extract event data for game 2017030323 due to missing rink side information\n",
      "Failed to extract event data for game 2017030324 due to missing rink side information\n",
      "Failed to extract event data for game 2017030411 due to missing rink side information\n",
      "Failed to extract event data for game 2017030412 due to missing rink side information\n",
      "Failed to extract event data for game 2017030415 due to missing rink side information\n",
      "Failed to extract event data for game 2018020014 due to missing rink side information\n",
      "Failed to extract event data for game 2018020085 due to missing rink side information\n",
      "Failed to extract event data for game 2018020113 due to missing rink side information\n",
      "Failed to extract event data for game 2018020133 due to missing rink side information\n",
      "Failed to extract event data for game 2018020144 due to missing rink side information\n",
      "Failed to extract event data for game 2018020163 due to missing rink side information\n",
      "Failed to extract event data for game 2018020204 due to missing rink side information\n",
      "Failed to extract event data for game 2018020276 due to missing rink side information\n",
      "Failed to extract event data for game 2018020290 due to missing rink side information\n",
      "Failed to extract event data for game 2018020338 due to missing rink side information\n",
      "Failed to extract event data for game 2018020356 due to missing rink side information\n",
      "Failed to extract event data for game 2018020424 due to missing rink side information\n",
      "Failed to extract event data for game 2018020438 due to missing rink side information\n",
      "Failed to extract event data for game 2018020460 due to missing rink side information\n",
      "Failed to extract event data for game 2018020540 due to missing rink side information\n",
      "Failed to extract event data for game 2018020549 due to missing rink side information\n",
      "Failed to extract event data for game 2018020565 due to missing rink side information\n",
      "Failed to extract event data for game 2018020577 due to missing rink side information\n",
      "Failed to extract event data for game 2018020614 due to missing rink side information\n",
      "Failed to extract event data for game 2018020646 due to missing rink side information\n",
      "Failed to extract event data for game 2018020666 due to missing rink side information\n",
      "Failed to extract event data for game 2018020681 due to missing rink side information\n",
      "Failed to extract event data for game 2018020750 due to missing rink side information\n",
      "Failed to extract event data for game 2018020757 due to missing rink side information\n",
      "Failed to extract event data for game 2018020768 due to missing rink side information\n",
      "Failed to extract event data for game 2018020851 due to missing rink side information\n",
      "Failed to extract event data for game 2018020874 due to missing rink side information\n",
      "Failed to extract event data for game 2018020885 due to missing rink side information\n",
      "Failed to extract event data for game 2018020901 due to missing rink side information\n",
      "Failed to extract event data for game 2018020928 due to missing rink side information\n",
      "Failed to extract event data for game 2018020944 due to missing rink side information\n",
      "Failed to extract event data for game 2018020978 due to missing rink side information\n",
      "Failed to extract event data for game 2018020989 due to missing rink side information\n",
      "Failed to extract event data for game 2018021011 due to missing rink side information\n",
      "Failed to extract event data for game 2018021032 due to missing rink side information\n",
      "Failed to extract event data for game 2018021117 due to missing rink side information\n",
      "Failed to extract event data for game 2018021146 due to missing rink side information\n",
      "Failed to extract event data for game 2018021162 due to missing rink side information\n",
      "Failed to extract event data for game 2018021202 due to missing rink side information\n",
      "Failed to extract event data for game 2018021227 due to missing rink side information\n",
      "Failed to extract event data for game 2018021253 due to missing rink side information\n",
      "Failed to extract event data for game 2018030183 due to missing rink side information\n",
      "Failed to extract event data for game 2018030184 due to missing rink side information\n",
      "Failed to extract event data for game 2018030186 due to missing rink side information\n",
      "Failed to extract event data for game 2019020004 due to missing rink side information\n",
      "Failed to extract event data for game 2019020043 due to missing rink side information\n",
      "Failed to extract event data for game 2019020074 due to missing rink side information\n",
      "Failed to extract event data for game 2019020090 due to missing rink side information\n",
      "Failed to extract event data for game 2019020105 due to missing rink side information\n",
      "Failed to extract event data for game 2019020155 due to missing rink side information\n",
      "Failed to extract event data for game 2019020176 due to missing rink side information\n",
      "Failed to extract event data for game 2019020195 due to missing rink side information\n",
      "Failed to extract event data for game 2019020215 due to missing rink side information\n",
      "Failed to extract event data for game 2019020285 due to missing rink side information\n",
      "Failed to extract event data for game 2019020315 due to missing rink side information\n",
      "Failed to extract event data for game 2019020329 due to missing rink side information\n",
      "Failed to extract event data for game 2019020344 due to missing rink side information\n",
      "Failed to extract event data for game 2019020360 due to missing rink side information\n",
      "Failed to extract event data for game 2019020399 due to missing rink side information\n",
      "Failed to extract event data for game 2019020466 due to missing rink side information\n",
      "Failed to extract event data for game 2019020482 due to missing rink side information\n",
      "Failed to extract event data for game 2019020518 due to missing rink side information\n",
      "Failed to extract event data for game 2019020533 due to missing rink side information\n",
      "Failed to extract event data for game 2019020580 due to missing rink side information\n",
      "Failed to extract event data for game 2019020600 due to missing rink side information\n",
      "Failed to extract event data for game 2019020615 due to missing rink side information\n",
      "Failed to extract event data for game 2019020638 due to missing rink side information\n",
      "Failed to extract event data for game 2019020644 due to missing rink side information\n",
      "Failed to extract event data for game 2019020673 due to missing rink side information\n",
      "Failed to extract event data for game 2019020686 due to missing rink side information\n",
      "Failed to extract event data for game 2019020701 due to missing rink side information\n",
      "Failed to extract event data for game 2019020854 due to missing rink side information\n",
      "Failed to extract event data for game 2019020889 due to missing rink side information\n",
      "Failed to extract event data for game 2019020905 due to missing rink side information\n",
      "Failed to extract event data for game 2019020918 due to missing rink side information\n",
      "Failed to extract event data for game 2019020939 due to missing rink side information\n",
      "Failed to extract event data for game 2019020957 due to missing rink side information\n",
      "Failed to extract event data for game 2019020982 due to missing rink side information\n",
      "Failed to extract event data for game 2019020997 due to missing rink side information\n",
      "Failed to extract event data for game 2019021016 due to missing rink side information\n",
      "Failed to extract event data for game 2019021027 due to missing rink side information\n",
      "Failed to extract event data for game 2019030151 due to missing rink side information\n",
      "Failed to extract event data for game 2019030152 due to missing rink side information\n",
      "Failed to extract event data for game 2019030155 due to missing rink side information\n",
      "Failed to extract event data for game 2019030231 due to missing rink side information\n",
      "Failed to extract event data for game 2019030232 due to missing rink side information\n",
      "Failed to extract event data for game 2019030235 due to missing rink side information\n",
      "Failed to extract event data for game 2019030237 due to missing rink side information\n",
      "Failed to extract event data for game 2019030321 due to missing rink side information\n",
      "Failed to extract event data for game 2019030322 due to missing rink side information\n",
      "Failed to extract event data for game 2019030325 due to missing rink side information\n",
      "Failed to extract event data for game 2020020015 due to missing rink side information\n",
      "Failed to extract event data for game 2020020031 due to missing rink side information\n",
      "Failed to extract event data for game 2020020044 due to missing rink side information\n",
      "Failed to extract event data for game 2020020058 due to missing rink side information\n",
      "Failed to extract event data for game 2020020106 due to missing rink side information\n",
      "Failed to extract event data for game 2020020122 due to missing rink side information\n",
      "Failed to extract event data for game 2020020177 due to missing rink side information\n",
      "Failed to extract event data for game 2020020194 due to missing rink side information\n",
      "Failed to extract event data for game 2020020210 due to missing rink side information\n",
      "Failed to extract event data for game 2020020226 due to missing rink side information\n",
      "Failed to extract event data for game 2020020243 due to missing rink side information\n",
      "Failed to extract event data for game 2020020259 due to missing rink side information\n",
      "Failed to extract event data for game 2020020351 due to missing rink side information\n",
      "Failed to extract event data for game 2020020361 due to missing rink side information\n",
      "Failed to extract event data for game 2020020455 due to missing rink side information\n",
      "Failed to extract event data for game 2020020466 due to missing rink side information\n",
      "Failed to extract event data for game 2020020554 due to missing rink side information\n",
      "Failed to extract event data for game 2020020569 due to missing rink side information\n",
      "Failed to extract event data for game 2020020579 due to missing rink side information\n",
      "Failed to extract event data for game 2020020595 due to missing rink side information\n",
      "Failed to extract event data for game 2020020639 due to missing rink side information\n",
      "Failed to extract event data for game 2020020655 due to missing rink side information\n",
      "Failed to extract event data for game 2020020713 due to missing rink side information\n",
      "Failed to extract event data for game 2020020728 due to missing rink side information\n",
      "Failed to extract event data for game 2020020764 due to missing rink side information\n",
      "Failed to extract event data for game 2020020779 due to missing rink side information\n",
      "Failed to extract event data for game 2020020851 due to missing rink side information\n",
      "Failed to extract event data for game 2020020866 due to missing rink side information\n",
      "Failed to extract event data for game 2020030161 due to missing rink side information\n",
      "Failed to extract event data for game 2020030162 due to missing rink side information\n",
      "Failed to extract event data for game 2020030165 due to missing rink side information\n",
      "Failed to extract event data for game 2020030167 due to missing rink side information\n",
      "Failed to extract event data for game 2020030233 due to missing rink side information\n",
      "Failed to extract event data for game 2020030234 due to missing rink side information\n",
      "Failed to extract event data for game 2020030236 due to missing rink side information\n",
      "Failed to extract event data for game 2020030311 due to missing rink side information\n",
      "Failed to extract event data for game 2020030312 due to missing rink side information\n",
      "Failed to extract event data for game 2020030315 due to missing rink side information\n"
     ]
    }
   ],
   "source": [
    "for year in range(2016,2021):\n",
    "    data_cleaner.clean_season(year)"
   ]
  },
  {
   "cell_type": "markdown",
   "id": "f7f1aadb",
   "metadata": {},
   "source": [
    "### Test extract"
   ]
  },
  {
   "cell_type": "code",
   "execution_count": 7,
   "id": "a786a50b",
   "metadata": {},
   "outputs": [
    {
     "data": {
      "text/html": [
       "<div>\n",
       "<style scoped>\n",
       "    .dataframe tbody tr th:only-of-type {\n",
       "        vertical-align: middle;\n",
       "    }\n",
       "\n",
       "    .dataframe tbody tr th {\n",
       "        vertical-align: top;\n",
       "    }\n",
       "\n",
       "    .dataframe thead th {\n",
       "        text-align: right;\n",
       "    }\n",
       "</style>\n",
       "<table border=\"1\" class=\"dataframe\">\n",
       "  <thead>\n",
       "    <tr style=\"text-align: right;\">\n",
       "      <th></th>\n",
       "      <th>game_id</th>\n",
       "      <th>time_period</th>\n",
       "      <th>time_game_total</th>\n",
       "      <th>event_type</th>\n",
       "      <th>period</th>\n",
       "      <th>team</th>\n",
       "      <th>coordinates</th>\n",
       "      <th>x</th>\n",
       "      <th>y</th>\n",
       "      <th>shooter</th>\n",
       "      <th>goalie</th>\n",
       "      <th>shot_type</th>\n",
       "      <th>empty_net</th>\n",
       "      <th>strength</th>\n",
       "      <th>opposite_team_side</th>\n",
       "    </tr>\n",
       "  </thead>\n",
       "  <tbody>\n",
       "    <tr>\n",
       "      <th>49862</th>\n",
       "      <td>2016020821</td>\n",
       "      <td>19:26</td>\n",
       "      <td>None</td>\n",
       "      <td>SHOT</td>\n",
       "      <td>2</td>\n",
       "      <td>Buffalo Sabres</td>\n",
       "      <td>{'x': -51.0, 'y': 37.0}</td>\n",
       "      <td>-51.0</td>\n",
       "      <td>37.0</td>\n",
       "      <td>Rasmus Ristolainen</td>\n",
       "      <td>Frederik Andersen</td>\n",
       "      <td>Wrist Shot</td>\n",
       "      <td>False</td>\n",
       "      <td>None</td>\n",
       "      <td>left</td>\n",
       "    </tr>\n",
       "    <tr>\n",
       "      <th>63092</th>\n",
       "      <td>2016021034</td>\n",
       "      <td>01:27</td>\n",
       "      <td>None</td>\n",
       "      <td>SHOT</td>\n",
       "      <td>3</td>\n",
       "      <td>Boston Bruins</td>\n",
       "      <td>{'x': 71.0, 'y': 11.0}</td>\n",
       "      <td>71.0</td>\n",
       "      <td>11.0</td>\n",
       "      <td>Torey Krug</td>\n",
       "      <td>Chad Johnson</td>\n",
       "      <td>Wrist Shot</td>\n",
       "      <td>False</td>\n",
       "      <td>None</td>\n",
       "      <td>right</td>\n",
       "    </tr>\n",
       "    <tr>\n",
       "      <th>28090</th>\n",
       "      <td>2016020462</td>\n",
       "      <td>14:29</td>\n",
       "      <td>None</td>\n",
       "      <td>SHOT</td>\n",
       "      <td>2</td>\n",
       "      <td>Toronto Maple Leafs</td>\n",
       "      <td>{'x': 39.0, 'y': 31.0}</td>\n",
       "      <td>39.0</td>\n",
       "      <td>31.0</td>\n",
       "      <td>Jake Gardiner</td>\n",
       "      <td>Marc-Andre Fleury</td>\n",
       "      <td>Snap Shot</td>\n",
       "      <td>False</td>\n",
       "      <td>None</td>\n",
       "      <td>right</td>\n",
       "    </tr>\n",
       "    <tr>\n",
       "      <th>26966</th>\n",
       "      <td>2016020444</td>\n",
       "      <td>07:43</td>\n",
       "      <td>None</td>\n",
       "      <td>SHOT</td>\n",
       "      <td>1</td>\n",
       "      <td>Colorado Avalanche</td>\n",
       "      <td>{'x': -48.0, 'y': 2.0}</td>\n",
       "      <td>-48.0</td>\n",
       "      <td>2.0</td>\n",
       "      <td>Jarome Iginla</td>\n",
       "      <td>Steve Mason</td>\n",
       "      <td>Wrist Shot</td>\n",
       "      <td>False</td>\n",
       "      <td>None</td>\n",
       "      <td>left</td>\n",
       "    </tr>\n",
       "    <tr>\n",
       "      <th>53034</th>\n",
       "      <td>2016020872</td>\n",
       "      <td>03:29</td>\n",
       "      <td>None</td>\n",
       "      <td>GOAL</td>\n",
       "      <td>3</td>\n",
       "      <td>Chicago Blackhawks</td>\n",
       "      <td>{'x': -81.0, 'y': -5.0}</td>\n",
       "      <td>-81.0</td>\n",
       "      <td>-5.0</td>\n",
       "      <td>Artem Anisimov</td>\n",
       "      <td>Robin Lehner</td>\n",
       "      <td>Tip-In</td>\n",
       "      <td>False</td>\n",
       "      <td>Even</td>\n",
       "      <td>left</td>\n",
       "    </tr>\n",
       "    <tr>\n",
       "      <th>71903</th>\n",
       "      <td>2016021179</td>\n",
       "      <td>17:48</td>\n",
       "      <td>None</td>\n",
       "      <td>SHOT</td>\n",
       "      <td>2</td>\n",
       "      <td>Tampa Bay Lightning</td>\n",
       "      <td>{'x': 78.0, 'y': 37.0}</td>\n",
       "      <td>78.0</td>\n",
       "      <td>37.0</td>\n",
       "      <td>Alex Killorn</td>\n",
       "      <td>Tuukka Rask</td>\n",
       "      <td>Wrist Shot</td>\n",
       "      <td>False</td>\n",
       "      <td>None</td>\n",
       "      <td>right</td>\n",
       "    </tr>\n",
       "    <tr>\n",
       "      <th>38</th>\n",
       "      <td>2016020001</td>\n",
       "      <td>13:35</td>\n",
       "      <td>None</td>\n",
       "      <td>SHOT</td>\n",
       "      <td>2</td>\n",
       "      <td>Toronto Maple Leafs</td>\n",
       "      <td>{'x': 35.0, 'y': -14.0}</td>\n",
       "      <td>35.0</td>\n",
       "      <td>-14.0</td>\n",
       "      <td>Connor Carrick</td>\n",
       "      <td>Craig Anderson</td>\n",
       "      <td>Slap Shot</td>\n",
       "      <td>False</td>\n",
       "      <td>None</td>\n",
       "      <td>right</td>\n",
       "    </tr>\n",
       "    <tr>\n",
       "      <th>39485</th>\n",
       "      <td>2016020650</td>\n",
       "      <td>19:55</td>\n",
       "      <td>None</td>\n",
       "      <td>SHOT</td>\n",
       "      <td>2</td>\n",
       "      <td>Los Angeles Kings</td>\n",
       "      <td>{'x': 45.0, 'y': -2.0}</td>\n",
       "      <td>45.0</td>\n",
       "      <td>-2.0</td>\n",
       "      <td>Drew Doughty</td>\n",
       "      <td>Michael Hutchinson</td>\n",
       "      <td>Wrist Shot</td>\n",
       "      <td>False</td>\n",
       "      <td>None</td>\n",
       "      <td>right</td>\n",
       "    </tr>\n",
       "    <tr>\n",
       "      <th>50235</th>\n",
       "      <td>2016020827</td>\n",
       "      <td>18:14</td>\n",
       "      <td>None</td>\n",
       "      <td>SHOT</td>\n",
       "      <td>3</td>\n",
       "      <td>Edmonton Oilers</td>\n",
       "      <td>{'x': 56.0, 'y': 12.0}</td>\n",
       "      <td>56.0</td>\n",
       "      <td>12.0</td>\n",
       "      <td>Jordan Eberle</td>\n",
       "      <td>Scott Darling</td>\n",
       "      <td>Wrist Shot</td>\n",
       "      <td>False</td>\n",
       "      <td>None</td>\n",
       "      <td>right</td>\n",
       "    </tr>\n",
       "    <tr>\n",
       "      <th>20967</th>\n",
       "      <td>2016020345</td>\n",
       "      <td>03:27</td>\n",
       "      <td>None</td>\n",
       "      <td>SHOT</td>\n",
       "      <td>4</td>\n",
       "      <td>Boston Bruins</td>\n",
       "      <td>{'x': -45.0, 'y': 31.0}</td>\n",
       "      <td>-45.0</td>\n",
       "      <td>31.0</td>\n",
       "      <td>Torey Krug</td>\n",
       "      <td>Cam Ward</td>\n",
       "      <td>Wrist Shot</td>\n",
       "      <td>False</td>\n",
       "      <td>None</td>\n",
       "      <td>left</td>\n",
       "    </tr>\n",
       "  </tbody>\n",
       "</table>\n",
       "</div>"
      ],
      "text/plain": [
       "          game_id time_period time_game_total event_type  period  \\\n",
       "49862  2016020821       19:26            None       SHOT       2   \n",
       "63092  2016021034       01:27            None       SHOT       3   \n",
       "28090  2016020462       14:29            None       SHOT       2   \n",
       "26966  2016020444       07:43            None       SHOT       1   \n",
       "53034  2016020872       03:29            None       GOAL       3   \n",
       "71903  2016021179       17:48            None       SHOT       2   \n",
       "38     2016020001       13:35            None       SHOT       2   \n",
       "39485  2016020650       19:55            None       SHOT       2   \n",
       "50235  2016020827       18:14            None       SHOT       3   \n",
       "20967  2016020345       03:27            None       SHOT       4   \n",
       "\n",
       "                      team              coordinates     x     y  \\\n",
       "49862       Buffalo Sabres  {'x': -51.0, 'y': 37.0} -51.0  37.0   \n",
       "63092        Boston Bruins   {'x': 71.0, 'y': 11.0}  71.0  11.0   \n",
       "28090  Toronto Maple Leafs   {'x': 39.0, 'y': 31.0}  39.0  31.0   \n",
       "26966   Colorado Avalanche   {'x': -48.0, 'y': 2.0} -48.0   2.0   \n",
       "53034   Chicago Blackhawks  {'x': -81.0, 'y': -5.0} -81.0  -5.0   \n",
       "71903  Tampa Bay Lightning   {'x': 78.0, 'y': 37.0}  78.0  37.0   \n",
       "38     Toronto Maple Leafs  {'x': 35.0, 'y': -14.0}  35.0 -14.0   \n",
       "39485    Los Angeles Kings   {'x': 45.0, 'y': -2.0}  45.0  -2.0   \n",
       "50235      Edmonton Oilers   {'x': 56.0, 'y': 12.0}  56.0  12.0   \n",
       "20967        Boston Bruins  {'x': -45.0, 'y': 31.0} -45.0  31.0   \n",
       "\n",
       "                  shooter              goalie   shot_type  empty_net strength  \\\n",
       "49862  Rasmus Ristolainen   Frederik Andersen  Wrist Shot      False     None   \n",
       "63092          Torey Krug        Chad Johnson  Wrist Shot      False     None   \n",
       "28090       Jake Gardiner   Marc-Andre Fleury   Snap Shot      False     None   \n",
       "26966       Jarome Iginla         Steve Mason  Wrist Shot      False     None   \n",
       "53034      Artem Anisimov        Robin Lehner      Tip-In      False     Even   \n",
       "71903        Alex Killorn         Tuukka Rask  Wrist Shot      False     None   \n",
       "38         Connor Carrick      Craig Anderson   Slap Shot      False     None   \n",
       "39485        Drew Doughty  Michael Hutchinson  Wrist Shot      False     None   \n",
       "50235       Jordan Eberle       Scott Darling  Wrist Shot      False     None   \n",
       "20967          Torey Krug            Cam Ward  Wrist Shot      False     None   \n",
       "\n",
       "      opposite_team_side  \n",
       "49862               left  \n",
       "63092              right  \n",
       "28090              right  \n",
       "26966               left  \n",
       "53034               left  \n",
       "71903              right  \n",
       "38                 right  \n",
       "39485              right  \n",
       "50235              right  \n",
       "20967               left  "
      ]
     },
     "execution_count": 7,
     "metadata": {},
     "output_type": "execute_result"
    }
   ],
   "source": [
    "import pandas as pd\n",
    "\n",
    "# print out a pandas head of the data\n",
    "data_2016 = pd.read_pickle(data_path_clean + '2016/2016.pkl')\n",
    "data_2017 = pd.read_pickle(data_path_clean + '2017/2017.pkl')\n",
    "data_2018 = pd.read_pickle(data_path_clean + '2018/2018.pkl')\n",
    "data_2019 = pd.read_pickle(data_path_clean + '2019/2019.pkl')\n",
    "data_2020 = pd.read_pickle(data_path_clean + '2020/2020.pkl')\n",
    "    \n",
    "data_2016.sample(10)"
   ]
  },
  {
   "cell_type": "code",
   "execution_count": 8,
   "metadata": {},
   "outputs": [
    {
     "name": "stdout",
     "output_type": "stream",
     "text": [
      "(80377, 15)\n",
      "(83885, 15)\n",
      "(83053, 15)\n",
      "(70809, 15)\n",
      "(55460, 15)\n"
     ]
    }
   ],
   "source": [
    "print(data_2016.shape)\n",
    "print(data_2017.shape)\n",
    "print(data_2018.shape)\n",
    "print(data_2019.shape)\n",
    "print(data_2020.shape)"
   ]
  },
  {
   "cell_type": "code",
   "execution_count": 22,
   "id": "d5cacc5b",
   "metadata": {},
   "outputs": [
    {
     "data": {
      "text/html": [
       "<div>\n",
       "<style scoped>\n",
       "    .dataframe tbody tr th:only-of-type {\n",
       "        vertical-align: middle;\n",
       "    }\n",
       "\n",
       "    .dataframe tbody tr th {\n",
       "        vertical-align: top;\n",
       "    }\n",
       "\n",
       "    .dataframe thead th {\n",
       "        text-align: right;\n",
       "    }\n",
       "</style>\n",
       "<table border=\"1\" class=\"dataframe\">\n",
       "  <thead>\n",
       "    <tr style=\"text-align: right;\">\n",
       "      <th></th>\n",
       "      <th>game_id</th>\n",
       "      <th>time</th>\n",
       "      <th>event_type</th>\n",
       "      <th>period</th>\n",
       "      <th>team</th>\n",
       "      <th>coordinates</th>\n",
       "      <th>x</th>\n",
       "      <th>y</th>\n",
       "      <th>shooter</th>\n",
       "      <th>goalie</th>\n",
       "      <th>shot_type</th>\n",
       "      <th>empty_net</th>\n",
       "      <th>strength</th>\n",
       "      <th>opposite_team_side</th>\n",
       "    </tr>\n",
       "  </thead>\n",
       "  <tbody>\n",
       "    <tr>\n",
       "      <th>60724</th>\n",
       "      <td>2018020993</td>\n",
       "      <td>18:32</td>\n",
       "      <td>GOAL</td>\n",
       "      <td>3</td>\n",
       "      <td>Washington Capitals</td>\n",
       "      <td>{}</td>\n",
       "      <td>NaN</td>\n",
       "      <td>NaN</td>\n",
       "      <td>T.J. Oshie</td>\n",
       "      <td>None</td>\n",
       "      <td>None</td>\n",
       "      <td>False</td>\n",
       "      <td>Even</td>\n",
       "      <td>left</td>\n",
       "    </tr>\n",
       "    <tr>\n",
       "      <th>68157</th>\n",
       "      <td>2018021114</td>\n",
       "      <td>10:53</td>\n",
       "      <td>GOAL</td>\n",
       "      <td>1</td>\n",
       "      <td>Vancouver Canucks</td>\n",
       "      <td>{'y': -17.0}</td>\n",
       "      <td>NaN</td>\n",
       "      <td>-17.0</td>\n",
       "      <td>Tim Schaller</td>\n",
       "      <td>Anton Khudobin</td>\n",
       "      <td>Snap Shot</td>\n",
       "      <td>False</td>\n",
       "      <td>Even</td>\n",
       "      <td>right</td>\n",
       "    </tr>\n",
       "    <tr>\n",
       "      <th>68610</th>\n",
       "      <td>2018021122</td>\n",
       "      <td>02:52</td>\n",
       "      <td>GOAL</td>\n",
       "      <td>1</td>\n",
       "      <td>Washington Capitals</td>\n",
       "      <td>{'y': 15.0}</td>\n",
       "      <td>NaN</td>\n",
       "      <td>15.0</td>\n",
       "      <td>Andre Burakovsky</td>\n",
       "      <td>Mackenzie Blackwood</td>\n",
       "      <td>Wrist Shot</td>\n",
       "      <td>False</td>\n",
       "      <td>Even</td>\n",
       "      <td>left</td>\n",
       "    </tr>\n",
       "  </tbody>\n",
       "</table>\n",
       "</div>"
      ],
      "text/plain": [
       "          game_id   time event_type  period                 team  \\\n",
       "60724  2018020993  18:32       GOAL       3  Washington Capitals   \n",
       "68157  2018021114  10:53       GOAL       1    Vancouver Canucks   \n",
       "68610  2018021122  02:52       GOAL       1  Washington Capitals   \n",
       "\n",
       "        coordinates   x     y           shooter               goalie  \\\n",
       "60724            {} NaN   NaN        T.J. Oshie                 None   \n",
       "68157  {'y': -17.0} NaN -17.0      Tim Schaller       Anton Khudobin   \n",
       "68610   {'y': 15.0} NaN  15.0  Andre Burakovsky  Mackenzie Blackwood   \n",
       "\n",
       "        shot_type  empty_net strength opposite_team_side  \n",
       "60724        None      False     Even               left  \n",
       "68157   Snap Shot      False     Even              right  \n",
       "68610  Wrist Shot      False     Even               left  "
      ]
     },
     "execution_count": 22,
     "metadata": {},
     "output_type": "execute_result"
    }
   ],
   "source": [
    "# Bad data sometimes\n",
    "data_2018[data_2018['x'].isnull()]"
   ]
  },
  {
   "cell_type": "code",
   "execution_count": 23,
   "metadata": {},
   "outputs": [
    {
     "name": "stdout",
     "output_type": "stream",
     "text": [
      "0\n",
      "0\n",
      "0\n",
      "0\n",
      "0\n"
     ]
    }
   ],
   "source": [
    "# see if there is any null times throughout the years\n",
    "print(len(data_2016[data_2016['time'].isnull()]))\n",
    "print(len(data_2017[data_2017['time'].isnull()]))\n",
    "print(len(data_2018[data_2018['time'].isnull()]))\n",
    "print(len(data_2019[data_2019['time'].isnull()]))\n",
    "print(len(data_2020[data_2020['time'].isnull()]))"
   ]
  }
 ],
 "metadata": {
  "kernelspec": {
   "display_name": "Python 3",
   "language": "python",
   "name": "python3"
  },
  "language_info": {
   "codemirror_mode": {
    "name": "ipython",
    "version": 3
   },
   "file_extension": ".py",
   "mimetype": "text/x-python",
   "name": "python",
   "nbconvert_exporter": "python",
   "pygments_lexer": "ipython3",
   "version": "3.11.5"
  }
 },
 "nbformat": 4,
 "nbformat_minor": 5
}
