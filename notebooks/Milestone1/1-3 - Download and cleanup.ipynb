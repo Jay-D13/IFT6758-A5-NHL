{
 "cells": [
  {
   "cell_type": "code",
   "execution_count": 4,
   "metadata": {},
   "outputs": [],
   "source": [
    "%load_ext autoreload\n",
    "%autoreload 2"
   ]
  },
  {
   "cell_type": "code",
   "execution_count": 5,
   "id": "51fe610c-9647-48a6-a49c-c0ee26d5b28b",
   "metadata": {},
   "outputs": [],
   "source": [
    "from ift6758.data.acquisition import NHLGameData"
   ]
  },
  {
   "cell_type": "code",
   "execution_count": 2,
   "id": "c45b2cd1-ffad-4a03-90ee-b33be167c407",
   "metadata": {},
   "outputs": [],
   "source": [
    "data_path_raw = './../../ift6758/data/json_raw/'\n",
    "nhl_games_data = NHLGameData(data_path_raw)"
   ]
  },
  {
   "cell_type": "code",
   "execution_count": 3,
   "id": "ade842fc",
   "metadata": {},
   "outputs": [
    {
     "name": "stderr",
     "output_type": "stream",
     "text": [
      "Downloading regular games for season 2016-2017:   0%|          | 0/1353 [00:00<?, ?it/s]"
     ]
    },
    {
     "name": "stderr",
     "output_type": "stream",
     "text": [
      "Downloading regular games for season 2016-2017:  91%|█████████ | 1230/1353 [04:15<00:25,  4.81it/s]\n"
     ]
    },
    {
     "name": "stdout",
     "output_type": "stream",
     "text": [
      "Found 1230 regular games for season 2016-2017\n",
      "Saving to cache...\n"
     ]
    },
    {
     "name": "stderr",
     "output_type": "stream",
     "text": [
      "Downloading playoff games for season 2016-2017. Current round: 100%|██████████| 4/4 [00:24<00:00,  6.02s/it]\n"
     ]
    },
    {
     "name": "stdout",
     "output_type": "stream",
     "text": [
      "Found 87 playoff games for season 2016-2017\n",
      "Saving to cache...\n"
     ]
    },
    {
     "name": "stderr",
     "output_type": "stream",
     "text": [
      "Downloading regular games for season 2017-2018:  94%|█████████▍| 1271/1353 [04:22<00:16,  4.83it/s]\n"
     ]
    },
    {
     "name": "stdout",
     "output_type": "stream",
     "text": [
      "Found 1271 regular games for season 2017-2018\n",
      "Saving to cache...\n"
     ]
    },
    {
     "name": "stderr",
     "output_type": "stream",
     "text": [
      "Downloading playoff games for season 2017-2018. Current round: 100%|██████████| 4/4 [00:21<00:00,  5.26s/it]\n"
     ]
    },
    {
     "name": "stdout",
     "output_type": "stream",
     "text": [
      "Found 84 playoff games for season 2017-2018\n",
      "Saving to cache...\n"
     ]
    },
    {
     "name": "stderr",
     "output_type": "stream",
     "text": [
      "Downloading regular games for season 2018-2019:  94%|█████████▍| 1271/1353 [04:23<00:17,  4.82it/s]\n"
     ]
    },
    {
     "name": "stdout",
     "output_type": "stream",
     "text": [
      "Found 1271 regular games for season 2018-2019\n",
      "Saving to cache...\n"
     ]
    },
    {
     "name": "stderr",
     "output_type": "stream",
     "text": [
      "Downloading playoff games for season 2018-2019. Current round: 100%|██████████| 4/4 [00:38<00:00,  9.63s/it]\n"
     ]
    },
    {
     "name": "stdout",
     "output_type": "stream",
     "text": [
      "Found 87 playoff games for season 2018-2019\n",
      "Saving to cache...\n"
     ]
    },
    {
     "name": "stderr",
     "output_type": "stream",
     "text": [
      "Downloading regular games for season 2019-2020:  80%|███████▉  | 1082/1353 [03:41<00:55,  4.89it/s]\n"
     ]
    },
    {
     "name": "stdout",
     "output_type": "stream",
     "text": [
      "Found 1082 regular games for season 2019-2020\n",
      "Saving to cache...\n"
     ]
    },
    {
     "name": "stderr",
     "output_type": "stream",
     "text": [
      "Downloading playoff games for season 2019-2020. Current round: 100%|██████████| 4/4 [00:21<00:00,  5.29s/it]\n"
     ]
    },
    {
     "name": "stdout",
     "output_type": "stream",
     "text": [
      "Found 86 playoff games for season 2019-2020\n",
      "Saving to cache...\n"
     ]
    },
    {
     "name": "stderr",
     "output_type": "stream",
     "text": [
      "Downloading regular games for season 2020-2021:  64%|██████▍   | 868/1353 [02:57<01:39,  4.88it/s]\n"
     ]
    },
    {
     "name": "stdout",
     "output_type": "stream",
     "text": [
      "Found 868 regular games for season 2020-2021\n",
      "Saving to cache...\n"
     ]
    },
    {
     "name": "stderr",
     "output_type": "stream",
     "text": [
      "Downloading playoff games for season 2020-2021. Current round: 100%|██████████| 4/4 [00:21<00:00,  5.27s/it]"
     ]
    },
    {
     "name": "stdout",
     "output_type": "stream",
     "text": [
      "Found 84 playoff games for season 2020-2021\n",
      "Saving to cache...\n"
     ]
    },
    {
     "name": "stderr",
     "output_type": "stream",
     "text": [
      "\n"
     ]
    }
   ],
   "source": [
    "for year in range(2016,2021):\n",
    "    nhl_games_data.fetch_season(year)"
   ]
  },
  {
   "cell_type": "code",
   "execution_count": 6,
   "id": "de104420",
   "metadata": {},
   "outputs": [],
   "source": [
    "from ift6758.data.cleaning import DataCleaner"
   ]
  },
  {
   "cell_type": "code",
   "execution_count": 7,
   "id": "00041643",
   "metadata": {},
   "outputs": [],
   "source": [
    "data_path_clean = './../../ift6758/data/json_clean/'\n",
    "data_cleaner = DataCleaner(data_raw=nhl_games_data, data_path_clean=data_path_clean)"
   ]
  },
  {
   "cell_type": "code",
   "execution_count": 21,
   "id": "eb91aa5e",
   "metadata": {},
   "outputs": [],
   "source": [
    "for year in range(2016,2021):\n",
    "    data_cleaner.clean_season(year)"
   ]
  },
  {
   "cell_type": "markdown",
   "id": "f7f1aadb",
   "metadata": {},
   "source": [
    "### Test extract"
   ]
  },
  {
   "cell_type": "code",
   "execution_count": 27,
   "id": "a786a50b",
   "metadata": {},
   "outputs": [
    {
     "data": {
      "text/html": [
       "<div>\n",
       "<style scoped>\n",
       "    .dataframe tbody tr th:only-of-type {\n",
       "        vertical-align: middle;\n",
       "    }\n",
       "\n",
       "    .dataframe tbody tr th {\n",
       "        vertical-align: top;\n",
       "    }\n",
       "\n",
       "    .dataframe thead th {\n",
       "        text-align: right;\n",
       "    }\n",
       "</style>\n",
       "<table border=\"1\" class=\"dataframe\">\n",
       "  <thead>\n",
       "    <tr style=\"text-align: right;\">\n",
       "      <th></th>\n",
       "      <th>game_id</th>\n",
       "      <th>period</th>\n",
       "      <th>period_time</th>\n",
       "      <th>type</th>\n",
       "      <th>team</th>\n",
       "      <th>x</th>\n",
       "      <th>y</th>\n",
       "      <th>shooter</th>\n",
       "      <th>goalie</th>\n",
       "      <th>shot_type</th>\n",
       "      <th>empty_net</th>\n",
       "      <th>strength</th>\n",
       "      <th>opposite_team_side</th>\n",
       "    </tr>\n",
       "  </thead>\n",
       "  <tbody>\n",
       "    <tr>\n",
       "      <th>62</th>\n",
       "      <td>2016020015</td>\n",
       "      <td>1</td>\n",
       "      <td>243</td>\n",
       "      <td>shot-on-goal</td>\n",
       "      <td>CGY</td>\n",
       "      <td>65</td>\n",
       "      <td>-1</td>\n",
       "      <td>Lance Bouma</td>\n",
       "      <td>Cam Talbot</td>\n",
       "      <td>tip-in</td>\n",
       "      <td>False</td>\n",
       "      <td>None</td>\n",
       "      <td>right</td>\n",
       "    </tr>\n",
       "    <tr>\n",
       "      <th>5347</th>\n",
       "      <td>2016020382</td>\n",
       "      <td>3</td>\n",
       "      <td>900</td>\n",
       "      <td>shot-on-goal</td>\n",
       "      <td>EDM</td>\n",
       "      <td>-76</td>\n",
       "      <td>0</td>\n",
       "      <td>Leon Draisaitl</td>\n",
       "      <td>Anders Nilsson</td>\n",
       "      <td>wrist</td>\n",
       "      <td>False</td>\n",
       "      <td>None</td>\n",
       "      <td>left</td>\n",
       "    </tr>\n",
       "    <tr>\n",
       "      <th>530</th>\n",
       "      <td>2016020055</td>\n",
       "      <td>1</td>\n",
       "      <td>587</td>\n",
       "      <td>shot-on-goal</td>\n",
       "      <td>TBL</td>\n",
       "      <td>44</td>\n",
       "      <td>11</td>\n",
       "      <td>Nikita Kucherov</td>\n",
       "      <td>Semyon Varlamov</td>\n",
       "      <td>slap</td>\n",
       "      <td>False</td>\n",
       "      <td>None</td>\n",
       "      <td>right</td>\n",
       "    </tr>\n",
       "    <tr>\n",
       "      <th>11261</th>\n",
       "      <td>2016020861</td>\n",
       "      <td>1</td>\n",
       "      <td>613</td>\n",
       "      <td>shot-on-goal</td>\n",
       "      <td>OTT</td>\n",
       "      <td>36</td>\n",
       "      <td>-15</td>\n",
       "      <td>Cody Ceci</td>\n",
       "      <td>Frederik Andersen</td>\n",
       "      <td>slap</td>\n",
       "      <td>False</td>\n",
       "      <td>None</td>\n",
       "      <td>right</td>\n",
       "    </tr>\n",
       "    <tr>\n",
       "      <th>8078</th>\n",
       "      <td>2016020651</td>\n",
       "      <td>1</td>\n",
       "      <td>1199</td>\n",
       "      <td>shot-on-goal</td>\n",
       "      <td>STL</td>\n",
       "      <td>79</td>\n",
       "      <td>-21</td>\n",
       "      <td>Alexander Steen</td>\n",
       "      <td>Martin Jones</td>\n",
       "      <td>wrist</td>\n",
       "      <td>False</td>\n",
       "      <td>None</td>\n",
       "      <td>right</td>\n",
       "    </tr>\n",
       "    <tr>\n",
       "      <th>12477</th>\n",
       "      <td>2016020954</td>\n",
       "      <td>1</td>\n",
       "      <td>591</td>\n",
       "      <td>shot-on-goal</td>\n",
       "      <td>CBJ</td>\n",
       "      <td>-83</td>\n",
       "      <td>4</td>\n",
       "      <td>Boone Jenner</td>\n",
       "      <td>Craig Anderson</td>\n",
       "      <td>wrist</td>\n",
       "      <td>False</td>\n",
       "      <td>None</td>\n",
       "      <td>left</td>\n",
       "    </tr>\n",
       "    <tr>\n",
       "      <th>10782</th>\n",
       "      <td>2016020835</td>\n",
       "      <td>1</td>\n",
       "      <td>268</td>\n",
       "      <td>shot-on-goal</td>\n",
       "      <td>CGY</td>\n",
       "      <td>66</td>\n",
       "      <td>-21</td>\n",
       "      <td>Mikael Backlund</td>\n",
       "      <td>Mike Smith</td>\n",
       "      <td>backhand</td>\n",
       "      <td>False</td>\n",
       "      <td>None</td>\n",
       "      <td>right</td>\n",
       "    </tr>\n",
       "    <tr>\n",
       "      <th>7709</th>\n",
       "      <td>2016020614</td>\n",
       "      <td>2</td>\n",
       "      <td>838</td>\n",
       "      <td>goal</td>\n",
       "      <td>CAR</td>\n",
       "      <td>74</td>\n",
       "      <td>0</td>\n",
       "      <td>Brock McGinn</td>\n",
       "      <td>None</td>\n",
       "      <td>wrist</td>\n",
       "      <td>True</td>\n",
       "      <td>None</td>\n",
       "      <td>right</td>\n",
       "    </tr>\n",
       "    <tr>\n",
       "      <th>1952</th>\n",
       "      <td>2016020150</td>\n",
       "      <td>1</td>\n",
       "      <td>799</td>\n",
       "      <td>shot-on-goal</td>\n",
       "      <td>OTT</td>\n",
       "      <td>75</td>\n",
       "      <td>37</td>\n",
       "      <td>Derick Brassard</td>\n",
       "      <td>Jacob Markstrom</td>\n",
       "      <td>wrist</td>\n",
       "      <td>False</td>\n",
       "      <td>None</td>\n",
       "      <td>right</td>\n",
       "    </tr>\n",
       "    <tr>\n",
       "      <th>780</th>\n",
       "      <td>2016020067</td>\n",
       "      <td>3</td>\n",
       "      <td>116</td>\n",
       "      <td>shot-on-goal</td>\n",
       "      <td>SJS</td>\n",
       "      <td>-33</td>\n",
       "      <td>-2</td>\n",
       "      <td>Chris Tierney</td>\n",
       "      <td>Jimmy Howard</td>\n",
       "      <td>slap</td>\n",
       "      <td>False</td>\n",
       "      <td>None</td>\n",
       "      <td>right</td>\n",
       "    </tr>\n",
       "  </tbody>\n",
       "</table>\n",
       "</div>"
      ],
      "text/plain": [
       "          game_id  period  period_time          type team   x   y  \\\n",
       "62     2016020015       1          243  shot-on-goal  CGY  65  -1   \n",
       "5347   2016020382       3          900  shot-on-goal  EDM -76   0   \n",
       "530    2016020055       1          587  shot-on-goal  TBL  44  11   \n",
       "11261  2016020861       1          613  shot-on-goal  OTT  36 -15   \n",
       "8078   2016020651       1         1199  shot-on-goal  STL  79 -21   \n",
       "12477  2016020954       1          591  shot-on-goal  CBJ -83   4   \n",
       "10782  2016020835       1          268  shot-on-goal  CGY  66 -21   \n",
       "7709   2016020614       2          838          goal  CAR  74   0   \n",
       "1952   2016020150       1          799  shot-on-goal  OTT  75  37   \n",
       "780    2016020067       3          116  shot-on-goal  SJS -33  -2   \n",
       "\n",
       "               shooter             goalie shot_type  empty_net strength  \\\n",
       "62         Lance Bouma         Cam Talbot    tip-in      False     None   \n",
       "5347    Leon Draisaitl     Anders Nilsson     wrist      False     None   \n",
       "530    Nikita Kucherov    Semyon Varlamov      slap      False     None   \n",
       "11261        Cody Ceci  Frederik Andersen      slap      False     None   \n",
       "8078   Alexander Steen       Martin Jones     wrist      False     None   \n",
       "12477     Boone Jenner     Craig Anderson     wrist      False     None   \n",
       "10782  Mikael Backlund         Mike Smith  backhand      False     None   \n",
       "7709      Brock McGinn               None     wrist       True     None   \n",
       "1952   Derick Brassard    Jacob Markstrom     wrist      False     None   \n",
       "780      Chris Tierney       Jimmy Howard      slap      False     None   \n",
       "\n",
       "      opposite_team_side  \n",
       "62                 right  \n",
       "5347                left  \n",
       "530                right  \n",
       "11261              right  \n",
       "8078               right  \n",
       "12477               left  \n",
       "10782              right  \n",
       "7709               right  \n",
       "1952               right  \n",
       "780                right  "
      ]
     },
     "execution_count": 27,
     "metadata": {},
     "output_type": "execute_result"
    }
   ],
   "source": [
    "import pandas as pd\n",
    "\n",
    "# print out a pandas head of the data\n",
    "data_2016 = pd.read_pickle(data_path_clean + '2016/2016.pkl')\n",
    "data_2017 = pd.read_pickle(data_path_clean + '2017/2017.pkl')\n",
    "data_2018 = pd.read_pickle(data_path_clean + '2018/2018.pkl')\n",
    "data_2019 = pd.read_pickle(data_path_clean + '2019/2019.pkl')\n",
    "data_2020 = pd.read_pickle(data_path_clean + '2020/2020.pkl')\n",
    "    \n",
    "data_2016.sample(10)"
   ]
  },
  {
   "cell_type": "code",
   "execution_count": 28,
   "metadata": {},
   "outputs": [
    {
     "name": "stdout",
     "output_type": "stream",
     "text": [
      "(17935, 13)\n",
      "(9559, 13)\n",
      "(9395, 13)\n",
      "(2675, 13)\n",
      "(4081, 13)\n"
     ]
    }
   ],
   "source": [
    "print(data_2016.shape)\n",
    "print(data_2017.shape)\n",
    "print(data_2018.shape)\n",
    "print(data_2019.shape)\n",
    "print(data_2020.shape)"
   ]
  },
  {
   "cell_type": "code",
   "execution_count": 29,
   "id": "d5cacc5b",
   "metadata": {},
   "outputs": [
    {
     "data": {
      "text/html": [
       "<div>\n",
       "<style scoped>\n",
       "    .dataframe tbody tr th:only-of-type {\n",
       "        vertical-align: middle;\n",
       "    }\n",
       "\n",
       "    .dataframe tbody tr th {\n",
       "        vertical-align: top;\n",
       "    }\n",
       "\n",
       "    .dataframe thead th {\n",
       "        text-align: right;\n",
       "    }\n",
       "</style>\n",
       "<table border=\"1\" class=\"dataframe\">\n",
       "  <thead>\n",
       "    <tr style=\"text-align: right;\">\n",
       "      <th></th>\n",
       "      <th>game_id</th>\n",
       "      <th>period</th>\n",
       "      <th>period_time</th>\n",
       "      <th>type</th>\n",
       "      <th>team</th>\n",
       "      <th>x</th>\n",
       "      <th>y</th>\n",
       "      <th>shooter</th>\n",
       "      <th>goalie</th>\n",
       "      <th>shot_type</th>\n",
       "      <th>empty_net</th>\n",
       "      <th>strength</th>\n",
       "      <th>opposite_team_side</th>\n",
       "    </tr>\n",
       "  </thead>\n",
       "  <tbody>\n",
       "  </tbody>\n",
       "</table>\n",
       "</div>"
      ],
      "text/plain": [
       "Empty DataFrame\n",
       "Columns: [game_id, period, period_time, type, team, x, y, shooter, goalie, shot_type, empty_net, strength, opposite_team_side]\n",
       "Index: []"
      ]
     },
     "execution_count": 29,
     "metadata": {},
     "output_type": "execute_result"
    }
   ],
   "source": [
    "# Bad data sometimes\n",
    "data_2018[data_2018['x'].isnull()]"
   ]
  },
  {
   "cell_type": "code",
   "execution_count": 31,
   "metadata": {},
   "outputs": [
    {
     "name": "stdout",
     "output_type": "stream",
     "text": [
      "0\n",
      "0\n",
      "0\n",
      "0\n",
      "0\n"
     ]
    }
   ],
   "source": [
    "# see if there is any null times throughout the years\n",
    "print(len(data_2016[data_2016['period_time'].isnull()]))\n",
    "print(len(data_2017[data_2017['period_time'].isnull()]))\n",
    "print(len(data_2018[data_2018['period_time'].isnull()]))\n",
    "print(len(data_2019[data_2019['period_time'].isnull()]))\n",
    "print(len(data_2020[data_2020['period_time'].isnull()]))"
   ]
  }
 ],
 "metadata": {
  "kernelspec": {
   "display_name": "Python 3",
   "language": "python",
   "name": "python3"
  },
  "language_info": {
   "codemirror_mode": {
    "name": "ipython",
    "version": 3
   },
   "file_extension": ".py",
   "mimetype": "text/x-python",
   "name": "python",
   "nbconvert_exporter": "python",
   "pygments_lexer": "ipython3",
   "version": "3.11.5"
  }
 },
 "nbformat": 4,
 "nbformat_minor": 5
}
