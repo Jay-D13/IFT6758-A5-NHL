{
 "cells": [
  {
   "cell_type": "code",
   "execution_count": 1,
   "id": "51fe610c-9647-48a6-a49c-c0ee26d5b28b",
   "metadata": {},
   "outputs": [],
   "source": [
    "from ift6758.data.acquisition import NHLGameData"
   ]
  },
  {
   "cell_type": "code",
   "execution_count": 2,
   "id": "c45b2cd1-ffad-4a03-90ee-b33be167c407",
   "metadata": {},
   "outputs": [],
   "source": [
    "data_path_raw = './../ift6758/data/json_raw/'\n",
    "data_fetcher = NHLGameData(data_path_raw)"
   ]
  },
  {
   "cell_type": "code",
   "execution_count": 3,
   "id": "ade842fc",
   "metadata": {},
   "outputs": [
    {
     "name": "stdout",
     "output_type": "stream",
     "text": [
      "Failed to retrieve data from https://statsapi.web.nhl.com/api/v1/game/2016021231/feed/live/.\n",
      "Failed to fetch regular game 1231 for season 2016.\n",
      "Failed to retrieve data from https://statsapi.web.nhl.com/api/v1/game/2016030147/feed/live/.\n",
      "No data in playoff game 0147 for season 2016.\n",
      "Failed to retrieve data from https://statsapi.web.nhl.com/api/v1/game/2016030176/feed/live/.\n",
      "No data in playoff game 0176 for season 2016.\n",
      "Failed to retrieve data from https://statsapi.web.nhl.com/api/v1/game/2016030251/feed/live/.\n",
      "No data in playoff game 0251 for season 2016.\n",
      "Failed to retrieve data from https://statsapi.web.nhl.com/api/v1/game/2016030261/feed/live/.\n",
      "No data in playoff game 0261 for season 2016.\n",
      "Failed to retrieve data from https://statsapi.web.nhl.com/api/v1/game/2016030271/feed/live/.\n",
      "No data in playoff game 0271 for season 2016.\n",
      "Failed to retrieve data from https://statsapi.web.nhl.com/api/v1/game/2016030281/feed/live/.\n",
      "No data in playoff game 0281 for season 2016.\n",
      "Failed to retrieve data from https://statsapi.web.nhl.com/api/v1/game/2016030331/feed/live/.\n",
      "No data in playoff game 0331 for season 2016.\n",
      "Failed to retrieve data from https://statsapi.web.nhl.com/api/v1/game/2016030341/feed/live/.\n",
      "No data in playoff game 0341 for season 2016.\n",
      "Failed to retrieve data from https://statsapi.web.nhl.com/api/v1/game/2016030351/feed/live/.\n",
      "No data in playoff game 0351 for season 2016.\n",
      "Failed to retrieve data from https://statsapi.web.nhl.com/api/v1/game/2016030361/feed/live/.\n",
      "No data in playoff game 0361 for season 2016.\n",
      "Failed to retrieve data from https://statsapi.web.nhl.com/api/v1/game/2016030371/feed/live/.\n",
      "No data in playoff game 0371 for season 2016.\n",
      "Failed to retrieve data from https://statsapi.web.nhl.com/api/v1/game/2016030381/feed/live/.\n",
      "No data in playoff game 0381 for season 2016.\n",
      "Failed to retrieve data from https://statsapi.web.nhl.com/api/v1/game/2016030421/feed/live/.\n",
      "No data in playoff game 0421 for season 2016.\n",
      "Failed to retrieve data from https://statsapi.web.nhl.com/api/v1/game/2016030431/feed/live/.\n",
      "No data in playoff game 0431 for season 2016.\n",
      "Failed to retrieve data from https://statsapi.web.nhl.com/api/v1/game/2016030441/feed/live/.\n",
      "No data in playoff game 0441 for season 2016.\n",
      "Failed to retrieve data from https://statsapi.web.nhl.com/api/v1/game/2016030451/feed/live/.\n",
      "No data in playoff game 0451 for season 2016.\n",
      "Failed to retrieve data from https://statsapi.web.nhl.com/api/v1/game/2016030461/feed/live/.\n",
      "No data in playoff game 0461 for season 2016.\n",
      "Failed to retrieve data from https://statsapi.web.nhl.com/api/v1/game/2016030471/feed/live/.\n",
      "No data in playoff game 0471 for season 2016.\n",
      "Failed to retrieve data from https://statsapi.web.nhl.com/api/v1/game/2016030481/feed/live/.\n",
      "No data in playoff game 0481 for season 2016.\n"
     ]
    }
   ],
   "source": [
    "data_fetcher.fetch_season(2016);"
   ]
  },
  {
   "cell_type": "code",
   "execution_count": 4,
   "id": "de104420",
   "metadata": {},
   "outputs": [],
   "source": [
    "from ift6758.data.cleaning import DataCleaner"
   ]
  },
  {
   "cell_type": "code",
   "execution_count": 5,
   "id": "00041643",
   "metadata": {},
   "outputs": [],
   "source": [
    "data_path_clean = './../ift6758/data/json_clean/'\n",
    "data_cleaner = DataCleaner(data_path_raw=data_path_raw, data_path_clean=data_path_clean)"
   ]
  },
  {
   "cell_type": "code",
   "execution_count": 6,
   "id": "eb91aa5e",
   "metadata": {},
   "outputs": [],
   "source": [
    "data_cleaner.clean_season(2016);"
   ]
  }
 ],
 "metadata": {
  "kernelspec": {
   "display_name": "Python 3",
   "language": "python",
   "name": "python3"
  },
  "language_info": {
   "codemirror_mode": {
    "name": "ipython",
    "version": 3
   },
   "file_extension": ".py",
   "mimetype": "text/x-python",
   "name": "python",
   "nbconvert_exporter": "python",
   "pygments_lexer": "ipython3",
   "version": "3.11.5"
  }
 },
 "nbformat": 4,
 "nbformat_minor": 5
}
