{
 "cells": [
  {
   "cell_type": "markdown",
   "id": "dedd5bb0-0c41-4e99-9e13-0aabaeac9bba",
   "metadata": {},
   "source": [
    "# Sample code for Question 1\n",
    "\n",
    "This notebook shows how you can use the provided Python function to pull player stats from an online website.\n",
    "This function lives in a custom package that is provided to you in this repository.\n",
    "You are encouraged to leverage this package as a skeleton and add all of your reusable code, functions, etc. into relevant modules.\n",
    "This makes collaboration much easier as the package could be seen as a \"single source of truth\" to pull data, create visualizations, etc. rather than relying on a jumble of notebooks.\n",
    "You can still run into trouble if branches are not frequently merged as work progresses, so try to not let your branches diverge too much."
   ]
  },
  {
   "cell_type": "code",
   "execution_count": 1,
   "id": "51fe610c-9647-48a6-a49c-c0ee26d5b28b",
   "metadata": {},
   "outputs": [],
   "source": [
    "from ift6758.data import get_player_stats"
   ]
  },
  {
   "cell_type": "markdown",
   "id": "64ac3fbd-9100-43df-b100-b3589a34602b",
   "metadata": {},
   "source": [
    "If the above doesn't work for you, make sure you've installed the repo as specified in the readme file. \n",
    "Essentially you must make sure that your environment is setup (either through conda or virtualenv), and then install it using:\n",
    "\n",
    "```bash\n",
    "pip install -e /path/to/repo \n",
    "```\n",
    "\n",
    "The nice thing using this approach is if you have your environment activated, you can import modules from anywhere on your system!"
   ]
  },
  {
   "cell_type": "code",
   "execution_count": 2,
   "id": "663c6229-089f-4244-945e-e81540698e3e",
   "metadata": {},
   "outputs": [
    {
     "name": "stdout",
     "output_type": "stream",
     "text": [
      "Retrieving data from 'https://www.hockey-reference.com/leagues/NHL_2016_goalies.html'...\n"
     ]
    }
   ],
   "source": [
    "df = get_player_stats(2016, 'goalies')"
   ]
  },
  {
   "cell_type": "markdown",
   "id": "f2288804-5936-45f8-b186-bc9bccbbaf4d",
   "metadata": {},
   "source": [
    "If you're curious, this function uses the `pd.read_html()` method ([doc](https://pandas.pydata.org/pandas-docs/stable/reference/api/pandas.read_html.html)), which internally uses [Beautiful Soup](https://www.crummy.com/software/BeautifulSoup/bs4/doc/) to parse HTML data."
   ]
  },
  {
   "cell_type": "code",
   "execution_count": 3,
   "id": "78f8a1a2-8262-4966-9a8d-38b1e516e2c8",
   "metadata": {},
   "outputs": [
    {
     "data": {
      "text/html": [
       "<div>\n",
       "<style scoped>\n",
       "    .dataframe tbody tr th:only-of-type {\n",
       "        vertical-align: middle;\n",
       "    }\n",
       "\n",
       "    .dataframe tbody tr th {\n",
       "        vertical-align: top;\n",
       "    }\n",
       "\n",
       "    .dataframe thead th {\n",
       "        text-align: right;\n",
       "    }\n",
       "</style>\n",
       "<table border=\"1\" class=\"dataframe\">\n",
       "  <thead>\n",
       "    <tr style=\"text-align: right;\">\n",
       "      <th></th>\n",
       "      <th>Rk</th>\n",
       "      <th>Player</th>\n",
       "      <th>Age</th>\n",
       "      <th>Tm</th>\n",
       "      <th>GP</th>\n",
       "      <th>GS</th>\n",
       "      <th>W</th>\n",
       "      <th>L</th>\n",
       "      <th>T/O</th>\n",
       "      <th>GA</th>\n",
       "      <th>...</th>\n",
       "      <th>MIN</th>\n",
       "      <th>QS</th>\n",
       "      <th>QS%</th>\n",
       "      <th>RBS</th>\n",
       "      <th>GA%-</th>\n",
       "      <th>GSAA</th>\n",
       "      <th>G</th>\n",
       "      <th>A</th>\n",
       "      <th>PTS</th>\n",
       "      <th>PIM</th>\n",
       "    </tr>\n",
       "  </thead>\n",
       "  <tbody>\n",
       "    <tr>\n",
       "      <th>0</th>\n",
       "      <td>1</td>\n",
       "      <td>Jake Allen</td>\n",
       "      <td>25</td>\n",
       "      <td>STL</td>\n",
       "      <td>47</td>\n",
       "      <td>44</td>\n",
       "      <td>26</td>\n",
       "      <td>15</td>\n",
       "      <td>3</td>\n",
       "      <td>101</td>\n",
       "      <td>...</td>\n",
       "      <td>2583</td>\n",
       "      <td>26</td>\n",
       "      <td>.591</td>\n",
       "      <td>6</td>\n",
       "      <td>94</td>\n",
       "      <td>6.28</td>\n",
       "      <td>0</td>\n",
       "      <td>0</td>\n",
       "      <td>0</td>\n",
       "      <td>0</td>\n",
       "    </tr>\n",
       "    <tr>\n",
       "      <th>1</th>\n",
       "      <td>2</td>\n",
       "      <td>Frederik Andersen</td>\n",
       "      <td>26</td>\n",
       "      <td>ANA</td>\n",
       "      <td>43</td>\n",
       "      <td>37</td>\n",
       "      <td>22</td>\n",
       "      <td>9</td>\n",
       "      <td>7</td>\n",
       "      <td>88</td>\n",
       "      <td>...</td>\n",
       "      <td>2298</td>\n",
       "      <td>24</td>\n",
       "      <td>.649</td>\n",
       "      <td>5</td>\n",
       "      <td>95</td>\n",
       "      <td>4.46</td>\n",
       "      <td>0</td>\n",
       "      <td>1</td>\n",
       "      <td>1</td>\n",
       "      <td>2</td>\n",
       "    </tr>\n",
       "    <tr>\n",
       "      <th>2</th>\n",
       "      <td>3</td>\n",
       "      <td>Craig Anderson</td>\n",
       "      <td>34</td>\n",
       "      <td>OTT</td>\n",
       "      <td>60</td>\n",
       "      <td>60</td>\n",
       "      <td>31</td>\n",
       "      <td>23</td>\n",
       "      <td>5</td>\n",
       "      <td>161</td>\n",
       "      <td>...</td>\n",
       "      <td>3477</td>\n",
       "      <td>31</td>\n",
       "      <td>.517</td>\n",
       "      <td>8</td>\n",
       "      <td>99</td>\n",
       "      <td>2.05</td>\n",
       "      <td>0</td>\n",
       "      <td>2</td>\n",
       "      <td>2</td>\n",
       "      <td>0</td>\n",
       "    </tr>\n",
       "    <tr>\n",
       "      <th>3</th>\n",
       "      <td>4</td>\n",
       "      <td>Richard Bachman</td>\n",
       "      <td>28</td>\n",
       "      <td>VAN</td>\n",
       "      <td>1</td>\n",
       "      <td>1</td>\n",
       "      <td>1</td>\n",
       "      <td>0</td>\n",
       "      <td>0</td>\n",
       "      <td>3</td>\n",
       "      <td>...</td>\n",
       "      <td>60</td>\n",
       "      <td>0</td>\n",
       "      <td>.000</td>\n",
       "      <td>0</td>\n",
       "      <td>NaN</td>\n",
       "      <td>NaN</td>\n",
       "      <td>0</td>\n",
       "      <td>0</td>\n",
       "      <td>0</td>\n",
       "      <td>0</td>\n",
       "    </tr>\n",
       "    <tr>\n",
       "      <th>4</th>\n",
       "      <td>5</td>\n",
       "      <td>Niklas Bäckström</td>\n",
       "      <td>37</td>\n",
       "      <td>CGY</td>\n",
       "      <td>4</td>\n",
       "      <td>3</td>\n",
       "      <td>2</td>\n",
       "      <td>2</td>\n",
       "      <td>0</td>\n",
       "      <td>13</td>\n",
       "      <td>...</td>\n",
       "      <td>233</td>\n",
       "      <td>2</td>\n",
       "      <td>.667</td>\n",
       "      <td>1</td>\n",
       "      <td>NaN</td>\n",
       "      <td>NaN</td>\n",
       "      <td>0</td>\n",
       "      <td>0</td>\n",
       "      <td>0</td>\n",
       "      <td>0</td>\n",
       "    </tr>\n",
       "  </tbody>\n",
       "</table>\n",
       "<p>5 rows × 26 columns</p>\n",
       "</div>"
      ],
      "text/plain": [
       "  Rk             Player Age   Tm  GP  GS   W   L T/O   GA  ...   MIN  QS  \\\n",
       "0  1         Jake Allen  25  STL  47  44  26  15   3  101  ...  2583  26   \n",
       "1  2  Frederik Andersen  26  ANA  43  37  22   9   7   88  ...  2298  24   \n",
       "2  3     Craig Anderson  34  OTT  60  60  31  23   5  161  ...  3477  31   \n",
       "3  4    Richard Bachman  28  VAN   1   1   1   0   0    3  ...    60   0   \n",
       "4  5   Niklas Bäckström  37  CGY   4   3   2   2   0   13  ...   233   2   \n",
       "\n",
       "    QS% RBS GA%-  GSAA  G  A PTS PIM  \n",
       "0  .591   6   94  6.28  0  0   0   0  \n",
       "1  .649   5   95  4.46  0  1   1   2  \n",
       "2  .517   8   99  2.05  0  2   2   0  \n",
       "3  .000   0  NaN   NaN  0  0   0   0  \n",
       "4  .667   1  NaN   NaN  0  0   0   0  \n",
       "\n",
       "[5 rows x 26 columns]"
      ]
     },
     "execution_count": 3,
     "metadata": {},
     "output_type": "execute_result"
    }
   ],
   "source": [
    "df.head()"
   ]
  },
  {
   "cell_type": "code",
   "execution_count": 1,
   "id": "c45b2cd1-ffad-4a03-90ee-b33be167c407",
   "metadata": {},
   "outputs": [
    {
     "name": "stdout",
     "output_type": "stream",
     "text": [
      "Loading cached data in cache\\pickleFiles\\2016.pkl\n",
      "1332 cached games found for year 2016\n",
      "Loading cached data in cache\\pickleFiles\\2017.pkl\n",
      "1376 cached games found for year 2017\n",
      "Loading cached data in cache\\pickleFiles\\2018.pkl\n",
      "1376 cached games found for year 2018\n",
      "Loading cached data in cache\\pickleFiles\\2019.pkl\n",
      "1428 cached games found for year 2019\n",
      "Loading cached data in cache\\pickleFiles\\2020.pkl\n",
      "973 cached games found for year 2020\n"
     ]
    }
   ],
   "source": [
    "from ift6758.data.acquisition import Season\n",
    "\n",
    "season_list = {}\n",
    "for year in range(2016, 2021):\n",
    "    new_season = Season(year=year, data_path=f'./cache/pickleFiles/{year}.pkl')\n",
    "    season_list[year] = new_season"
   ]
  },
  {
   "cell_type": "code",
   "execution_count": 53,
   "id": "a179e701",
   "metadata": {},
   "outputs": [
    {
     "data": {
      "application/vnd.jupyter.widget-view+json": {
       "model_id": "0415e289304a402091321538410755b9",
       "version_major": 2,
       "version_minor": 0
      },
      "text/plain": [
       "Dropdown(description='Season Type :', options=('Regular', 'Playoff'), value='Regular')"
      ]
     },
     "metadata": {},
     "output_type": "display_data"
    },
    {
     "data": {
      "application/vnd.jupyter.widget-view+json": {
       "model_id": "25eac9ad66294ef593094c31769b28dd",
       "version_major": 2,
       "version_minor": 0
      },
      "text/plain": [
       "IntSlider(value=2016, description='Season :', max=2020, min=2016)"
      ]
     },
     "metadata": {},
     "output_type": "display_data"
    },
    {
     "data": {
      "application/vnd.jupyter.widget-view+json": {
       "model_id": "713f6b56b4eb425ba6c3ba83dc9e2c00",
       "version_major": 2,
       "version_minor": 0
      },
      "text/plain": [
       "IntSlider(value=0, description='Game ID :', max=1350)"
      ]
     },
     "metadata": {},
     "output_type": "display_data"
    },
    {
     "data": {
      "application/vnd.jupyter.widget-view+json": {
       "model_id": "b927e199116344329f2e42ced8702a85",
       "version_major": 2,
       "version_minor": 0
      },
      "text/plain": [
       "HTML(value='Game date')"
      ]
     },
     "metadata": {},
     "output_type": "display_data"
    },
    {
     "data": {
      "application/vnd.jupyter.widget-view+json": {
       "model_id": "81aa0df332594dbcba1bee7050cc8a68",
       "version_major": 2,
       "version_minor": 0
      },
      "text/plain": [
       "IntSlider(value=0, description='Event ID :', max=1350)"
      ]
     },
     "metadata": {},
     "output_type": "display_data"
    },
    {
     "data": {
      "application/vnd.jupyter.widget-view+json": {
       "model_id": "8a44d5aee78a4b7289bd41cfe91b2e3e",
       "version_major": 2,
       "version_minor": 0
      },
      "text/plain": [
       "HTML(value='Event data')"
      ]
     },
     "metadata": {},
     "output_type": "display_data"
    }
   ],
   "source": [
    "from ift6758.data.acquisition import SeasonType\n",
    "import ipywidgets as widgets\n",
    "import json\n",
    "\n",
    "def get_games_for_season_and_seasonType(season_type: SeasonType, season:int):\n",
    "    return [item for item in season_list[season].data if season_type.value in str(item['gamePk'])[4:6]]\n",
    "\n",
    "year_slider = widgets.IntSlider(\n",
    "    min=2016, \n",
    "    max=2020, \n",
    "    description='Season :')\n",
    "\n",
    "seasonType_selector = widgets.Dropdown(\n",
    "    options=[item.name.capitalize() for item in SeasonType],\n",
    "    value=SeasonType.REGULAR.name.capitalize(),\n",
    "    description='Season Type :',\n",
    "    disabled=False,\n",
    ")\n",
    "\n",
    "game_id_slider = widgets.IntSlider(\n",
    "    min=0, \n",
    "    max=1350, \n",
    "    description='Game ID :')\n",
    "\n",
    "game_summary_desc = widgets.HTML(\n",
    "    value=\"Game date\",\n",
    ")\n",
    "\n",
    "event_id_slider = widgets.IntSlider(\n",
    "    min=0, \n",
    "    max=1350, \n",
    "    description='Event ID :')\n",
    "\n",
    "event_desc = widgets.HTML(\n",
    "    value = \"Event data\"\n",
    ")\n",
    "\n",
    "display(\n",
    "    seasonType_selector, \n",
    "    year_slider, \n",
    "    game_id_slider,\n",
    "    game_summary_desc,\n",
    "    event_id_slider,\n",
    "    event_desc)\n",
    "\n",
    "all_games = []\n",
    "selectedGame = None\n",
    "\n",
    "def on_value_change(year, season_type):\n",
    "    global all_games \n",
    "    global selectedGame\n",
    "    all_games = get_games_for_season_and_seasonType(SeasonType[season_type.upper()], year)\n",
    "    game_id_slider.max = (len(all_games) - 1)\n",
    "    game_id_slider.value = 0\n",
    "    update_game_summary(0)\n",
    "    events = selectedGame['liveData']['plays']['allPlays'] \n",
    "    event_id_slider.max = (len(events) - 1)\n",
    "    event_id_slider.value = 0\n",
    "    update_event_info(0)\n",
    "\n",
    "def on_year_change(change):\n",
    "    on_value_change(year=change['new'], season_type=seasonType_selector.value)\n",
    "\n",
    "def on_seasonType_change(change):\n",
    "    on_value_change(year=year_slider.value, season_type=change['new'])\n",
    "\n",
    "def update_game_summary(game_id):\n",
    "    global all_games\n",
    "    global selectedGame\n",
    "    selectedGame = all_games[game_id]\n",
    "    dateTime = selectedGame['gameData']['datetime']\n",
    "    game_summary_desc.value = (f'{dateTime[\"dateTime\"]}<br>' \n",
    "        f'Game ID : {game_id} &nbsp {selectedGame[\"gameData\"][\"teams\"][\"home\"][\"abbreviation\"]} (home) vs {selectedGame[\"gameData\"][\"teams\"][\"away\"][\"abbreviation\"]} (away) <br>'\n",
    "        'Summary :'\n",
    "        '<table>'\n",
    "        '   <tr>'\n",
    "        '       <th></th>'\n",
    "        '       <th>Home</th>'\n",
    "        '       <th>Away</th>'\n",
    "        '   </tr>'\n",
    "        '   <tr>'\n",
    "        '       <td>Teams</td>'\n",
    "        f'       <td>{selectedGame[\"gameData\"][\"teams\"][\"home\"][\"abbreviation\"]}</td>'\n",
    "        f'       <td>{selectedGame[\"gameData\"][\"teams\"][\"away\"][\"abbreviation\"]}</td>'\n",
    "        '   </tr>'\n",
    "        '   <tr>'\n",
    "        '       <td>Goals</th>'\n",
    "        f'       <td>{selectedGame[\"liveData\"][\"linescore\"][\"teams\"][\"home\"][\"goals\"]}</td>'\n",
    "        f'       <td>{selectedGame[\"liveData\"][\"linescore\"][\"teams\"][\"away\"][\"goals\"]}</td>'\n",
    "        '   </tr>'\n",
    "        '   <tr>'\n",
    "        '       <td>SoG</td>'\n",
    "        f'       <td>{selectedGame[\"liveData\"][\"linescore\"][\"teams\"][\"home\"][\"shotsOnGoal\"]}</td>'\n",
    "        f'       <td>{selectedGame[\"liveData\"][\"linescore\"][\"teams\"][\"away\"][\"shotsOnGoal\"]}</td>'\n",
    "        '   </tr>'\n",
    "        '   <tr>'\n",
    "        '       <td>SO Goals</td>'\n",
    "        f'       <td>{selectedGame[\"liveData\"][\"linescore\"][\"shootoutInfo\"][\"home\"][\"scores\"]}</td>'\n",
    "        f'       <td>{selectedGame[\"liveData\"][\"linescore\"][\"shootoutInfo\"][\"away\"][\"scores\"]}</td>'\n",
    "        '   </tr>'\n",
    "        '   <tr>'\n",
    "        '       <td>SO Attempts</td>'\n",
    "        f'       <td>{selectedGame[\"liveData\"][\"linescore\"][\"shootoutInfo\"][\"home\"][\"attempts\"]}</td>'\n",
    "        f'       <td>{selectedGame[\"liveData\"][\"linescore\"][\"shootoutInfo\"][\"away\"][\"attempts\"]}</td>'\n",
    "        '   </tr>'\n",
    "        \n",
    "        )\n",
    "\n",
    "def update_event_info(event_id):\n",
    "    global selectedGame\n",
    "    event = selectedGame['liveData']['plays']['allPlays'][event_id]\n",
    "    event_desc.value = '<pre id=\"json\"> {' + json.dumps(event, indent=2, sort_keys=True) + '}</pre>'\n",
    "\n",
    "def on_event_id_change(change):\n",
    "    update_event_info(change['new'])\n",
    "\n",
    "def on_game_id_change(change):\n",
    "    update_game_summary(change['new'])\n",
    "\n",
    "year_slider.observe(on_year_change, names='value')\n",
    "seasonType_selector.observe(on_seasonType_change, names='value')\n",
    "game_id_slider.observe(on_game_id_change, names='value')\n",
    "event_id_slider.observe(on_event_id_change, names='value')\n",
    "\n",
    "on_value_change(year_slider.value, seasonType_selector.value)"
   ]
  }
 ],
 "metadata": {
  "kernelspec": {
   "display_name": "ift6758-conda-env",
   "language": "python",
   "name": "python3"
  },
  "language_info": {
   "codemirror_mode": {
    "name": "ipython",
    "version": 3
   },
   "file_extension": ".py",
   "mimetype": "text/x-python",
   "name": "python",
   "nbconvert_exporter": "python",
   "pygments_lexer": "ipython3",
   "version": "3.11.5"
  }
 },
 "nbformat": 4,
 "nbformat_minor": 5
}
