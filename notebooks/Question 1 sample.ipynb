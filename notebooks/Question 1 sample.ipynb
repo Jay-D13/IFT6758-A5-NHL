{
 "cells": [
  {
   "cell_type": "code",
   "execution_count": 1,
   "id": "51fe610c-9647-48a6-a49c-c0ee26d5b28b",
   "metadata": {},
   "outputs": [],
   "source": [
    "from ift6758.data.acquisition import NHLGameData"
   ]
  },
  {
   "cell_type": "code",
   "execution_count": 2,
   "id": "c45b2cd1-ffad-4a03-90ee-b33be167c407",
   "metadata": {},
   "outputs": [],
   "source": [
    "data_path = './../ift6758/data/json_raw/'\n",
    "data_fetcher = NHLGameData(data_path)"
   ]
  },
  {
   "cell_type": "code",
   "execution_count": 3,
   "id": "ade842fc",
   "metadata": {},
   "outputs": [
    {
     "name": "stdout",
     "output_type": "stream",
     "text": [
      "Failed to retrieve data from https://statsapi.web.nhl.com/api/v1/game/2016021231/feed/live/.\n",
      "Failed to fetch regular game 1231 for season 2016.\n",
      "Failed to retrieve data from https://statsapi.web.nhl.com/api/v1/game/2016030147/feed/live/.\n",
      "No data in playoff game 0147 for season 2016.\n",
      "Failed to retrieve data from https://statsapi.web.nhl.com/api/v1/game/2016030176/feed/live/.\n",
      "No data in playoff game 0176 for season 2016.\n",
      "Failed to retrieve data from https://statsapi.web.nhl.com/api/v1/game/2016030251/feed/live/.\n",
      "No data in playoff game 0251 for season 2016.\n",
      "Failed to retrieve data from https://statsapi.web.nhl.com/api/v1/game/2016030261/feed/live/.\n",
      "No data in playoff game 0261 for season 2016.\n",
      "Failed to retrieve data from https://statsapi.web.nhl.com/api/v1/game/2016030271/feed/live/.\n",
      "No data in playoff game 0271 for season 2016.\n",
      "Failed to retrieve data from https://statsapi.web.nhl.com/api/v1/game/2016030281/feed/live/.\n",
      "No data in playoff game 0281 for season 2016.\n",
      "Failed to retrieve data from https://statsapi.web.nhl.com/api/v1/game/2016030331/feed/live/.\n",
      "No data in playoff game 0331 for season 2016.\n",
      "Failed to retrieve data from https://statsapi.web.nhl.com/api/v1/game/2016030341/feed/live/.\n",
      "No data in playoff game 0341 for season 2016.\n",
      "Failed to retrieve data from https://statsapi.web.nhl.com/api/v1/game/2016030351/feed/live/.\n",
      "No data in playoff game 0351 for season 2016.\n",
      "Failed to retrieve data from https://statsapi.web.nhl.com/api/v1/game/2016030361/feed/live/.\n",
      "No data in playoff game 0361 for season 2016.\n",
      "Failed to retrieve data from https://statsapi.web.nhl.com/api/v1/game/2016030371/feed/live/.\n",
      "No data in playoff game 0371 for season 2016.\n",
      "Failed to retrieve data from https://statsapi.web.nhl.com/api/v1/game/2016030381/feed/live/.\n",
      "No data in playoff game 0381 for season 2016.\n",
      "Failed to retrieve data from https://statsapi.web.nhl.com/api/v1/game/2016030421/feed/live/.\n",
      "No data in playoff game 0421 for season 2016.\n",
      "Failed to retrieve data from https://statsapi.web.nhl.com/api/v1/game/2016030431/feed/live/.\n",
      "No data in playoff game 0431 for season 2016.\n",
      "Failed to retrieve data from https://statsapi.web.nhl.com/api/v1/game/2016030441/feed/live/.\n",
      "No data in playoff game 0441 for season 2016.\n",
      "Failed to retrieve data from https://statsapi.web.nhl.com/api/v1/game/2016030451/feed/live/.\n",
      "No data in playoff game 0451 for season 2016.\n",
      "Failed to retrieve data from https://statsapi.web.nhl.com/api/v1/game/2016030461/feed/live/.\n",
      "No data in playoff game 0461 for season 2016.\n",
      "Failed to retrieve data from https://statsapi.web.nhl.com/api/v1/game/2016030471/feed/live/.\n",
      "No data in playoff game 0471 for season 2016.\n",
      "Failed to retrieve data from https://statsapi.web.nhl.com/api/v1/game/2016030481/feed/live/.\n",
      "No data in playoff game 0481 for season 2016.\n",
      "Failed to retrieve data from https://statsapi.web.nhl.com/api/v1/game/2016030511/feed/live/.\n",
      "No data in playoff game 0511 for season 2016.\n",
      "Failed to retrieve data from https://statsapi.web.nhl.com/api/v1/game/2016030521/feed/live/.\n",
      "No data in playoff game 0521 for season 2016.\n",
      "Failed to retrieve data from https://statsapi.web.nhl.com/api/v1/game/2016030531/feed/live/.\n",
      "No data in playoff game 0531 for season 2016.\n",
      "Failed to retrieve data from https://statsapi.web.nhl.com/api/v1/game/2016030541/feed/live/.\n",
      "No data in playoff game 0541 for season 2016.\n",
      "Failed to retrieve data from https://statsapi.web.nhl.com/api/v1/game/2016030551/feed/live/.\n",
      "No data in playoff game 0551 for season 2016.\n",
      "Failed to retrieve data from https://statsapi.web.nhl.com/api/v1/game/2016030561/feed/live/.\n",
      "No data in playoff game 0561 for season 2016.\n",
      "Failed to retrieve data from https://statsapi.web.nhl.com/api/v1/game/2016030571/feed/live/.\n",
      "No data in playoff game 0571 for season 2016.\n",
      "Failed to retrieve data from https://statsapi.web.nhl.com/api/v1/game/2016030581/feed/live/.\n",
      "No data in playoff game 0581 for season 2016.\n"
     ]
    }
   ],
   "source": [
    "data_fetcher.fetch_season(2016);"
   ]
  }
 ],
 "metadata": {
  "kernelspec": {
   "display_name": "Python 3",
   "language": "python",
   "name": "python3"
  },
  "language_info": {
   "codemirror_mode": {
    "name": "ipython",
    "version": 3
   },
   "file_extension": ".py",
   "mimetype": "text/x-python",
   "name": "python",
   "nbconvert_exporter": "python",
   "pygments_lexer": "ipython3",
   "version": "3.11.5"
  }
 },
 "nbformat": 4,
 "nbformat_minor": 5
}
