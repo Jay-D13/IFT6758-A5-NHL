{
 "cells": [
  {
   "cell_type": "code",
   "execution_count": 1,
   "id": "2cf11118-6b5f-4f16-9ea2-5a862d37d47c",
   "metadata": {},
   "outputs": [],
   "source": [
    "from ift6758.data.acquisition import NHLGameData\n",
    "from ift6758.data import NB_MAX_REGULAR_GAMES_PER_SEASON, NHL_GAME_URL, SeasonType\n"
   ]
  },
  {
   "cell_type": "code",
   "execution_count": 2,
   "id": "71dc22af-80fa-4dae-8347-86b434325e6f",
   "metadata": {},
   "outputs": [],
   "source": [
    "data_path_raw = './../ift6758/data/json_raw/'\n",
    "nhl_games_data = NHLGameData(data_path_raw)"
   ]
  },
  {
   "cell_type": "code",
   "execution_count": 3,
   "id": "8ebf7d55-1549-4f96-a0db-e320841817a4",
   "metadata": {},
   "outputs": [
    {
     "name": "stdout",
     "output_type": "stream",
     "text": [
      "Loading from cache file ./../ift6758/data/json_raw/2016/2016-regular.pkl\n",
      "Found 1230 regular games for season 2016-2017\n",
      "Loading from cache file ./../ift6758/data/json_raw/2016/2016-playoff.pkl\n",
      "Found 102 playoff games for season 2016-2017\n",
      "Loading from cache file ./../ift6758/data/json_raw/2017/2017-regular.pkl\n",
      "Found 1271 regular games for season 2017-2018\n",
      "Loading from cache file ./../ift6758/data/json_raw/2017/2017-playoff.pkl\n",
      "Found 105 playoff games for season 2017-2018\n",
      "Loading from cache file ./../ift6758/data/json_raw/2018/2018-regular.pkl\n",
      "Found 1271 regular games for season 2018-2019\n",
      "Loading from cache file ./../ift6758/data/json_raw/2018/2018-playoff.pkl\n",
      "Found 105 playoff games for season 2018-2019\n",
      "Loading from cache file ./../ift6758/data/json_raw/2019/2019-regular.pkl\n",
      "Found 1271 regular games for season 2019-2020\n",
      "Loading from cache file ./../ift6758/data/json_raw/2019/2019-playoff.pkl\n",
      "Found 105 playoff games for season 2019-2020\n",
      "Loading from cache file ./../ift6758/data/json_raw/2020/2020-regular.pkl\n",
      "Found 868 regular games for season 2020-2021\n",
      "Loading from cache file ./../ift6758/data/json_raw/2020/2020-playoff.pkl\n",
      "Found 105 playoff games for season 2020-2021\n"
     ]
    }
   ],
   "source": [
    "for year in range(2016,2021):\n",
    "    nhl_games_data.fetch_season(year)"
   ]
  },
  {
   "cell_type": "code",
   "execution_count": 4,
   "id": "661fdfa6-9196-4487-ae75-da409dc1f916",
   "metadata": {},
   "outputs": [],
   "source": [
    "from ift6758.data.cleaning import DataCleaner\n"
   ]
  },
  {
   "cell_type": "code",
   "execution_count": 5,
   "id": "885472bd-55c6-43da-bbeb-534187af9a33",
   "metadata": {},
   "outputs": [],
   "source": [
    "data_path_clean = './../ift6758/data/json_clean/'\n",
    "data_cleaner = DataCleaner(data_raw=nhl_games_data, data_path_clean=data_path_clean)"
   ]
  },
  {
   "cell_type": "code",
   "execution_count": 6,
   "id": "1e579f17-502b-4dd5-bb11-a41ebe926a49",
   "metadata": {},
   "outputs": [],
   "source": [
    "for year in range(2016,2021):\n",
    "    data_cleaner.clean_season(year)"
   ]
  },
  {
   "cell_type": "code",
   "execution_count": 7,
   "id": "40eaac2e-9ac7-4395-8c71-536a220a33b6",
   "metadata": {},
   "outputs": [],
   "source": [
    "from ift6758.features import FeatureEng"
   ]
  },
  {
   "cell_type": "code",
   "execution_count": 8,
   "id": "b9ea604b-b4a5-486b-aeb9-9acf6e3ad83b",
   "metadata": {},
   "outputs": [],
   "source": [
    "w = FeatureEng(data_path_clean)"
   ]
  },
  {
   "cell_type": "code",
   "execution_count": 9,
   "id": "1f94fa0b-fa6b-4bb9-9959-5bf16839121a",
   "metadata": {},
   "outputs": [
    {
     "data": {
      "text/html": [
       "<div>\n",
       "<style scoped>\n",
       "    .dataframe tbody tr th:only-of-type {\n",
       "        vertical-align: middle;\n",
       "    }\n",
       "\n",
       "    .dataframe tbody tr th {\n",
       "        vertical-align: top;\n",
       "    }\n",
       "\n",
       "    .dataframe thead th {\n",
       "        text-align: right;\n",
       "    }\n",
       "</style>\n",
       "<table border=\"1\" class=\"dataframe\">\n",
       "  <thead>\n",
       "    <tr style=\"text-align: right;\">\n",
       "      <th></th>\n",
       "      <th>empty_net</th>\n",
       "      <th>is_goal</th>\n",
       "      <th>distance</th>\n",
       "      <th>angle</th>\n",
       "    </tr>\n",
       "  </thead>\n",
       "  <tbody>\n",
       "    <tr>\n",
       "      <th>0</th>\n",
       "      <td>0</td>\n",
       "      <td>0</td>\n",
       "      <td>13.928388</td>\n",
       "      <td>21.037511</td>\n",
       "    </tr>\n",
       "    <tr>\n",
       "      <th>1</th>\n",
       "      <td>0</td>\n",
       "      <td>0</td>\n",
       "      <td>13.601471</td>\n",
       "      <td>72.897271</td>\n",
       "    </tr>\n",
       "    <tr>\n",
       "      <th>2</th>\n",
       "      <td>0</td>\n",
       "      <td>0</td>\n",
       "      <td>77.025970</td>\n",
       "      <td>-29.560354</td>\n",
       "    </tr>\n",
       "    <tr>\n",
       "      <th>3</th>\n",
       "      <td>0</td>\n",
       "      <td>0</td>\n",
       "      <td>58.940648</td>\n",
       "      <td>-14.743563</td>\n",
       "    </tr>\n",
       "    <tr>\n",
       "      <th>4</th>\n",
       "      <td>0</td>\n",
       "      <td>0</td>\n",
       "      <td>62.609903</td>\n",
       "      <td>26.565051</td>\n",
       "    </tr>\n",
       "    <tr>\n",
       "      <th>...</th>\n",
       "      <td>...</td>\n",
       "      <td>...</td>\n",
       "      <td>...</td>\n",
       "      <td>...</td>\n",
       "    </tr>\n",
       "    <tr>\n",
       "      <th>298129</th>\n",
       "      <td>0</td>\n",
       "      <td>0</td>\n",
       "      <td>26.419690</td>\n",
       "      <td>-60.524111</td>\n",
       "    </tr>\n",
       "    <tr>\n",
       "      <th>298130</th>\n",
       "      <td>0</td>\n",
       "      <td>0</td>\n",
       "      <td>40.496913</td>\n",
       "      <td>69.775141</td>\n",
       "    </tr>\n",
       "    <tr>\n",
       "      <th>298131</th>\n",
       "      <td>0</td>\n",
       "      <td>0</td>\n",
       "      <td>14.866069</td>\n",
       "      <td>42.273689</td>\n",
       "    </tr>\n",
       "    <tr>\n",
       "      <th>298132</th>\n",
       "      <td>0</td>\n",
       "      <td>0</td>\n",
       "      <td>11.401754</td>\n",
       "      <td>-37.874984</td>\n",
       "    </tr>\n",
       "    <tr>\n",
       "      <th>298133</th>\n",
       "      <td>0</td>\n",
       "      <td>0</td>\n",
       "      <td>26.925824</td>\n",
       "      <td>-31.328693</td>\n",
       "    </tr>\n",
       "  </tbody>\n",
       "</table>\n",
       "<p>298134 rows × 4 columns</p>\n",
       "</div>"
      ],
      "text/plain": [
       "        empty_net  is_goal   distance      angle\n",
       "0               0        0  13.928388  21.037511\n",
       "1               0        0  13.601471  72.897271\n",
       "2               0        0  77.025970 -29.560354\n",
       "3               0        0  58.940648 -14.743563\n",
       "4               0        0  62.609903  26.565051\n",
       "...           ...      ...        ...        ...\n",
       "298129          0        0  26.419690 -60.524111\n",
       "298130          0        0  40.496913  69.775141\n",
       "298131          0        0  14.866069  42.273689\n",
       "298132          0        0  11.401754 -37.874984\n",
       "298133          0        0  26.925824 -31.328693\n",
       "\n",
       "[298134 rows x 4 columns]"
      ]
     },
     "execution_count": 9,
     "metadata": {},
     "output_type": "execute_result"
    }
   ],
   "source": [
    "w.TrainValSets(2016,2020)"
   ]
  },
  {
   "cell_type": "code",
   "execution_count": 10,
   "id": "520ef312-06eb-47c1-8660-9216ac81904c",
   "metadata": {},
   "outputs": [
    {
     "data": {
      "text/html": [
       "<div>\n",
       "<style scoped>\n",
       "    .dataframe tbody tr th:only-of-type {\n",
       "        vertical-align: middle;\n",
       "    }\n",
       "\n",
       "    .dataframe tbody tr th {\n",
       "        vertical-align: top;\n",
       "    }\n",
       "\n",
       "    .dataframe thead th {\n",
       "        text-align: right;\n",
       "    }\n",
       "</style>\n",
       "<table border=\"1\" class=\"dataframe\">\n",
       "  <thead>\n",
       "    <tr style=\"text-align: right;\">\n",
       "      <th></th>\n",
       "      <th>game_id</th>\n",
       "      <th>time</th>\n",
       "      <th>event_type</th>\n",
       "      <th>period</th>\n",
       "      <th>team</th>\n",
       "      <th>coordinates</th>\n",
       "      <th>x</th>\n",
       "      <th>y</th>\n",
       "      <th>shooter</th>\n",
       "      <th>goalie</th>\n",
       "      <th>shot_type</th>\n",
       "      <th>empty_net</th>\n",
       "      <th>strength</th>\n",
       "      <th>opposite_team_side</th>\n",
       "    </tr>\n",
       "  </thead>\n",
       "  <tbody>\n",
       "    <tr>\n",
       "      <th>0</th>\n",
       "      <td>2020020001</td>\n",
       "      <td>00:16</td>\n",
       "      <td>SHOT</td>\n",
       "      <td>1</td>\n",
       "      <td>Philadelphia Flyers</td>\n",
       "      <td>{'x': -74.0, 'y': 29.0}</td>\n",
       "      <td>-74.0</td>\n",
       "      <td>29.0</td>\n",
       "      <td>Travis Konecny</td>\n",
       "      <td>Tristan Jarry</td>\n",
       "      <td>Wrist Shot</td>\n",
       "      <td>False</td>\n",
       "      <td>None</td>\n",
       "      <td>left</td>\n",
       "    </tr>\n",
       "    <tr>\n",
       "      <th>1</th>\n",
       "      <td>2020020001</td>\n",
       "      <td>00:34</td>\n",
       "      <td>SHOT</td>\n",
       "      <td>1</td>\n",
       "      <td>Pittsburgh Penguins</td>\n",
       "      <td>{'x': 49.0, 'y': -25.0}</td>\n",
       "      <td>49.0</td>\n",
       "      <td>-25.0</td>\n",
       "      <td>Evan Rodrigues</td>\n",
       "      <td>Carter Hart</td>\n",
       "      <td>Wrist Shot</td>\n",
       "      <td>False</td>\n",
       "      <td>None</td>\n",
       "      <td>right</td>\n",
       "    </tr>\n",
       "    <tr>\n",
       "      <th>2</th>\n",
       "      <td>2020020001</td>\n",
       "      <td>01:05</td>\n",
       "      <td>SHOT</td>\n",
       "      <td>1</td>\n",
       "      <td>Philadelphia Flyers</td>\n",
       "      <td>{'x': -52.0, 'y': -31.0}</td>\n",
       "      <td>-52.0</td>\n",
       "      <td>-31.0</td>\n",
       "      <td>Joel Farabee</td>\n",
       "      <td>Tristan Jarry</td>\n",
       "      <td>Backhand</td>\n",
       "      <td>False</td>\n",
       "      <td>None</td>\n",
       "      <td>left</td>\n",
       "    </tr>\n",
       "    <tr>\n",
       "      <th>3</th>\n",
       "      <td>2020020001</td>\n",
       "      <td>02:51</td>\n",
       "      <td>SHOT</td>\n",
       "      <td>1</td>\n",
       "      <td>Pittsburgh Penguins</td>\n",
       "      <td>{'x': 43.0, 'y': 39.0}</td>\n",
       "      <td>43.0</td>\n",
       "      <td>39.0</td>\n",
       "      <td>Evan Rodrigues</td>\n",
       "      <td>Carter Hart</td>\n",
       "      <td>Snap Shot</td>\n",
       "      <td>False</td>\n",
       "      <td>None</td>\n",
       "      <td>right</td>\n",
       "    </tr>\n",
       "    <tr>\n",
       "      <th>4</th>\n",
       "      <td>2020020001</td>\n",
       "      <td>03:44</td>\n",
       "      <td>SHOT</td>\n",
       "      <td>1</td>\n",
       "      <td>Philadelphia Flyers</td>\n",
       "      <td>{'x': -53.0, 'y': 8.0}</td>\n",
       "      <td>-53.0</td>\n",
       "      <td>8.0</td>\n",
       "      <td>Claude Giroux</td>\n",
       "      <td>Tristan Jarry</td>\n",
       "      <td>Slap Shot</td>\n",
       "      <td>False</td>\n",
       "      <td>None</td>\n",
       "      <td>left</td>\n",
       "    </tr>\n",
       "    <tr>\n",
       "      <th>...</th>\n",
       "      <td>...</td>\n",
       "      <td>...</td>\n",
       "      <td>...</td>\n",
       "      <td>...</td>\n",
       "      <td>...</td>\n",
       "      <td>...</td>\n",
       "      <td>...</td>\n",
       "      <td>...</td>\n",
       "      <td>...</td>\n",
       "      <td>...</td>\n",
       "      <td>...</td>\n",
       "      <td>...</td>\n",
       "      <td>...</td>\n",
       "      <td>...</td>\n",
       "    </tr>\n",
       "    <tr>\n",
       "      <th>55459</th>\n",
       "      <td>2020030415</td>\n",
       "      <td>16:19</td>\n",
       "      <td>SHOT</td>\n",
       "      <td>3</td>\n",
       "      <td>Tampa Bay Lightning</td>\n",
       "      <td>{'x': 57.0, 'y': 30.0}</td>\n",
       "      <td>57.0</td>\n",
       "      <td>30.0</td>\n",
       "      <td>Blake Coleman</td>\n",
       "      <td>Carey Price</td>\n",
       "      <td>Wrist Shot</td>\n",
       "      <td>False</td>\n",
       "      <td>None</td>\n",
       "      <td>right</td>\n",
       "    </tr>\n",
       "    <tr>\n",
       "      <th>55460</th>\n",
       "      <td>2020030415</td>\n",
       "      <td>17:13</td>\n",
       "      <td>SHOT</td>\n",
       "      <td>3</td>\n",
       "      <td>Tampa Bay Lightning</td>\n",
       "      <td>{'x': 56.0, 'y': -31.0}</td>\n",
       "      <td>56.0</td>\n",
       "      <td>-31.0</td>\n",
       "      <td>Mikhail Sergachev</td>\n",
       "      <td>Carey Price</td>\n",
       "      <td>Backhand</td>\n",
       "      <td>False</td>\n",
       "      <td>None</td>\n",
       "      <td>right</td>\n",
       "    </tr>\n",
       "    <tr>\n",
       "      <th>55461</th>\n",
       "      <td>2020030415</td>\n",
       "      <td>19:01</td>\n",
       "      <td>SHOT</td>\n",
       "      <td>3</td>\n",
       "      <td>Montréal Canadiens</td>\n",
       "      <td>{'x': -45.0, 'y': -14.0}</td>\n",
       "      <td>-45.0</td>\n",
       "      <td>-14.0</td>\n",
       "      <td>Tyler Toffoli</td>\n",
       "      <td>Andrei Vasilevskiy</td>\n",
       "      <td>Wrist Shot</td>\n",
       "      <td>False</td>\n",
       "      <td>None</td>\n",
       "      <td>left</td>\n",
       "    </tr>\n",
       "    <tr>\n",
       "      <th>55462</th>\n",
       "      <td>2020030415</td>\n",
       "      <td>19:10</td>\n",
       "      <td>SHOT</td>\n",
       "      <td>3</td>\n",
       "      <td>Montréal Canadiens</td>\n",
       "      <td>{'x': -77.0, 'y': -3.0}</td>\n",
       "      <td>-77.0</td>\n",
       "      <td>-3.0</td>\n",
       "      <td>Cole Caufield</td>\n",
       "      <td>Andrei Vasilevskiy</td>\n",
       "      <td>Backhand</td>\n",
       "      <td>False</td>\n",
       "      <td>None</td>\n",
       "      <td>left</td>\n",
       "    </tr>\n",
       "    <tr>\n",
       "      <th>55463</th>\n",
       "      <td>2020030415</td>\n",
       "      <td>19:24</td>\n",
       "      <td>SHOT</td>\n",
       "      <td>3</td>\n",
       "      <td>Montréal Canadiens</td>\n",
       "      <td>{'x': -77.0, 'y': 18.0}</td>\n",
       "      <td>-77.0</td>\n",
       "      <td>18.0</td>\n",
       "      <td>Cole Caufield</td>\n",
       "      <td>Andrei Vasilevskiy</td>\n",
       "      <td>Wrist Shot</td>\n",
       "      <td>False</td>\n",
       "      <td>None</td>\n",
       "      <td>left</td>\n",
       "    </tr>\n",
       "  </tbody>\n",
       "</table>\n",
       "<p>55464 rows × 14 columns</p>\n",
       "</div>"
      ],
      "text/plain": [
       "          game_id   time event_type  period                 team  \\\n",
       "0      2020020001  00:16       SHOT       1  Philadelphia Flyers   \n",
       "1      2020020001  00:34       SHOT       1  Pittsburgh Penguins   \n",
       "2      2020020001  01:05       SHOT       1  Philadelphia Flyers   \n",
       "3      2020020001  02:51       SHOT       1  Pittsburgh Penguins   \n",
       "4      2020020001  03:44       SHOT       1  Philadelphia Flyers   \n",
       "...           ...    ...        ...     ...                  ...   \n",
       "55459  2020030415  16:19       SHOT       3  Tampa Bay Lightning   \n",
       "55460  2020030415  17:13       SHOT       3  Tampa Bay Lightning   \n",
       "55461  2020030415  19:01       SHOT       3   Montréal Canadiens   \n",
       "55462  2020030415  19:10       SHOT       3   Montréal Canadiens   \n",
       "55463  2020030415  19:24       SHOT       3   Montréal Canadiens   \n",
       "\n",
       "                    coordinates     x     y            shooter  \\\n",
       "0       {'x': -74.0, 'y': 29.0} -74.0  29.0     Travis Konecny   \n",
       "1       {'x': 49.0, 'y': -25.0}  49.0 -25.0     Evan Rodrigues   \n",
       "2      {'x': -52.0, 'y': -31.0} -52.0 -31.0       Joel Farabee   \n",
       "3        {'x': 43.0, 'y': 39.0}  43.0  39.0     Evan Rodrigues   \n",
       "4        {'x': -53.0, 'y': 8.0} -53.0   8.0      Claude Giroux   \n",
       "...                         ...   ...   ...                ...   \n",
       "55459    {'x': 57.0, 'y': 30.0}  57.0  30.0      Blake Coleman   \n",
       "55460   {'x': 56.0, 'y': -31.0}  56.0 -31.0  Mikhail Sergachev   \n",
       "55461  {'x': -45.0, 'y': -14.0} -45.0 -14.0      Tyler Toffoli   \n",
       "55462   {'x': -77.0, 'y': -3.0} -77.0  -3.0      Cole Caufield   \n",
       "55463   {'x': -77.0, 'y': 18.0} -77.0  18.0      Cole Caufield   \n",
       "\n",
       "                   goalie   shot_type  empty_net strength opposite_team_side  \n",
       "0           Tristan Jarry  Wrist Shot      False     None               left  \n",
       "1             Carter Hart  Wrist Shot      False     None              right  \n",
       "2           Tristan Jarry    Backhand      False     None               left  \n",
       "3             Carter Hart   Snap Shot      False     None              right  \n",
       "4           Tristan Jarry   Slap Shot      False     None               left  \n",
       "...                   ...         ...        ...      ...                ...  \n",
       "55459         Carey Price  Wrist Shot      False     None              right  \n",
       "55460         Carey Price    Backhand      False     None              right  \n",
       "55461  Andrei Vasilevskiy  Wrist Shot      False     None               left  \n",
       "55462  Andrei Vasilevskiy    Backhand      False     None               left  \n",
       "55463  Andrei Vasilevskiy  Wrist Shot      False     None               left  \n",
       "\n",
       "[55464 rows x 14 columns]"
      ]
     },
     "execution_count": 10,
     "metadata": {},
     "output_type": "execute_result"
    }
   ],
   "source": [
    "w.getTestSet(2020)"
   ]
  },
  {
   "cell_type": "code",
   "execution_count": 11,
   "id": "cc4259e0-4781-4037-abbd-d879ed4422c3",
   "metadata": {},
   "outputs": [],
   "source": [
    "goals = w.TrainValSets.loc[w.TrainValSets['is_goal']==1]"
   ]
  },
  {
   "cell_type": "code",
   "execution_count": 12,
   "id": "eb98aad5-120d-4729-b71f-32f2f0b5a677",
   "metadata": {},
   "outputs": [],
   "source": [
    "shots = w.TrainValSets.loc[w.TrainValSets['is_goal']==0]"
   ]
  },
  {
   "cell_type": "code",
   "execution_count": 13,
   "id": "cc98bb50-1126-40ee-a1fd-d194a59ba0d1",
   "metadata": {},
   "outputs": [],
   "source": [
    "import seaborn as sns"
   ]
  },
  {
   "cell_type": "code",
   "execution_count": 14,
   "id": "829abe03-98b6-46a0-9aae-012063abe0eb",
   "metadata": {},
   "outputs": [
    {
     "name": "stdout",
     "output_type": "stream",
     "text": [
      "        empty_net  is_goal   distance      angle\n",
      "6               0        1  20.024984   2.862405\n",
      "11              0        1   8.544004  20.556045\n",
      "14              0        1  56.008928  -1.023030\n",
      "15              0        1  31.304952 -63.434949\n",
      "24              0        1  19.798990 -45.000000\n",
      "...           ...      ...        ...        ...\n",
      "298069          0        1  24.083189  41.633539\n",
      "298076          0        1  11.180340 -10.304846\n",
      "298112          0        1   5.656854 -45.000000\n",
      "298120          0        1  31.890437  41.185925\n",
      "298128          0        1   9.899495  45.000000\n",
      "\n",
      "[28301 rows x 4 columns]\n"
     ]
    }
   ],
   "source": [
    "print(goals)"
   ]
  },
  {
   "cell_type": "code",
   "execution_count": 25,
   "id": "4258df1b-f302-4d0d-b925-c58ce3546c8f",
   "metadata": {},
   "outputs": [
    {
     "data": {
      "text/plain": [
       "<Axes: xlabel='distance', ylabel='Count'>"
      ]
     },
     "execution_count": 25,
     "metadata": {},
     "output_type": "execute_result"
    },
    {
     "data": {
      "image/png": "[encoded data removed]",
      "text/plain": [
       "<Figure size 640x480 with 1 Axes>"
      ]
     },
     "metadata": {},
     "output_type": "display_data"
    }
   ],
   "source": [
    "sns.histplot(data = goals, x = 'distance', bins = 20)"
   ]
  },
  {
   "cell_type": "code",
   "execution_count": 23,
   "id": "d352cd69-165f-45e1-b7e2-ea1f6862c897",
   "metadata": {},
   "outputs": [
    {
     "data": {
      "text/plain": [
       "<Axes: xlabel='distance', ylabel='Count'>"
      ]
     },
     "execution_count": 23,
     "metadata": {},
     "output_type": "execute_result"
    },
    {
     "data": {
      "image/png": "[encoded data removed]",
      "text/plain": [
       "<Figure size 640x480 with 1 Axes>"
      ]
     },
     "metadata": {},
     "output_type": "display_data"
    }
   ],
   "source": [
    "sns.histplot(data = shots, x = 'distance', bins = 20)"
   ]
  },
  {
   "cell_type": "code",
   "execution_count": 26,
   "id": "9d0dc043-5988-4dac-9e6f-5d6275d48404",
   "metadata": {},
   "outputs": [
    {
     "data": {
      "text/plain": [
       "<Axes: xlabel='distance', ylabel='Count'>"
      ]
     },
     "execution_count": 26,
     "metadata": {},
     "output_type": "execute_result"
    },
    {
     "data": {
      "image/png": "[encoded data removed]",
      "text/plain": [
       "<Figure size 640x480 with 1 Axes>"
      ]
     },
     "metadata": {},
     "output_type": "display_data"
    }
   ],
   "source": [
    "sns.histplot(data = w.TrainValSets, x = 'distance', bins = 20, hue = 'is_goal')"
   ]
  },
  {
   "cell_type": "code",
   "execution_count": 27,
   "id": "79a535c9-8123-4b32-8856-7caefc71319c",
   "metadata": {},
   "outputs": [
    {
     "data": {
      "text/plain": [
       "<Axes: xlabel='angle', ylabel='Count'>"
      ]
     },
     "execution_count": 27,
     "metadata": {},
     "output_type": "execute_result"
    },
    {
     "data": {
      "image/png": "[encoded data removed]",
      "text/plain": [
       "<Figure size 640x480 with 1 Axes>"
      ]
     },
     "metadata": {},
     "output_type": "display_data"
    }
   ],
   "source": [
    "sns.histplot(data = w.TrainValSets, x = 'angle', bins = 20, hue = 'is_goal')"
   ]
  },
  {
   "cell_type": "code",
   "execution_count": 28,
   "id": "6669b27e-2070-485b-b0c2-77840a9ce543",
   "metadata": {},
   "outputs": [
    {
     "data": {
      "text/plain": [
       "<Axes: xlabel='angle', ylabel='distance'>"
      ]
     },
     "execution_count": 28,
     "metadata": {},
     "output_type": "execute_result"
    },
    {
     "data": {
      "image/png": "[encoded data removed]",
      "text/plain": [
       "<Figure size 640x480 with 1 Axes>"
      ]
     },
     "metadata": {},
     "output_type": "display_data"
    }
   ],
   "source": [
    "sns.histplot(data = w.TrainValSets, x = 'angle', y='distance', bins = 20)"
   ]
  },
  {
   "cell_type": "code",
   "execution_count": null,
   "id": "e1369702-0a89-4234-bf14-0d34d6971cae",
   "metadata": {},
   "outputs": [],
   "source": []
  }
 ],
 "metadata": {
  "kernelspec": {
   "display_name": "Python 3 (ipykernel)",
   "language": "python",
   "name": "python3"
  },
  "language_info": {
   "codemirror_mode": {
    "name": "ipython",
    "version": 3
   },
   "file_extension": ".py",
   "mimetype": "text/x-python",
   "name": "python",
   "nbconvert_exporter": "python",
   "pygments_lexer": "ipython3",
   "version": "3.11.4"
  }
 },
 "nbformat": 4,
 "nbformat_minor": 5
}
